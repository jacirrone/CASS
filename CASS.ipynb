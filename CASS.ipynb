{
 "cells": [
  {
   "cell_type": "code",
   "execution_count": null,
   "metadata": {},
   "outputs": [],
   "source": []
  },
  {
   "cell_type": "markdown",
   "metadata": {},
   "source": [
    "# Classification"
   ]
  },
  {
   "cell_type": "code",
   "execution_count": 1,
   "metadata": {},
   "outputs": [],
   "source": [
    "import os\n",
    "import numpy as np\n",
    "import pytorch_lightning as pl\n",
    "import torch\n",
    "import pandas as pd\n",
    "import timm\n",
    "import torch.nn as nn\n",
    "from tqdm import tqdm\n",
    "from PIL import Image\n",
    "from sklearn.model_selection import KFold\n",
    "from torchvision import transforms as tsfm\n",
    "from torch.utils.data import Dataset, DataLoader\n",
    "from pytorch_lightning import Trainer, seed_everything\n",
    "from pytorch_lightning.loggers import CSVLogger\n",
    "from pytorch_lightning.callbacks import ModelCheckpoint, EarlyStopping\n",
    "from torchcontrib.optim import SWA\n",
    "from torchmetrics import Metric\n",
    "from torch.utils.tensorboard import SummaryWriter"
   ]
  },
  {
   "cell_type": "code",
   "execution_count": 2,
   "metadata": {},
   "outputs": [],
   "source": [
    "class CFG:\n",
    "    # data path\n",
    "    train_csv_path = '/scratch/ps4364/BTMRI/data/train.csv'\n",
    "    train_imgs_dir = '/scratch/ps4364/BTMRI/data/Training/'\n",
    "    # model info\n",
    "    # label info\n",
    "    label_num2str = {0: 'glioma',\n",
    "                     1: 'pituitary',\n",
    "                     2:'notumor',\n",
    "                     3:'meningioma'\n",
    "                     }\n",
    "    label_str2num = {'glioma': 0,\n",
    "                     'pituitary':1,\n",
    "                     'notumor':2,\n",
    "                     'meningioma':3\n",
    "                     }\n",
    "    fl_alpha = 1.0  # alpha of focal_loss\n",
    "    fl_gamma = 2.0  # gamma of focal_loss\n",
    "    cls_weight =  [0.2, 0.5970802919708029, 1.0, 0.25255474452554744]\n",
    "    cnn_name='resnet50'\n",
    "    vit_name='vit_base_patch16_384'\n",
    "    seed = 77\n",
    "    num_classes = 4\n",
    "    batch_size = 16\n",
    "    t_max = 16\n",
    "    lr = 1e-3\n",
    "    min_lr = 1e-6\n",
    "    n_fold = 6\n",
    "    num_workers = 8\n",
    "    gpu_idx = 0\n",
    "    device = torch.device(f'cuda:{gpu_idx}' if torch.cuda.is_available() else 'cpu')\n",
    "    gpu_list = [gpu_idx]"
   ]
  },
  {
   "cell_type": "code",
   "execution_count": 3,
   "metadata": {},
   "outputs": [
    {
     "name": "stdout",
     "output_type": "stream",
     "text": [
      "Original Array =  [1321, 1457, 1595, 1339]\n",
      "Normalized Array =  [0.2, 0.5970802919708029, 1.0, 0.25255474452554744]\n"
     ]
    }
   ],
   "source": [
    "def normalize(arr, t_min, t_max):\n",
    "    norm_arr = []\n",
    "    diff = t_max - t_min\n",
    "    diff_arr = max(arr) - min(arr)\n",
    "    for i in arr:\n",
    "        temp = (((i - min(arr))*diff)/diff_arr) + t_min\n",
    "        norm_arr.append(temp)\n",
    "    return norm_arr\n",
    "  \n",
    "# assign array and range\n",
    "array_1d = [1321,1457,1595,1339]\n",
    "range_to_normalize = (0.2, 1)\n",
    "normalized_array_1d = normalize(\n",
    "    array_1d, range_to_normalize[0], \n",
    "  range_to_normalize[1])\n",
    "  \n",
    "# display original and normalized array\n",
    "print(\"Original Array = \", array_1d)\n",
    "print(\"Normalized Array = \", normalized_array_1d)"
   ]
  },
  {
   "cell_type": "code",
   "execution_count": 4,
   "metadata": {},
   "outputs": [
    {
     "name": "stderr",
     "output_type": "stream",
     "text": [
      "Global seed set to 77\n"
     ]
    },
    {
     "data": {
      "text/plain": [
       "77"
      ]
     },
     "execution_count": 4,
     "metadata": {},
     "output_type": "execute_result"
    }
   ],
   "source": [
    "device = torch.device(\"cuda:0\" if torch.cuda.is_available() else \"cpu\")\n",
    "seed_everything(77)"
   ]
  },
  {
   "cell_type": "code",
   "execution_count": 5,
   "metadata": {},
   "outputs": [],
   "source": [
    "\"\"\"\n",
    "Define train & valid image transformation\n",
    "\"\"\"\n",
    "DATASET_IMAGE_MEAN = (0.485, 0.456, 0.406)\n",
    "DATASET_IMAGE_STD = (0.229, 0.224, 0.225)\n",
    "\n",
    "train_transform = tsfm.Compose([tsfm.Resize((384,384)),\n",
    "                                tsfm.RandomApply([tsfm.ColorJitter(0.2, 0.2, 0.2),tsfm.RandomPerspective(distortion_scale=0.2),], p=0.3),\n",
    "                                tsfm.RandomApply([tsfm.RandomAffine(degrees=10),], p=0.3),\n",
    "                                tsfm.RandomVerticalFlip(p=0.3),\n",
    "                                tsfm.RandomHorizontalFlip(p=0.3),\n",
    "                                tsfm.ToTensor(),\n",
    "                                tsfm.Normalize(DATASET_IMAGE_MEAN, DATASET_IMAGE_STD), ])\n",
    "\n",
    "valid_transform = tsfm.Compose([tsfm.Resize((384,384)),\n",
    "                                tsfm.ToTensor(),\n",
    "                                tsfm.Normalize(DATASET_IMAGE_MEAN, DATASET_IMAGE_STD), ])"
   ]
  },
  {
   "cell_type": "code",
   "execution_count": 6,
   "metadata": {},
   "outputs": [],
   "source": [
    "\"\"\"\n",
    "Define dataset class\n",
    "\"\"\"\n",
    "class Dataset(Dataset):\n",
    "    def __init__(self, cfg, img_names: list, labels: list, transform=None):\n",
    "        self.img_dir = cfg.train_imgs_dir\n",
    "        self.img_names = img_names\n",
    "        self.labels = labels\n",
    "        self.transform = transform\n",
    "\n",
    "    def __len__(self):\n",
    "        return len(self.img_names)\n",
    "\n",
    "    def __getitem__(self, idx):\n",
    "        img_path = self.img_names[idx]\n",
    "        img = Image.open(img_path).convert('RGB')\n",
    "        img_ts = self.transform(img)\n",
    "        label_ts = self.labels[idx]\n",
    "        return img_ts, label_ts"
   ]
  },
  {
   "cell_type": "code",
   "execution_count": 7,
   "metadata": {},
   "outputs": [],
   "source": [
    "\"\"\"\n",
    "Define Focal-Loss\n",
    "\"\"\"\n",
    "\n",
    "class FocalLoss(nn.Module):\n",
    "    \"\"\"\n",
    "    The focal loss for fighting against class-imbalance\n",
    "    \"\"\"\n",
    "    def __init__(self, alpha=1, gamma=2):\n",
    "        super(FocalLoss, self).__init__()\n",
    "        self.alpha = alpha\n",
    "        self.gamma = gamma\n",
    "        self.epsilon = 1e-12  # prevent training from Nan-loss error\n",
    "        self.cls_weights = torch.tensor([CFG.cls_weight],dtype=torch.float, requires_grad=False, device=CFG.device)\n",
    "\n",
    "    def forward(self, logits, target):\n",
    "        \"\"\"\n",
    "        logits & target should be tensors with shape [batch_size, num_classes]\n",
    "        \"\"\"\n",
    "        probs = torch.sigmoid(logits)\n",
    "        one_subtract_probs = 1.0 - probs\n",
    "        # add epsilon\n",
    "        probs_new = probs + self.epsilon\n",
    "        one_subtract_probs_new = one_subtract_probs + self.epsilon\n",
    "        # calculate focal loss\n",
    "        log_pt = target * torch.log(probs_new) + (1.0 - target) * torch.log(one_subtract_probs_new)\n",
    "        pt = torch.exp(log_pt)\n",
    "        focal_loss = -1.0 * (self.alpha * (1 - pt) ** self.gamma) * log_pt\n",
    "        focal_loss = focal_loss * self.cls_weights\n",
    "        return torch.mean(focal_loss)"
   ]
  },
  {
   "cell_type": "code",
   "execution_count": 8,
   "metadata": {},
   "outputs": [],
   "source": [
    "\"\"\"\n",
    "Define F1 score metric\n",
    "\"\"\"\n",
    "class MyF1Score(Metric):\n",
    "    def __init__(self, cfg, threshold: float = 0.5, dist_sync_on_step=False):\n",
    "        super().__init__(dist_sync_on_step=dist_sync_on_step)\n",
    "        self.cfg = cfg\n",
    "        self.threshold = threshold\n",
    "        self.add_state(\"tp\", default=torch.tensor(0), dist_reduce_fx=\"sum\")\n",
    "        self.add_state(\"fp\", default=torch.tensor(0), dist_reduce_fx=\"sum\")\n",
    "        self.add_state(\"fn\", default=torch.tensor(0), dist_reduce_fx=\"sum\")\n",
    "\n",
    "    def update(self, preds: torch.Tensor, target: torch.Tensor):\n",
    "        assert preds.shape == target.shape\n",
    "        preds_str_batch = self.num_to_str(torch.sigmoid(preds))\n",
    "        target_str_batch = self.num_to_str(target)\n",
    "        tp, fp, fn = 0, 0, 0\n",
    "        for pred_str_list, target_str_list in zip(preds_str_batch, target_str_batch):\n",
    "            for pred_str in pred_str_list:\n",
    "                if pred_str in target_str_list:\n",
    "                    tp += 1\n",
    "                if pred_str not in target_str_list:\n",
    "                    fp += 1\n",
    "\n",
    "            for target_str in target_str_list:\n",
    "                if target_str not in pred_str_list:\n",
    "                    fn += 1\n",
    "        self.tp += tp\n",
    "        self.fp += fp\n",
    "        self.fn += fn\n",
    "\n",
    "    def compute(self):\n",
    "        f1 = 2.0 * self.tp / (2.0 * self.tp + self.fn + self.fp)\n",
    "        return f1\n",
    "    \n",
    "    def num_to_str(self, ts: torch.Tensor) -> list:\n",
    "        batch_bool_list = (ts > self.threshold).detach().cpu().numpy().tolist()\n",
    "        batch_str_list = []\n",
    "        for one_sample_bool in batch_bool_list:\n",
    "            lb_str_list = [self.cfg.label_num2str[lb_idx] for lb_idx, bool_val in enumerate(one_sample_bool) if bool_val]\n",
    "            if len(lb_str_list) == 0:\n",
    "                lb_str_list = ['healthy']\n",
    "            batch_str_list.append(lb_str_list)\n",
    "        return batch_str_list"
   ]
  },
  {
   "cell_type": "code",
   "execution_count": 9,
   "metadata": {},
   "outputs": [],
   "source": [
    "TRAIN_DF = pd.read_csv(CFG.train_csv_path)"
   ]
  },
  {
   "cell_type": "code",
   "execution_count": 10,
   "metadata": {},
   "outputs": [
    {
     "data": {
      "text/html": [
       "<div>\n",
       "<style scoped>\n",
       "    .dataframe tbody tr th:only-of-type {\n",
       "        vertical-align: middle;\n",
       "    }\n",
       "\n",
       "    .dataframe tbody tr th {\n",
       "        vertical-align: top;\n",
       "    }\n",
       "\n",
       "    .dataframe thead th {\n",
       "        text-align: right;\n",
       "    }\n",
       "</style>\n",
       "<table border=\"1\" class=\"dataframe\">\n",
       "  <thead>\n",
       "    <tr style=\"text-align: right;\">\n",
       "      <th></th>\n",
       "      <th>Unnamed: 0</th>\n",
       "      <th>path</th>\n",
       "      <th>target</th>\n",
       "    </tr>\n",
       "  </thead>\n",
       "  <tbody>\n",
       "    <tr>\n",
       "      <th>0</th>\n",
       "      <td>0</td>\n",
       "      <td>/scratch/ps4364/BTMRI/data/Training/glioma/Tr-...</td>\n",
       "      <td>glioma</td>\n",
       "    </tr>\n",
       "    <tr>\n",
       "      <th>1</th>\n",
       "      <td>1</td>\n",
       "      <td>/scratch/ps4364/BTMRI/data/Training/glioma/Tr-...</td>\n",
       "      <td>glioma</td>\n",
       "    </tr>\n",
       "    <tr>\n",
       "      <th>2</th>\n",
       "      <td>2</td>\n",
       "      <td>/scratch/ps4364/BTMRI/data/Training/glioma/Tr-...</td>\n",
       "      <td>glioma</td>\n",
       "    </tr>\n",
       "    <tr>\n",
       "      <th>3</th>\n",
       "      <td>3</td>\n",
       "      <td>/scratch/ps4364/BTMRI/data/Training/glioma/Tr-...</td>\n",
       "      <td>glioma</td>\n",
       "    </tr>\n",
       "    <tr>\n",
       "      <th>4</th>\n",
       "      <td>4</td>\n",
       "      <td>/scratch/ps4364/BTMRI/data/Training/glioma/Tr-...</td>\n",
       "      <td>glioma</td>\n",
       "    </tr>\n",
       "    <tr>\n",
       "      <th>...</th>\n",
       "      <td>...</td>\n",
       "      <td>...</td>\n",
       "      <td>...</td>\n",
       "    </tr>\n",
       "    <tr>\n",
       "      <th>5707</th>\n",
       "      <td>5707</td>\n",
       "      <td>/scratch/ps4364/BTMRI/data/Training/meningioma...</td>\n",
       "      <td>meningioma</td>\n",
       "    </tr>\n",
       "    <tr>\n",
       "      <th>5708</th>\n",
       "      <td>5708</td>\n",
       "      <td>/scratch/ps4364/BTMRI/data/Training/meningioma...</td>\n",
       "      <td>meningioma</td>\n",
       "    </tr>\n",
       "    <tr>\n",
       "      <th>5709</th>\n",
       "      <td>5709</td>\n",
       "      <td>/scratch/ps4364/BTMRI/data/Training/meningioma...</td>\n",
       "      <td>meningioma</td>\n",
       "    </tr>\n",
       "    <tr>\n",
       "      <th>5710</th>\n",
       "      <td>5710</td>\n",
       "      <td>/scratch/ps4364/BTMRI/data/Training/meningioma...</td>\n",
       "      <td>meningioma</td>\n",
       "    </tr>\n",
       "    <tr>\n",
       "      <th>5711</th>\n",
       "      <td>5711</td>\n",
       "      <td>/scratch/ps4364/BTMRI/data/Training/meningioma...</td>\n",
       "      <td>meningioma</td>\n",
       "    </tr>\n",
       "  </tbody>\n",
       "</table>\n",
       "<p>5712 rows × 3 columns</p>\n",
       "</div>"
      ],
      "text/plain": [
       "      Unnamed: 0                                               path  \\\n",
       "0              0  /scratch/ps4364/BTMRI/data/Training/glioma/Tr-...   \n",
       "1              1  /scratch/ps4364/BTMRI/data/Training/glioma/Tr-...   \n",
       "2              2  /scratch/ps4364/BTMRI/data/Training/glioma/Tr-...   \n",
       "3              3  /scratch/ps4364/BTMRI/data/Training/glioma/Tr-...   \n",
       "4              4  /scratch/ps4364/BTMRI/data/Training/glioma/Tr-...   \n",
       "...          ...                                                ...   \n",
       "5707        5707  /scratch/ps4364/BTMRI/data/Training/meningioma...   \n",
       "5708        5708  /scratch/ps4364/BTMRI/data/Training/meningioma...   \n",
       "5709        5709  /scratch/ps4364/BTMRI/data/Training/meningioma...   \n",
       "5710        5710  /scratch/ps4364/BTMRI/data/Training/meningioma...   \n",
       "5711        5711  /scratch/ps4364/BTMRI/data/Training/meningioma...   \n",
       "\n",
       "          target  \n",
       "0         glioma  \n",
       "1         glioma  \n",
       "2         glioma  \n",
       "3         glioma  \n",
       "4         glioma  \n",
       "...          ...  \n",
       "5707  meningioma  \n",
       "5708  meningioma  \n",
       "5709  meningioma  \n",
       "5710  meningioma  \n",
       "5711  meningioma  \n",
       "\n",
       "[5712 rows x 3 columns]"
      ]
     },
     "execution_count": 10,
     "metadata": {},
     "output_type": "execute_result"
    }
   ],
   "source": [
    "TRAIN_DF"
   ]
  },
  {
   "cell_type": "code",
   "execution_count": 11,
   "metadata": {},
   "outputs": [],
   "source": [
    "\n",
    "\"\"\"\n",
    "Split train & validation into Cross-Validation Folds\n",
    "\"\"\"\n",
    "\n",
    "all_img_names: list = TRAIN_DF[\"path\"].values.tolist()\n",
    "all_img_labels: list = TRAIN_DF[\"target\"].values.tolist()"
   ]
  },
  {
   "cell_type": "code",
   "execution_count": 12,
   "metadata": {},
   "outputs": [],
   "source": [
    "cfg=CFG()\n",
    "all_img_labels_ts = []\n",
    "for tmp_lb in all_img_labels:\n",
    "    tmp_label = torch.zeros([CFG.num_classes], dtype=torch.float)\n",
    "    place=cfg.label_str2num.get(tmp_lb)\n",
    "    k=int(place)\n",
    "    tmp_label[k] = 1.0\n",
    "    all_img_labels_ts.append(tmp_label)\n",
    "    \n",
    "k_fold = KFold(n_splits=CFG.n_fold, shuffle=True, random_state=CFG.seed)"
   ]
  },
  {
   "cell_type": "code",
   "execution_count": 13,
   "metadata": {},
   "outputs": [
    {
     "name": "stdout",
     "output_type": "stream",
     "text": [
      "<generator object _BaseKFold.split at 0x1511a8db6900>\n"
     ]
    }
   ],
   "source": [
    "print(k_fold.split(all_img_names))"
   ]
  },
  {
   "cell_type": "code",
   "execution_count": 14,
   "metadata": {},
   "outputs": [
    {
     "data": {
      "text/plain": [
       "5712"
      ]
     },
     "execution_count": 14,
     "metadata": {},
     "output_type": "execute_result"
    }
   ],
   "source": [
    "len(all_img_labels_ts)"
   ]
  },
  {
   "cell_type": "code",
   "execution_count": 15,
   "metadata": {},
   "outputs": [],
   "source": [
    "for fold_idx, (train_indices, valid_indices) in enumerate(k_fold.split(all_img_names)):\n",
    "    break"
   ]
  },
  {
   "cell_type": "code",
   "execution_count": 16,
   "metadata": {},
   "outputs": [
    {
     "data": {
      "text/plain": [
       "0"
      ]
     },
     "execution_count": 16,
     "metadata": {},
     "output_type": "execute_result"
    }
   ],
   "source": [
    "fold_idx"
   ]
  },
  {
   "cell_type": "code",
   "execution_count": 17,
   "metadata": {},
   "outputs": [],
   "source": [
    "import timm\n",
    "cfg=CFG()"
   ]
  },
  {
   "cell_type": "code",
   "execution_count": 16,
   "metadata": {},
   "outputs": [
    {
     "data": {
      "text/plain": [
       "VisionTransformer(\n",
       "  (patch_embed): PatchEmbed(\n",
       "    (proj): Conv2d(3, 768, kernel_size=(16, 16), stride=(16, 16))\n",
       "    (norm): Identity()\n",
       "  )\n",
       "  (pos_drop): Dropout(p=0.0, inplace=False)\n",
       "  (blocks): Sequential(\n",
       "    (0): Block(\n",
       "      (norm1): LayerNorm((768,), eps=1e-06, elementwise_affine=True)\n",
       "      (attn): Attention(\n",
       "        (qkv): Linear(in_features=768, out_features=2304, bias=True)\n",
       "        (attn_drop): Dropout(p=0.0, inplace=False)\n",
       "        (proj): Linear(in_features=768, out_features=768, bias=True)\n",
       "        (proj_drop): Dropout(p=0.0, inplace=False)\n",
       "      )\n",
       "      (drop_path): Identity()\n",
       "      (norm2): LayerNorm((768,), eps=1e-06, elementwise_affine=True)\n",
       "      (mlp): Mlp(\n",
       "        (fc1): Linear(in_features=768, out_features=3072, bias=True)\n",
       "        (act): GELU()\n",
       "        (drop1): Dropout(p=0.0, inplace=False)\n",
       "        (fc2): Linear(in_features=3072, out_features=768, bias=True)\n",
       "        (drop2): Dropout(p=0.0, inplace=False)\n",
       "      )\n",
       "    )\n",
       "    (1): Block(\n",
       "      (norm1): LayerNorm((768,), eps=1e-06, elementwise_affine=True)\n",
       "      (attn): Attention(\n",
       "        (qkv): Linear(in_features=768, out_features=2304, bias=True)\n",
       "        (attn_drop): Dropout(p=0.0, inplace=False)\n",
       "        (proj): Linear(in_features=768, out_features=768, bias=True)\n",
       "        (proj_drop): Dropout(p=0.0, inplace=False)\n",
       "      )\n",
       "      (drop_path): Identity()\n",
       "      (norm2): LayerNorm((768,), eps=1e-06, elementwise_affine=True)\n",
       "      (mlp): Mlp(\n",
       "        (fc1): Linear(in_features=768, out_features=3072, bias=True)\n",
       "        (act): GELU()\n",
       "        (drop1): Dropout(p=0.0, inplace=False)\n",
       "        (fc2): Linear(in_features=3072, out_features=768, bias=True)\n",
       "        (drop2): Dropout(p=0.0, inplace=False)\n",
       "      )\n",
       "    )\n",
       "    (2): Block(\n",
       "      (norm1): LayerNorm((768,), eps=1e-06, elementwise_affine=True)\n",
       "      (attn): Attention(\n",
       "        (qkv): Linear(in_features=768, out_features=2304, bias=True)\n",
       "        (attn_drop): Dropout(p=0.0, inplace=False)\n",
       "        (proj): Linear(in_features=768, out_features=768, bias=True)\n",
       "        (proj_drop): Dropout(p=0.0, inplace=False)\n",
       "      )\n",
       "      (drop_path): Identity()\n",
       "      (norm2): LayerNorm((768,), eps=1e-06, elementwise_affine=True)\n",
       "      (mlp): Mlp(\n",
       "        (fc1): Linear(in_features=768, out_features=3072, bias=True)\n",
       "        (act): GELU()\n",
       "        (drop1): Dropout(p=0.0, inplace=False)\n",
       "        (fc2): Linear(in_features=3072, out_features=768, bias=True)\n",
       "        (drop2): Dropout(p=0.0, inplace=False)\n",
       "      )\n",
       "    )\n",
       "    (3): Block(\n",
       "      (norm1): LayerNorm((768,), eps=1e-06, elementwise_affine=True)\n",
       "      (attn): Attention(\n",
       "        (qkv): Linear(in_features=768, out_features=2304, bias=True)\n",
       "        (attn_drop): Dropout(p=0.0, inplace=False)\n",
       "        (proj): Linear(in_features=768, out_features=768, bias=True)\n",
       "        (proj_drop): Dropout(p=0.0, inplace=False)\n",
       "      )\n",
       "      (drop_path): Identity()\n",
       "      (norm2): LayerNorm((768,), eps=1e-06, elementwise_affine=True)\n",
       "      (mlp): Mlp(\n",
       "        (fc1): Linear(in_features=768, out_features=3072, bias=True)\n",
       "        (act): GELU()\n",
       "        (drop1): Dropout(p=0.0, inplace=False)\n",
       "        (fc2): Linear(in_features=3072, out_features=768, bias=True)\n",
       "        (drop2): Dropout(p=0.0, inplace=False)\n",
       "      )\n",
       "    )\n",
       "    (4): Block(\n",
       "      (norm1): LayerNorm((768,), eps=1e-06, elementwise_affine=True)\n",
       "      (attn): Attention(\n",
       "        (qkv): Linear(in_features=768, out_features=2304, bias=True)\n",
       "        (attn_drop): Dropout(p=0.0, inplace=False)\n",
       "        (proj): Linear(in_features=768, out_features=768, bias=True)\n",
       "        (proj_drop): Dropout(p=0.0, inplace=False)\n",
       "      )\n",
       "      (drop_path): Identity()\n",
       "      (norm2): LayerNorm((768,), eps=1e-06, elementwise_affine=True)\n",
       "      (mlp): Mlp(\n",
       "        (fc1): Linear(in_features=768, out_features=3072, bias=True)\n",
       "        (act): GELU()\n",
       "        (drop1): Dropout(p=0.0, inplace=False)\n",
       "        (fc2): Linear(in_features=3072, out_features=768, bias=True)\n",
       "        (drop2): Dropout(p=0.0, inplace=False)\n",
       "      )\n",
       "    )\n",
       "    (5): Block(\n",
       "      (norm1): LayerNorm((768,), eps=1e-06, elementwise_affine=True)\n",
       "      (attn): Attention(\n",
       "        (qkv): Linear(in_features=768, out_features=2304, bias=True)\n",
       "        (attn_drop): Dropout(p=0.0, inplace=False)\n",
       "        (proj): Linear(in_features=768, out_features=768, bias=True)\n",
       "        (proj_drop): Dropout(p=0.0, inplace=False)\n",
       "      )\n",
       "      (drop_path): Identity()\n",
       "      (norm2): LayerNorm((768,), eps=1e-06, elementwise_affine=True)\n",
       "      (mlp): Mlp(\n",
       "        (fc1): Linear(in_features=768, out_features=3072, bias=True)\n",
       "        (act): GELU()\n",
       "        (drop1): Dropout(p=0.0, inplace=False)\n",
       "        (fc2): Linear(in_features=3072, out_features=768, bias=True)\n",
       "        (drop2): Dropout(p=0.0, inplace=False)\n",
       "      )\n",
       "    )\n",
       "    (6): Block(\n",
       "      (norm1): LayerNorm((768,), eps=1e-06, elementwise_affine=True)\n",
       "      (attn): Attention(\n",
       "        (qkv): Linear(in_features=768, out_features=2304, bias=True)\n",
       "        (attn_drop): Dropout(p=0.0, inplace=False)\n",
       "        (proj): Linear(in_features=768, out_features=768, bias=True)\n",
       "        (proj_drop): Dropout(p=0.0, inplace=False)\n",
       "      )\n",
       "      (drop_path): Identity()\n",
       "      (norm2): LayerNorm((768,), eps=1e-06, elementwise_affine=True)\n",
       "      (mlp): Mlp(\n",
       "        (fc1): Linear(in_features=768, out_features=3072, bias=True)\n",
       "        (act): GELU()\n",
       "        (drop1): Dropout(p=0.0, inplace=False)\n",
       "        (fc2): Linear(in_features=3072, out_features=768, bias=True)\n",
       "        (drop2): Dropout(p=0.0, inplace=False)\n",
       "      )\n",
       "    )\n",
       "    (7): Block(\n",
       "      (norm1): LayerNorm((768,), eps=1e-06, elementwise_affine=True)\n",
       "      (attn): Attention(\n",
       "        (qkv): Linear(in_features=768, out_features=2304, bias=True)\n",
       "        (attn_drop): Dropout(p=0.0, inplace=False)\n",
       "        (proj): Linear(in_features=768, out_features=768, bias=True)\n",
       "        (proj_drop): Dropout(p=0.0, inplace=False)\n",
       "      )\n",
       "      (drop_path): Identity()\n",
       "      (norm2): LayerNorm((768,), eps=1e-06, elementwise_affine=True)\n",
       "      (mlp): Mlp(\n",
       "        (fc1): Linear(in_features=768, out_features=3072, bias=True)\n",
       "        (act): GELU()\n",
       "        (drop1): Dropout(p=0.0, inplace=False)\n",
       "        (fc2): Linear(in_features=3072, out_features=768, bias=True)\n",
       "        (drop2): Dropout(p=0.0, inplace=False)\n",
       "      )\n",
       "    )\n",
       "    (8): Block(\n",
       "      (norm1): LayerNorm((768,), eps=1e-06, elementwise_affine=True)\n",
       "      (attn): Attention(\n",
       "        (qkv): Linear(in_features=768, out_features=2304, bias=True)\n",
       "        (attn_drop): Dropout(p=0.0, inplace=False)\n",
       "        (proj): Linear(in_features=768, out_features=768, bias=True)\n",
       "        (proj_drop): Dropout(p=0.0, inplace=False)\n",
       "      )\n",
       "      (drop_path): Identity()\n",
       "      (norm2): LayerNorm((768,), eps=1e-06, elementwise_affine=True)\n",
       "      (mlp): Mlp(\n",
       "        (fc1): Linear(in_features=768, out_features=3072, bias=True)\n",
       "        (act): GELU()\n",
       "        (drop1): Dropout(p=0.0, inplace=False)\n",
       "        (fc2): Linear(in_features=3072, out_features=768, bias=True)\n",
       "        (drop2): Dropout(p=0.0, inplace=False)\n",
       "      )\n",
       "    )\n",
       "    (9): Block(\n",
       "      (norm1): LayerNorm((768,), eps=1e-06, elementwise_affine=True)\n",
       "      (attn): Attention(\n",
       "        (qkv): Linear(in_features=768, out_features=2304, bias=True)\n",
       "        (attn_drop): Dropout(p=0.0, inplace=False)\n",
       "        (proj): Linear(in_features=768, out_features=768, bias=True)\n",
       "        (proj_drop): Dropout(p=0.0, inplace=False)\n",
       "      )\n",
       "      (drop_path): Identity()\n",
       "      (norm2): LayerNorm((768,), eps=1e-06, elementwise_affine=True)\n",
       "      (mlp): Mlp(\n",
       "        (fc1): Linear(in_features=768, out_features=3072, bias=True)\n",
       "        (act): GELU()\n",
       "        (drop1): Dropout(p=0.0, inplace=False)\n",
       "        (fc2): Linear(in_features=3072, out_features=768, bias=True)\n",
       "        (drop2): Dropout(p=0.0, inplace=False)\n",
       "      )\n",
       "    )\n",
       "    (10): Block(\n",
       "      (norm1): LayerNorm((768,), eps=1e-06, elementwise_affine=True)\n",
       "      (attn): Attention(\n",
       "        (qkv): Linear(in_features=768, out_features=2304, bias=True)\n",
       "        (attn_drop): Dropout(p=0.0, inplace=False)\n",
       "        (proj): Linear(in_features=768, out_features=768, bias=True)\n",
       "        (proj_drop): Dropout(p=0.0, inplace=False)\n",
       "      )\n",
       "      (drop_path): Identity()\n",
       "      (norm2): LayerNorm((768,), eps=1e-06, elementwise_affine=True)\n",
       "      (mlp): Mlp(\n",
       "        (fc1): Linear(in_features=768, out_features=3072, bias=True)\n",
       "        (act): GELU()\n",
       "        (drop1): Dropout(p=0.0, inplace=False)\n",
       "        (fc2): Linear(in_features=3072, out_features=768, bias=True)\n",
       "        (drop2): Dropout(p=0.0, inplace=False)\n",
       "      )\n",
       "    )\n",
       "    (11): Block(\n",
       "      (norm1): LayerNorm((768,), eps=1e-06, elementwise_affine=True)\n",
       "      (attn): Attention(\n",
       "        (qkv): Linear(in_features=768, out_features=2304, bias=True)\n",
       "        (attn_drop): Dropout(p=0.0, inplace=False)\n",
       "        (proj): Linear(in_features=768, out_features=768, bias=True)\n",
       "        (proj_drop): Dropout(p=0.0, inplace=False)\n",
       "      )\n",
       "      (drop_path): Identity()\n",
       "      (norm2): LayerNorm((768,), eps=1e-06, elementwise_affine=True)\n",
       "      (mlp): Mlp(\n",
       "        (fc1): Linear(in_features=768, out_features=3072, bias=True)\n",
       "        (act): GELU()\n",
       "        (drop1): Dropout(p=0.0, inplace=False)\n",
       "        (fc2): Linear(in_features=3072, out_features=768, bias=True)\n",
       "        (drop2): Dropout(p=0.0, inplace=False)\n",
       "      )\n",
       "    )\n",
       "  )\n",
       "  (norm): LayerNorm((768,), eps=1e-06, elementwise_affine=True)\n",
       "  (pre_logits): Identity()\n",
       "  (head): Linear(in_features=768, out_features=1000, bias=True)\n",
       ")"
      ]
     },
     "execution_count": 16,
     "metadata": {},
     "output_type": "execute_result"
    }
   ],
   "source": [
    "import timm\n",
    "cfg=CFG()\n",
    "model_cnn = timm.create_model(cfg.cnn_name, pretrained=True)\n",
    "model_vit = timm.create_model(cfg.vit_name, pretrained=True)\n",
    "model_cnn.to(device)\n",
    "model_vit.to(device)"
   ]
  },
  {
   "cell_type": "code",
   "execution_count": 21,
   "metadata": {},
   "outputs": [],
   "source": [
    "def ssl_train_model(train_loader,model_vit,criterion_vit,optimizer_vit,scheduler_vit,model_cnn,criterion_cnn,optimizer_cnn,scheduler_cnn,num_epochs):\n",
    "    writer = SummaryWriter()\n",
    "    phase = 'train'\n",
    "    model_cnn.train()\n",
    "    model_vit.train()\n",
    "    f1_score_cnn=0\n",
    "    f1_score_vit=0\n",
    "    for i in tqdm(range(num_epochs)):\n",
    "        with torch.set_grad_enabled(phase == 'train'):\n",
    "            for img,_ in train_loader:\n",
    "                f1_score_cnn=0\n",
    "                f1_score_vit=0\n",
    "                img = img.to(device)\n",
    "                pred_vit = model_vit(img)\n",
    "                pred_cnn = model_cnn(img)\n",
    "                model_sim_loss=loss_fn(pred_vit,pred_cnn)\n",
    "                loss = model_sim_loss.mean()\n",
    "                loss.backward()\n",
    "                optimizer_cnn.step()\n",
    "                optimizer_vit.step()\n",
    "                scheduler_cnn.step()\n",
    "                scheduler_vit.step()\n",
    "            print('For -',i,'Loss:',loss) \n",
    "            writer.add_scalar(\"Self-Supervised Loss/train\", loss, i)\n",
    "    writer.flush()"
   ]
  },
  {
   "cell_type": "code",
   "execution_count": 22,
   "metadata": {},
   "outputs": [],
   "source": [
    "optimizer_cnn = SWA(torch.optim.Adam(model_cnn.parameters(), lr= 1e-3))\n",
    "optimizer_vit = SWA(torch.optim.Adam(model_vit.parameters(), lr= 1e-3))\n",
    "scheduler_cnn = torch.optim.lr_scheduler.CosineAnnealingLR(optimizer_cnn,\n",
    "                                                                    T_max=16,\n",
    "                                                                    eta_min=1e-6)\n",
    "scheduler_vit = torch.optim.lr_scheduler.CosineAnnealingLR(optimizer_vit,\n",
    "                                                                    T_max=16,\n",
    "                                                                    eta_min=1e-6)\n",
    "\n",
    "\n",
    "fl_alpha = 1.0  # alpha of focal_loss\n",
    "fl_gamma = 2.0  # gamma of focal_loss\n",
    "cls_weight = [0.9475164011246484, 0.4934395501405811, 0.5029053420805999, 0.2, 1.0]\n",
    "criterion_vit = FocalLoss(fl_alpha, fl_gamma)\n",
    "criterion_cnn = FocalLoss(fl_alpha, fl_gamma)"
   ]
  },
  {
   "cell_type": "code",
   "execution_count": 23,
   "metadata": {},
   "outputs": [],
   "source": [
    "def loss_fn(x, y):\n",
    "    x =  torch.nn.functional.normalize(x, dim=-1, p=2)\n",
    "    y =  torch.nn.functional.normalize(y, dim=-1, p=2)\n",
    "    return 2 - 2 * (x * y).sum(dim=-1)"
   ]
  },
  {
   "cell_type": "code",
   "execution_count": 24,
   "metadata": {},
   "outputs": [
    {
     "name": "stdout",
     "output_type": "stream",
     "text": [
      "0\n",
      "[   0    1    2 ... 5709 5710 5711]\n",
      "[  28   34   38   42   43   44   48   49   51   65   75   77   87   92\n",
      "  100  102  105  130  131  133  134  139  140  155  161  168  171  178\n",
      "  182  185  190  195  197  204  216  228  253  260  267  291  297  299\n",
      "  303  307  310  313  318  329  335  339  344  347  356  361  363  366\n",
      "  377  387  397  402  408  410  413  414  420  441  443  444  448  450\n",
      "  451  464  467  468  476  480  487  489  497  498  499  515  524  525\n",
      "  528  534  545  548  549  558  563  566  568  595  600  605  606  610\n",
      "  612  616  624  627  629  632  634  635  636  637  665  666  679  680\n",
      "  702  706  708  710  720  722  732  750  756  767  771  773  774  780\n",
      "  786  796  797  803  810  812  813  822  825  830  836  846  848  861\n",
      "  862  866  867  871  873  875  888  891  892  894  899  912  919  921\n",
      "  923  925  929  932  934  938  944  960  961  964  965  971  975  977\n",
      "  981  985  993  996  998 1002 1003 1004 1005 1006 1007 1017 1018 1021\n",
      " 1028 1047 1052 1055 1060 1061 1075 1079 1084 1089 1104 1106 1112 1113\n",
      " 1115 1117 1121 1122 1126 1139 1144 1150 1165 1167 1168 1172 1173 1178\n",
      " 1179 1198 1210 1215 1225 1231 1234 1239 1249 1255 1273 1274 1282 1285\n",
      " 1287 1288 1301 1310 1311 1322 1324 1325 1326 1327 1333 1334 1336 1338\n",
      " 1342 1345 1346 1349 1357 1358 1360 1361 1367 1372 1373 1375 1381 1383\n",
      " 1403 1407 1413 1419 1425 1437 1447 1462 1477 1478 1482 1489 1494 1495\n",
      " 1508 1517 1530 1549 1552 1558 1561 1564 1565 1566 1572 1589 1621 1624\n",
      " 1634 1640 1649 1651 1683 1700 1706 1707 1712 1718 1720 1725 1737 1747\n",
      " 1751 1764 1765 1769 1773 1776 1780 1786 1795 1803 1806 1807 1811 1812\n",
      " 1814 1820 1827 1828 1843 1854 1856 1864 1871 1872 1880 1896 1900 1901\n",
      " 1905 1918 1919 1928 1930 1935 1938 1947 1959 1960 1963 1965 1968 1969\n",
      " 1978 1984 1990 1993 2021 2026 2027 2047 2053 2054 2067 2070 2074 2082\n",
      " 2101 2104 2107 2118 2119 2126 2127 2138 2146 2148 2157 2159 2160 2161\n",
      " 2166 2169 2176 2183 2185 2187 2190 2191 2193 2196 2210 2213 2214 2216\n",
      " 2217 2219 2224 2226 2233 2234 2242 2245 2250 2252 2257 2258 2261 2263\n",
      " 2269 2275 2287 2302 2309 2312 2314 2315 2318 2327 2331 2333 2334 2335\n",
      " 2338 2342 2346 2347 2349 2355 2362 2378 2379 2387 2389 2393 2394 2402\n",
      " 2410 2412 2415 2419 2428 2429 2430 2433 2436 2448 2455 2459 2462 2465\n",
      " 2470 2476 2477 2485 2486 2500 2503 2515 2518 2526 2528 2530 2544 2545\n",
      " 2548 2550 2560 2563 2565 2570 2574 2577 2586 2589 2590 2594 2601 2602\n",
      " 2604 2608 2614 2616 2620 2633 2634 2636 2639 2647 2649 2653 2660 2666\n",
      " 2667 2672 2675 2684 2689 2692 2705 2711 2715 2719 2720 2729 2734 2739\n",
      " 2770 2774 2791 2808 2815 2817 2824 2826 2828 2832 2836 2841 2843 2851\n",
      " 2856 2860 2867 2872 2881 2883 2890 2903 2905 2912 2931 2933 2937 2946\n",
      " 2950 2952 2954 2955 2959 2966 2968 2970 2977 2980 2985 2986 2995 3000\n",
      " 3004 3012 3013 3016 3019 3020 3025 3031 3032 3035 3038 3047 3053 3111\n",
      " 3125 3126 3128 3132 3139 3142 3150 3152 3155 3156 3163 3171 3172 3173\n",
      " 3174 3181 3183 3186 3188 3189 3195 3196 3198 3203 3205 3208 3215 3216\n",
      " 3223 3226 3236 3243 3246 3254 3257 3279 3290 3294 3295 3300 3301 3318\n",
      " 3323 3325 3334 3348 3349 3351 3355 3371 3376 3389 3401 3406 3408 3411\n",
      " 3424 3430 3435 3451 3454 3455 3458 3462 3463 3467 3487 3496 3500 3503\n",
      " 3517 3523 3527 3529 3536 3582 3597 3617 3620 3623 3647 3653 3671 3677\n",
      " 3680 3685 3711 3717 3718 3720 3722 3724 3730 3733 3741 3762 3763 3769\n",
      " 3778 3785 3786 3793 3794 3803 3807 3826 3829 3839 3855 3856 3857 3875\n",
      " 3879 3892 3893 3899 3904 3917 3924 3927 3938 3940 3947 3948 3949 3951\n",
      " 3955 3958 3960 3978 3979 3990 3999 4002 4006 4008 4023 4025 4038 4039\n",
      " 4041 4047 4048 4049 4050 4055 4062 4069 4070 4092 4093 4098 4099 4100\n",
      " 4102 4104 4108 4117 4122 4126 4141 4144 4154 4156 4166 4172 4173 4176\n",
      " 4189 4191 4200 4211 4220 4224 4225 4229 4247 4254 4256 4261 4262 4268\n",
      " 4276 4279 4281 4289 4313 4316 4318 4326 4327 4332 4344 4355 4366 4367\n",
      " 4369 4370 4373 4375 4380 4395 4416 4419 4428 4431 4433 4434 4442 4454\n",
      " 4464 4467 4470 4474 4475 4478 4484 4507 4515 4516 4519 4528 4530 4537\n",
      " 4547 4552 4557 4559 4562 4592 4598 4605 4610 4624 4630 4639 4641 4656\n",
      " 4664 4665 4667 4670 4671 4678 4680 4684 4685 4686 4692 4699 4703 4705\n",
      " 4707 4712 4714 4738 4753 4754 4762 4763 4767 4768 4772 4788 4789 4794\n",
      " 4804 4826 4827 4831 4845 4853 4856 4857 4860 4872 4875 4883 4887 4892\n",
      " 4897 4905 4906 4908 4910 4916 4922 4932 4936 4940 4943 4946 4947 4951\n",
      " 4967 4968 4970 4977 4986 4987 4988 4997 5010 5014 5016 5025 5029 5037\n",
      " 5061 5071 5074 5083 5101 5108 5116 5121 5123 5125 5134 5150 5152 5157\n",
      " 5161 5169 5172 5174 5175 5183 5193 5205 5220 5227 5231 5232 5239 5243\n",
      " 5244 5265 5266 5272 5277 5282 5292 5293 5300 5313 5321 5331 5364 5370\n",
      " 5374 5378 5380 5381 5387 5389 5392 5394 5407 5408 5412 5415 5432 5434\n",
      " 5435 5440 5441 5447 5450 5464 5479 5481 5487 5501 5503 5508 5511 5520\n",
      " 5527 5528 5534 5543 5558 5560 5572 5576 5577 5581 5585 5589 5593 5595\n",
      " 5606 5608 5626 5627 5632 5633 5637 5645 5647 5655 5667 5674 5684 5692]\n",
      "1\n",
      "[   0    1    2 ... 5706 5708 5710]\n",
      "[   4    7    9   11   27   33   56   58   66   68   83   86   88   98\n",
      "  111  112  117  119  125  127  137  144  152  158  162  166  169  173\n",
      "  179  186  191  193  217  220  223  227  229  234  236  244  254  255\n",
      "  269  270  272  277  278  288  294  298  311  315  323  336  337  341\n",
      "  358  360  365  367  372  375  376  384  401  403  404  405  407  432\n",
      "  445  446  447  449  460  465  478  491  496  500  507  518  537  541\n",
      "  543  561  567  573  574  576  577  585  597  598  601  614  617  625\n",
      "  640  657  660  670  671  675  682  683  685  688  689  691  695  701\n",
      "  712  714  723  729  748  751  758  760  763  766  775  792  793  794\n",
      "  799  801  802  816  817  834  835  841  850  853  856  860  868  877\n",
      "  879  884  889  890  897  906  907  911  926  935  937  940  941  942\n",
      "  952  955  958  970  976  992  994 1010 1016 1019 1031 1034 1037 1039\n",
      " 1040 1046 1048 1049 1050 1053 1054 1068 1070 1085 1086 1095 1097 1099\n",
      " 1105 1109 1116 1118 1125 1142 1147 1151 1160 1163 1166 1174 1183 1188\n",
      " 1194 1200 1209 1214 1222 1227 1238 1241 1260 1265 1267 1269 1278 1289\n",
      " 1291 1294 1302 1303 1305 1308 1309 1318 1329 1348 1350 1352 1354 1356\n",
      " 1377 1380 1385 1387 1397 1400 1408 1409 1416 1420 1440 1441 1443 1456\n",
      " 1458 1468 1469 1474 1483 1484 1491 1498 1499 1502 1507 1510 1512 1523\n",
      " 1528 1533 1536 1540 1543 1546 1550 1551 1555 1567 1581 1596 1598 1601\n",
      " 1602 1604 1612 1614 1627 1632 1643 1660 1663 1664 1665 1666 1669 1677\n",
      " 1694 1696 1698 1703 1704 1719 1734 1738 1740 1746 1749 1752 1758 1760\n",
      " 1768 1771 1774 1778 1794 1810 1823 1830 1831 1832 1837 1838 1839 1840\n",
      " 1842 1850 1851 1869 1875 1879 1884 1885 1889 1891 1897 1899 1903 1906\n",
      " 1907 1916 1917 1920 1923 1924 1932 1933 1939 1949 1953 1966 1970 1972\n",
      " 1975 1977 1980 1991 2006 2008 2009 2013 2022 2030 2031 2036 2042 2043\n",
      " 2051 2055 2075 2080 2086 2097 2103 2108 2111 2125 2128 2135 2136 2151\n",
      " 2158 2164 2165 2189 2199 2207 2222 2238 2243 2246 2264 2265 2267 2271\n",
      " 2276 2280 2282 2284 2290 2295 2299 2301 2303 2308 2311 2319 2324 2325\n",
      " 2326 2336 2337 2343 2359 2363 2370 2375 2383 2386 2390 2395 2399 2406\n",
      " 2416 2418 2421 2431 2432 2441 2445 2457 2466 2472 2478 2487 2488 2491\n",
      " 2494 2498 2501 2509 2520 2525 2531 2536 2551 2552 2553 2556 2567 2580\n",
      " 2583 2585 2587 2595 2597 2600 2605 2629 2635 2638 2640 2642 2657 2658\n",
      " 2659 2665 2673 2674 2676 2679 2680 2682 2690 2699 2703 2708 2717 2733\n",
      " 2740 2747 2748 2752 2756 2757 2786 2803 2804 2811 2821 2822 2823 2825\n",
      " 2827 2838 2847 2854 2861 2866 2877 2878 2884 2886 2887 2894 2913 2918\n",
      " 2923 2939 2941 2942 2953 2975 2984 2987 2992 2993 2994 2996 2997 3026\n",
      " 3028 3044 3045 3058 3060 3062 3063 3069 3074 3075 3078 3084 3085 3088\n",
      " 3093 3094 3095 3100 3101 3115 3121 3130 3145 3153 3154 3161 3162 3164\n",
      " 3165 3166 3176 3182 3185 3191 3197 3199 3200 3201 3209 3214 3224 3227\n",
      " 3232 3238 3247 3249 3250 3266 3269 3275 3284 3311 3314 3321 3329 3336\n",
      " 3343 3360 3366 3368 3377 3390 3391 3394 3399 3416 3440 3442 3444 3471\n",
      " 3474 3484 3486 3488 3493 3495 3501 3507 3511 3526 3532 3533 3535 3538\n",
      " 3543 3545 3547 3556 3560 3566 3568 3573 3578 3580 3587 3590 3598 3601\n",
      " 3602 3603 3605 3607 3614 3615 3626 3634 3636 3651 3658 3659 3663 3682\n",
      " 3686 3687 3694 3695 3699 3709 3715 3727 3748 3751 3754 3755 3767 3777\n",
      " 3782 3797 3798 3800 3804 3805 3811 3813 3814 3816 3820 3828 3830 3836\n",
      " 3838 3848 3852 3859 3862 3870 3872 3874 3877 3885 3896 3915 3918 3921\n",
      " 3936 3941 3946 3953 3956 3964 3969 3973 3974 3975 3980 3981 3986 3988\n",
      " 3991 3995 4003 4010 4011 4013 4019 4020 4024 4027 4033 4036 4045 4053\n",
      " 4074 4075 4082 4085 4101 4110 4114 4133 4134 4139 4145 4147 4149 4157\n",
      " 4161 4162 4164 4167 4174 4179 4186 4198 4208 4215 4235 4250 4251 4274\n",
      " 4280 4290 4298 4314 4336 4343 4349 4356 4357 4363 4365 4368 4382 4385\n",
      " 4388 4407 4408 4410 4411 4418 4436 4441 4443 4448 4459 4488 4489 4491\n",
      " 4492 4499 4504 4513 4522 4529 4531 4535 4544 4553 4554 4560 4563 4567\n",
      " 4571 4574 4575 4578 4579 4580 4589 4603 4607 4614 4616 4620 4621 4626\n",
      " 4634 4638 4644 4645 4647 4649 4652 4672 4674 4679 4681 4704 4706 4708\n",
      " 4711 4715 4719 4723 4731 4736 4740 4742 4743 4749 4758 4766 4773 4777\n",
      " 4779 4782 4783 4785 4791 4797 4800 4808 4812 4815 4816 4823 4834 4841\n",
      " 4842 4863 4864 4874 4876 4880 4885 4888 4891 4912 4914 4929 4931 4941\n",
      " 4942 4952 4953 4963 4964 4971 4979 4982 4984 4993 4994 4995 5004 5009\n",
      " 5017 5022 5047 5048 5050 5052 5057 5066 5081 5087 5092 5094 5099 5118\n",
      " 5135 5140 5185 5197 5199 5200 5209 5228 5229 5230 5249 5250 5251 5256\n",
      " 5258 5274 5281 5290 5295 5297 5299 5309 5310 5318 5325 5327 5328 5339\n",
      " 5345 5347 5349 5353 5359 5362 5366 5373 5390 5398 5401 5403 5406 5410\n",
      " 5416 5418 5422 5425 5431 5444 5449 5458 5459 5461 5469 5472 5473 5480\n",
      " 5489 5496 5513 5514 5516 5522 5523 5544 5545 5552 5562 5566 5567 5570\n",
      " 5575 5583 5584 5597 5600 5602 5629 5630 5635 5640 5641 5644 5646 5653\n",
      " 5662 5665 5668 5673 5682 5685 5691 5693 5699 5700 5701 5707 5709 5711]\n",
      "2\n",
      "[   1    2    3 ... 5709 5710 5711]\n",
      "[   0    6   26   41   45   46   50   55   57   61   64   67   78   80\n",
      "   81   90   93   96   99  104  106  110  120  123  126  151  153  157\n",
      "  164  176  187  200  211  218  237  241  250  251  257  258  265  268\n",
      "  275  276  280  283  287  289  300  302  304  305  322  345  349  369\n",
      "  373  374  390  398  399  419  433  434  442  456  469  470  481  485\n",
      "  494  508  511  512  514  517  523  529  535  538  540  542  544  550\n",
      "  551  552  556  581  584  588  593  615  626  639  641  647  648  658\n",
      "  661  668  669  673  676  686  690  692  716  718  724  725  727  731\n",
      "  733  739  741  743  744  745  749  753  755  765  781  784  785  791\n",
      "  800  805  807  808  811  814  826  827  831  832  838  843  855  858\n",
      "  876  880  883  886  893  896  901  903  905  909  914  918  933  946\n",
      "  953  963  983  987  989  991 1000 1001 1012 1022 1024 1026 1029 1036\n",
      " 1056 1057 1058 1062 1071 1078 1083 1087 1090 1092 1098 1100 1108 1110\n",
      " 1128 1130 1131 1134 1135 1137 1141 1145 1152 1158 1161 1169 1177 1185\n",
      " 1190 1204 1206 1245 1254 1256 1257 1258 1266 1268 1271 1275 1283 1299\n",
      " 1319 1330 1337 1343 1344 1347 1351 1362 1382 1388 1392 1396 1406 1414\n",
      " 1415 1422 1433 1436 1444 1448 1450 1455 1463 1465 1476 1480 1497 1501\n",
      " 1503 1505 1515 1521 1526 1527 1529 1531 1535 1553 1559 1563 1569 1573\n",
      " 1576 1577 1584 1587 1588 1590 1617 1618 1620 1622 1623 1628 1630 1631\n",
      " 1635 1639 1641 1644 1654 1675 1678 1680 1684 1687 1688 1693 1701 1702\n",
      " 1709 1721 1723 1736 1742 1756 1763 1767 1775 1784 1789 1790 1792 1798\n",
      " 1799 1804 1805 1808 1815 1819 1825 1834 1835 1844 1845 1847 1848 1857\n",
      " 1873 1881 1892 1894 1909 1913 1925 1934 1944 1945 1952 1967 1973 1982\n",
      " 1994 1996 2005 2007 2015 2028 2034 2038 2044 2050 2056 2064 2066 2072\n",
      " 2073 2078 2081 2088 2092 2093 2095 2100 2106 2110 2114 2116 2117 2121\n",
      " 2131 2133 2134 2139 2144 2149 2150 2152 2156 2168 2171 2173 2181 2182\n",
      " 2192 2197 2204 2211 2244 2262 2268 2272 2279 2281 2291 2292 2293 2307\n",
      " 2310 2317 2322 2328 2339 2344 2352 2354 2357 2365 2366 2368 2369 2382\n",
      " 2392 2403 2409 2423 2427 2438 2449 2451 2452 2461 2473 2483 2489 2493\n",
      " 2497 2499 2508 2510 2512 2516 2521 2527 2533 2534 2535 2543 2549 2566\n",
      " 2569 2571 2575 2579 2581 2588 2591 2592 2599 2606 2615 2619 2641 2646\n",
      " 2664 2669 2695 2696 2697 2702 2706 2716 2726 2730 2735 2751 2753 2755\n",
      " 2767 2771 2776 2777 2782 2788 2792 2805 2814 2819 2820 2830 2839 2846\n",
      " 2852 2855 2859 2864 2888 2893 2909 2911 2915 2919 2921 2948 2951 2956\n",
      " 2961 2963 2964 2965 2967 2979 2981 2982 2991 3003 3006 3008 3014 3017\n",
      " 3039 3049 3055 3059 3066 3072 3073 3077 3086 3096 3099 3106 3107 3110\n",
      " 3112 3113 3116 3120 3133 3136 3159 3160 3168 3170 3175 3187 3202 3204\n",
      " 3206 3207 3212 3225 3231 3234 3248 3251 3256 3259 3264 3267 3280 3282\n",
      " 3283 3288 3289 3292 3296 3305 3307 3308 3315 3316 3331 3340 3345 3353\n",
      " 3357 3364 3367 3384 3388 3395 3397 3400 3409 3417 3418 3419 3422 3427\n",
      " 3431 3433 3439 3453 3461 3468 3469 3475 3477 3478 3482 3489 3499 3515\n",
      " 3530 3534 3552 3555 3558 3559 3567 3569 3571 3581 3589 3592 3612 3629\n",
      " 3637 3638 3640 3641 3648 3649 3657 3660 3664 3667 3673 3679 3684 3689\n",
      " 3690 3691 3703 3704 3721 3731 3738 3753 3760 3761 3766 3775 3779 3780\n",
      " 3789 3790 3801 3817 3818 3819 3821 3822 3831 3832 3833 3840 3843 3844\n",
      " 3846 3854 3861 3865 3868 3878 3884 3886 3888 3889 3897 3898 3903 3909\n",
      " 3912 3916 3920 3923 3933 3944 3945 3963 3965 3972 3983 3984 3992 3994\n",
      " 4000 4004 4005 4021 4026 4029 4032 4037 4042 4051 4056 4059 4065 4067\n",
      " 4072 4087 4091 4111 4113 4116 4130 4132 4135 4140 4155 4160 4168 4169\n",
      " 4170 4177 4178 4181 4184 4193 4199 4202 4222 4236 4238 4239 4242 4243\n",
      " 4246 4273 4282 4283 4287 4294 4297 4307 4308 4319 4320 4328 4329 4331\n",
      " 4333 4337 4339 4340 4347 4351 4372 4381 4396 4406 4412 4413 4417 4420\n",
      " 4421 4425 4426 4438 4439 4440 4445 4452 4455 4461 4462 4471 4472 4482\n",
      " 4483 4486 4487 4490 4493 4502 4509 4510 4511 4514 4536 4543 4556 4558\n",
      " 4566 4570 4581 4585 4587 4606 4622 4633 4636 4637 4654 4657 4661 4663\n",
      " 4669 4673 4675 4683 4696 4697 4698 4702 4716 4718 4721 4724 4727 4728\n",
      " 4732 4741 4744 4759 4760 4771 4778 4786 4793 4798 4803 4810 4813 4818\n",
      " 4820 4825 4833 4839 4849 4850 4873 4881 4890 4894 4900 4901 4919 4923\n",
      " 4926 4933 4934 4939 4950 4954 4956 4959 4962 4978 4990 4991 4999 5001\n",
      " 5005 5015 5023 5028 5031 5042 5045 5046 5049 5055 5069 5072 5084 5085\n",
      " 5088 5100 5102 5109 5110 5112 5114 5115 5117 5130 5146 5147 5156 5158\n",
      " 5163 5167 5168 5171 5173 5176 5178 5182 5191 5211 5212 5246 5252 5254\n",
      " 5255 5259 5260 5269 5271 5276 5279 5289 5306 5311 5329 5333 5335 5343\n",
      " 5354 5371 5375 5376 5383 5384 5391 5393 5395 5404 5405 5411 5426 5428\n",
      " 5436 5437 5438 5448 5452 5453 5456 5460 5465 5466 5468 5475 5477 5482\n",
      " 5483 5485 5490 5493 5495 5500 5512 5517 5521 5526 5530 5533 5535 5537\n",
      " 5538 5539 5551 5553 5559 5564 5571 5573 5580 5591 5601 5609 5619 5623\n",
      " 5624 5634 5639 5643 5649 5652 5656 5657 5658 5678 5703 5704 5705 5706]\n",
      "3\n",
      "[   0    1    2 ... 5707 5709 5711]\n",
      "[   8   12   14   15   16   17   19   20   23   31   32   37   39   59\n",
      "   60   63   69   71   73   84   89   91  103  113  132  138  142  148\n",
      "  150  156  160  163  170  199  201  202  215  219  222  230  232  235\n",
      "  239  240  246  259  271  273  274  284  293  296  301  306  312  316\n",
      "  319  320  325  326  330  332  342  343  346  355  362  368  382  383\n",
      "  385  386  389  393  409  416  417  422  424  427  428  454  458  466\n",
      "  479  483  493  501  513  530  539  564  569  575  580  583  587  589\n",
      "  590  591  620  622  651  656  659  663  667  672  684  693  699  703\n",
      "  705  707  711  713  730  734  746  752  759  761  768  769  770  776\n",
      "  777  782  783  804  806  815  821  823  828  833  844  852  865  869\n",
      "  878  895  910  913  915  939  948  949  954  956  957  966  967  968\n",
      "  974  980  988  997 1011 1014 1025 1033 1041 1044 1051 1059 1063 1066\n",
      " 1067 1069 1076 1081 1088 1093 1094 1102 1107 1119 1123 1133 1138 1140\n",
      " 1143 1146 1155 1156 1157 1164 1171 1181 1182 1189 1191 1192 1193 1201\n",
      " 1207 1211 1212 1213 1218 1220 1223 1228 1242 1244 1248 1251 1262 1270\n",
      " 1272 1276 1280 1281 1290 1295 1313 1323 1335 1340 1359 1363 1369 1370\n",
      " 1371 1378 1379 1384 1386 1390 1398 1411 1426 1427 1428 1430 1446 1457\n",
      " 1461 1466 1467 1487 1492 1493 1509 1511 1516 1518 1522 1524 1541 1542\n",
      " 1548 1574 1580 1586 1591 1594 1595 1599 1608 1609 1619 1625 1636 1645\n",
      " 1646 1647 1653 1658 1661 1668 1670 1672 1673 1674 1676 1679 1681 1691\n",
      " 1692 1695 1699 1708 1713 1714 1715 1722 1724 1729 1731 1739 1741 1744\n",
      " 1750 1757 1759 1761 1770 1777 1779 1788 1791 1797 1801 1802 1821 1829\n",
      " 1853 1859 1861 1867 1877 1878 1888 1890 1898 1902 1910 1911 1912 1927\n",
      " 1936 1950 1961 1971 1974 1988 1992 2000 2001 2011 2018 2019 2023 2039\n",
      " 2046 2048 2062 2063 2079 2090 2094 2096 2098 2102 2113 2120 2123 2132\n",
      " 2137 2143 2145 2153 2170 2179 2180 2198 2200 2201 2205 2218 2221 2227\n",
      " 2228 2229 2239 2247 2253 2254 2270 2285 2294 2297 2304 2306 2313 2320\n",
      " 2321 2329 2340 2356 2358 2360 2361 2371 2372 2376 2380 2384 2385 2388\n",
      " 2404 2408 2414 2417 2422 2437 2444 2447 2469 2475 2481 2482 2484 2490\n",
      " 2492 2496 2504 2517 2532 2538 2539 2540 2541 2564 2578 2582 2598 2610\n",
      " 2613 2622 2625 2628 2632 2643 2654 2655 2662 2668 2671 2677 2686 2687\n",
      " 2698 2701 2712 2714 2725 2738 2746 2760 2778 2779 2787 2790 2810 2812\n",
      " 2818 2837 2840 2848 2850 2858 2869 2896 2899 2900 2902 2904 2906 2907\n",
      " 2914 2916 2917 2922 2924 2929 2930 2949 2958 2971 2973 2978 2983 2988\n",
      " 2999 3005 3018 3029 3030 3040 3041 3050 3051 3052 3056 3057 3061 3064\n",
      " 3071 3076 3081 3087 3098 3105 3109 3118 3119 3123 3129 3131 3137 3141\n",
      " 3146 3147 3157 3167 3177 3192 3210 3211 3213 3217 3218 3220 3221 3222\n",
      " 3228 3235 3237 3239 3242 3244 3245 3253 3261 3268 3287 3293 3302 3303\n",
      " 3304 3306 3313 3322 3326 3328 3332 3339 3350 3356 3362 3363 3379 3381\n",
      " 3386 3392 3396 3398 3404 3407 3412 3413 3414 3429 3436 3437 3449 3450\n",
      " 3459 3465 3470 3473 3491 3494 3502 3509 3512 3514 3516 3525 3537 3542\n",
      " 3549 3551 3553 3557 3561 3562 3579 3585 3586 3588 3608 3625 3627 3628\n",
      " 3631 3633 3635 3645 3656 3662 3670 3674 3688 3692 3696 3697 3698 3702\n",
      " 3710 3732 3739 3740 3744 3752 3756 3759 3784 3792 3795 3799 3810 3812\n",
      " 3815 3835 3841 3842 3845 3849 3850 3858 3863 3871 3880 3901 3907 3911\n",
      " 3913 3914 3919 3922 3929 3935 3950 3959 3961 3970 3976 3977 3989 3998\n",
      " 4007 4012 4015 4018 4022 4031 4043 4044 4058 4063 4066 4068 4071 4077\n",
      " 4081 4083 4089 4090 4095 4109 4112 4115 4127 4131 4136 4142 4150 4158\n",
      " 4180 4185 4192 4197 4201 4212 4214 4216 4217 4219 4221 4230 4233 4234\n",
      " 4237 4241 4244 4249 4252 4255 4257 4258 4260 4263 4265 4269 4271 4277\n",
      " 4286 4291 4292 4295 4301 4311 4321 4322 4323 4330 4346 4353 4354 4359\n",
      " 4360 4361 4362 4364 4379 4384 4389 4392 4394 4399 4402 4405 4409 4415\n",
      " 4422 4423 4430 4446 4449 4456 4457 4480 4481 4495 4498 4500 4501 4512\n",
      " 4520 4521 4526 4538 4539 4546 4555 4565 4568 4569 4577 4586 4588 4596\n",
      " 4597 4599 4600 4602 4609 4612 4615 4619 4625 4632 4635 4648 4658 4660\n",
      " 4662 4676 4677 4689 4690 4694 4700 4701 4709 4710 4720 4729 4733 4734\n",
      " 4752 4756 4757 4764 4769 4770 4796 4799 4802 4805 4809 4811 4821 4828\n",
      " 4830 4835 4838 4843 4844 4859 4861 4865 4866 4869 4870 4877 4886 4893\n",
      " 4895 4904 4909 4911 4921 4937 4938 4949 4955 4965 4966 4973 4975 4976\n",
      " 4992 4998 5011 5012 5019 5026 5034 5040 5041 5053 5063 5064 5070 5073\n",
      " 5076 5077 5079 5082 5086 5095 5104 5113 5129 5133 5137 5139 5143 5155\n",
      " 5162 5164 5165 5166 5177 5181 5186 5188 5189 5192 5195 5196 5201 5221\n",
      " 5222 5226 5233 5236 5245 5253 5262 5263 5286 5301 5303 5305 5307 5315\n",
      " 5319 5330 5334 5336 5344 5350 5351 5352 5357 5360 5361 5365 5369 5372\n",
      " 5379 5382 5385 5388 5396 5397 5399 5413 5420 5433 5454 5455 5457 5462\n",
      " 5463 5467 5478 5484 5502 5531 5532 5540 5546 5547 5548 5550 5555 5556\n",
      " 5557 5568 5569 5587 5590 5592 5599 5607 5611 5615 5617 5618 5620 5621\n",
      " 5622 5631 5638 5663 5675 5676 5677 5680 5687 5688 5689 5697 5708 5710]\n",
      "4\n",
      "[   0    1    3 ... 5709 5710 5711]\n",
      "[   2   18   21   24   25   29   30   35   36   40   54   62   70   72\n",
      "   74   76   79   82   85   95  109  116  122  136  141  147  154  174\n",
      "  180  184  189  194  196  198  203  207  208  213  214  224  226  233\n",
      "  238  247  248  252  256  261  262  264  266  279  281  285  292  317\n",
      "  321  327  328  331  333  338  340  348  352  357  364  370  371  378\n",
      "  379  380  388  392  394  400  412  415  423  425  426  429  430  435\n",
      "  436  439  452  453  455  461  471  472  474  475  477  486  488  492\n",
      "  502  506  510  516  519  522  526  532  533  546  553  562  565  571\n",
      "  572  579  582  586  592  594  603  604  609  619  630  631  638  644\n",
      "  646  649  650  653  662  674  677  678  681  694  697  698  700  704\n",
      "  721  726  735  737  738  740  754  762  764  772  789  798  820  842\n",
      "  845  847  859  881  900  904  917  922  924  930  936  943  945  947\n",
      "  950  951  972  973  979  984  986  990  999 1009 1013 1015 1023 1032\n",
      " 1035 1045 1065 1072 1073 1074 1077 1080 1082 1091 1096 1111 1114 1120\n",
      " 1124 1136 1149 1154 1159 1175 1180 1184 1187 1196 1202 1208 1216 1217\n",
      " 1229 1235 1236 1243 1247 1250 1253 1263 1264 1277 1279 1292 1298 1300\n",
      " 1304 1306 1307 1314 1315 1316 1332 1366 1368 1376 1391 1394 1404 1405\n",
      " 1412 1432 1434 1438 1439 1445 1449 1451 1452 1453 1464 1473 1481 1486\n",
      " 1490 1500 1504 1506 1519 1537 1538 1545 1557 1568 1571 1575 1583 1593\n",
      " 1600 1611 1626 1629 1637 1642 1648 1650 1652 1655 1656 1659 1685 1690\n",
      " 1705 1727 1732 1735 1743 1745 1748 1753 1754 1755 1766 1772 1781 1782\n",
      " 1783 1785 1787 1793 1800 1824 1836 1841 1855 1858 1860 1863 1866 1868\n",
      " 1882 1886 1887 1893 1914 1915 1921 1929 1948 1957 1958 1962 1964 1976\n",
      " 1985 1997 1998 1999 2002 2003 2014 2016 2020 2029 2032 2041 2045 2049\n",
      " 2057 2060 2061 2065 2068 2076 2083 2089 2099 2105 2109 2122 2140 2141\n",
      " 2147 2154 2163 2167 2174 2184 2188 2194 2203 2206 2208 2209 2215 2225\n",
      " 2232 2235 2241 2248 2249 2251 2255 2260 2266 2274 2277 2278 2286 2288\n",
      " 2300 2323 2341 2345 2351 2373 2374 2377 2381 2397 2398 2401 2405 2407\n",
      " 2413 2420 2424 2434 2435 2439 2446 2450 2454 2456 2460 2464 2471 2474\n",
      " 2480 2502 2506 2507 2513 2529 2537 2542 2557 2558 2562 2568 2572 2573\n",
      " 2593 2603 2607 2611 2612 2617 2618 2621 2637 2650 2651 2652 2663 2670\n",
      " 2678 2681 2683 2693 2709 2718 2722 2731 2736 2742 2744 2745 2749 2758\n",
      " 2761 2762 2765 2766 2769 2773 2780 2781 2785 2789 2793 2794 2799 2802\n",
      " 2807 2813 2816 2831 2834 2842 2849 2857 2863 2865 2871 2882 2889 2891\n",
      " 2892 2898 2901 2908 2920 2928 2934 2936 2938 2940 2943 2944 2945 2947\n",
      " 2989 2990 3001 3002 3010 3021 3034 3043 3054 3065 3067 3070 3079 3080\n",
      " 3082 3083 3089 3090 3091 3092 3097 3104 3108 3117 3124 3135 3138 3143\n",
      " 3148 3149 3178 3184 3194 3219 3240 3241 3252 3270 3271 3272 3273 3274\n",
      " 3277 3278 3285 3286 3291 3312 3317 3319 3320 3324 3327 3333 3335 3337\n",
      " 3342 3344 3354 3365 3372 3374 3380 3382 3383 3402 3415 3420 3421 3423\n",
      " 3426 3441 3443 3445 3447 3456 3457 3464 3472 3479 3483 3485 3490 3492\n",
      " 3498 3505 3508 3518 3519 3520 3521 3522 3541 3548 3554 3565 3570 3572\n",
      " 3574 3575 3576 3577 3583 3584 3591 3595 3604 3606 3610 3613 3616 3618\n",
      " 3621 3622 3624 3630 3639 3644 3652 3655 3661 3666 3678 3693 3700 3705\n",
      " 3707 3714 3728 3729 3737 3743 3745 3746 3757 3764 3770 3773 3774 3787\n",
      " 3796 3802 3808 3823 3824 3825 3860 3864 3867 3869 3876 3881 3882 3883\n",
      " 3890 3894 3895 3900 3906 3908 3926 3931 3932 3934 3937 3939 3942 3952\n",
      " 3954 3962 3985 3987 3993 4009 4014 4016 4017 4034 4046 4052 4064 4073\n",
      " 4079 4080 4094 4096 4103 4105 4106 4120 4123 4128 4138 4151 4159 4163\n",
      " 4165 4175 4182 4183 4190 4195 4196 4204 4206 4213 4218 4226 4231 4232\n",
      " 4240 4259 4264 4266 4267 4272 4275 4293 4300 4306 4310 4312 4315 4317\n",
      " 4334 4342 4348 4358 4371 4377 4378 4387 4397 4400 4403 4414 4424 4427\n",
      " 4429 4435 4437 4447 4450 4451 4463 4465 4479 4485 4494 4496 4497 4505\n",
      " 4506 4508 4517 4518 4524 4527 4532 4534 4541 4542 4548 4549 4550 4576\n",
      " 4583 4590 4591 4593 4594 4601 4608 4611 4613 4627 4643 4646 4651 4653\n",
      " 4659 4668 4682 4688 4691 4693 4713 4717 4725 4726 4730 4739 4746 4747\n",
      " 4748 4765 4775 4776 4780 4801 4817 4819 4822 4829 4846 4848 4851 4855\n",
      " 4862 4867 4868 4871 4879 4882 4884 4889 4898 4903 4907 4913 4915 4917\n",
      " 4918 4928 4944 4948 4957 4958 4961 4969 4974 4983 4985 4989 4996 5000\n",
      " 5002 5006 5007 5008 5018 5030 5032 5033 5035 5039 5044 5051 5056 5059\n",
      " 5062 5068 5075 5080 5089 5090 5091 5093 5096 5098 5111 5119 5128 5131\n",
      " 5132 5138 5141 5142 5144 5149 5153 5159 5179 5180 5187 5202 5203 5204\n",
      " 5206 5208 5213 5214 5215 5216 5219 5223 5224 5235 5240 5242 5248 5257\n",
      " 5261 5264 5268 5270 5275 5278 5280 5284 5285 5287 5291 5296 5298 5302\n",
      " 5304 5308 5312 5314 5322 5323 5324 5337 5338 5340 5348 5358 5400 5414\n",
      " 5417 5419 5421 5423 5429 5430 5439 5443 5451 5486 5488 5491 5494 5497\n",
      " 5498 5499 5505 5506 5509 5510 5515 5519 5524 5529 5541 5561 5563 5574\n",
      " 5578 5582 5594 5603 5610 5612 5625 5650 5651 5661 5664 5694 5695 5702]\n",
      "5\n",
      "[   0    2    4 ... 5709 5710 5711]\n",
      "[   1    3    5   10   13   22   47   52   53   94   97  101  107  108\n",
      "  114  115  118  121  124  128  129  135  143  145  146  149  159  165\n",
      "  167  172  175  177  181  183  188  192  205  206  209  210  212  221\n",
      "  225  231  242  243  245  249  263  282  286  290  295  308  309  314\n",
      "  324  334  350  351  353  354  359  381  391  395  396  406  411  418\n",
      "  421  431  437  438  440  457  459  462  463  473  482  484  490  495\n",
      "  503  504  505  509  520  521  527  531  536  547  554  555  557  559\n",
      "  560  570  578  596  599  602  607  608  611  613  618  621  623  628\n",
      "  633  642  643  645  652  654  655  664  687  696  709  715  717  719\n",
      "  728  736  742  747  757  778  779  787  788  790  795  809  818  819\n",
      "  824  829  837  839  840  849  851  854  857  863  864  870  872  874\n",
      "  882  885  887  898  902  908  916  920  927  928  931  959  962  969\n",
      "  978  982  995 1008 1020 1027 1030 1038 1042 1043 1064 1101 1103 1127\n",
      " 1129 1132 1148 1153 1162 1170 1176 1186 1195 1197 1199 1203 1205 1219\n",
      " 1221 1224 1226 1230 1232 1233 1237 1240 1246 1252 1259 1261 1284 1286\n",
      " 1293 1296 1297 1312 1317 1320 1321 1328 1331 1339 1341 1353 1355 1364\n",
      " 1365 1374 1389 1393 1395 1399 1401 1402 1410 1417 1418 1421 1423 1424\n",
      " 1429 1431 1435 1442 1454 1459 1460 1470 1471 1472 1475 1479 1485 1488\n",
      " 1496 1513 1514 1520 1525 1532 1534 1539 1544 1547 1554 1556 1560 1562\n",
      " 1570 1578 1579 1582 1585 1592 1597 1603 1605 1606 1607 1610 1613 1615\n",
      " 1616 1633 1638 1657 1662 1667 1671 1682 1686 1689 1697 1710 1711 1716\n",
      " 1717 1726 1728 1730 1733 1762 1796 1809 1813 1816 1817 1818 1822 1826\n",
      " 1833 1846 1849 1852 1862 1865 1870 1874 1876 1883 1895 1904 1908 1922\n",
      " 1926 1931 1937 1940 1941 1942 1943 1946 1951 1954 1955 1956 1979 1981\n",
      " 1983 1986 1987 1989 1995 2004 2010 2012 2017 2024 2025 2033 2035 2037\n",
      " 2040 2052 2058 2059 2069 2071 2077 2084 2085 2087 2091 2112 2115 2124\n",
      " 2129 2130 2142 2155 2162 2172 2175 2177 2178 2186 2195 2202 2212 2220\n",
      " 2223 2230 2231 2236 2237 2240 2256 2259 2273 2283 2289 2296 2298 2305\n",
      " 2316 2330 2332 2348 2350 2353 2364 2367 2391 2396 2400 2411 2425 2426\n",
      " 2440 2442 2443 2453 2458 2463 2467 2468 2479 2495 2505 2511 2514 2519\n",
      " 2522 2523 2524 2546 2547 2554 2555 2559 2561 2576 2584 2596 2609 2623\n",
      " 2624 2626 2627 2630 2631 2644 2645 2648 2656 2661 2685 2688 2691 2694\n",
      " 2700 2704 2707 2710 2713 2721 2723 2724 2727 2728 2732 2737 2741 2743\n",
      " 2750 2754 2759 2763 2764 2768 2772 2775 2783 2784 2795 2796 2797 2798\n",
      " 2800 2801 2806 2809 2829 2833 2835 2844 2845 2853 2862 2868 2870 2873\n",
      " 2874 2875 2876 2879 2880 2885 2895 2897 2910 2925 2926 2927 2932 2935\n",
      " 2957 2960 2962 2969 2972 2974 2976 2998 3007 3009 3011 3015 3022 3023\n",
      " 3024 3027 3033 3036 3037 3042 3046 3048 3068 3102 3103 3114 3122 3127\n",
      " 3134 3140 3144 3151 3158 3169 3179 3180 3190 3193 3229 3230 3233 3255\n",
      " 3258 3260 3262 3263 3265 3276 3281 3297 3298 3299 3309 3310 3330 3338\n",
      " 3341 3346 3347 3352 3358 3359 3361 3369 3370 3373 3375 3378 3385 3387\n",
      " 3393 3403 3405 3410 3425 3428 3432 3434 3438 3446 3448 3452 3460 3466\n",
      " 3476 3480 3481 3497 3504 3506 3510 3513 3524 3528 3531 3539 3540 3544\n",
      " 3546 3550 3563 3564 3593 3594 3596 3599 3600 3609 3611 3619 3632 3642\n",
      " 3643 3646 3650 3654 3665 3668 3669 3672 3675 3676 3681 3683 3701 3706\n",
      " 3708 3712 3713 3716 3719 3723 3725 3726 3734 3735 3736 3742 3747 3749\n",
      " 3750 3758 3765 3768 3771 3772 3776 3781 3783 3788 3791 3806 3809 3827\n",
      " 3834 3837 3847 3851 3853 3866 3873 3887 3891 3902 3905 3910 3925 3928\n",
      " 3930 3943 3957 3966 3967 3968 3971 3982 3996 3997 4001 4028 4030 4035\n",
      " 4040 4054 4057 4060 4061 4076 4078 4084 4086 4088 4097 4107 4118 4119\n",
      " 4121 4124 4125 4129 4137 4143 4146 4148 4152 4153 4171 4187 4188 4194\n",
      " 4203 4205 4207 4209 4210 4223 4227 4228 4245 4248 4253 4270 4278 4284\n",
      " 4285 4288 4296 4299 4302 4303 4304 4305 4309 4324 4325 4335 4338 4341\n",
      " 4345 4350 4352 4374 4376 4383 4386 4390 4391 4393 4398 4401 4404 4432\n",
      " 4444 4453 4458 4460 4466 4468 4469 4473 4476 4477 4503 4523 4525 4533\n",
      " 4540 4545 4551 4561 4564 4572 4573 4582 4584 4595 4604 4617 4618 4623\n",
      " 4628 4629 4631 4640 4642 4650 4655 4666 4687 4695 4722 4735 4737 4745\n",
      " 4750 4751 4755 4761 4774 4781 4784 4787 4790 4792 4795 4806 4807 4814\n",
      " 4824 4832 4836 4837 4840 4847 4852 4854 4858 4878 4896 4899 4902 4920\n",
      " 4924 4925 4927 4930 4935 4945 4960 4972 4980 4981 5003 5013 5020 5021\n",
      " 5024 5027 5036 5038 5043 5054 5058 5060 5065 5067 5078 5097 5103 5105\n",
      " 5106 5107 5120 5122 5124 5126 5127 5136 5145 5148 5151 5154 5160 5170\n",
      " 5184 5190 5194 5198 5207 5210 5217 5218 5225 5234 5237 5238 5241 5247\n",
      " 5267 5273 5283 5288 5294 5316 5317 5320 5326 5332 5341 5342 5346 5355\n",
      " 5356 5363 5367 5368 5377 5386 5402 5409 5424 5427 5442 5445 5446 5470\n",
      " 5471 5474 5476 5492 5504 5507 5518 5525 5536 5542 5549 5554 5565 5579\n",
      " 5586 5588 5596 5598 5604 5605 5613 5614 5616 5628 5636 5642 5648 5654\n",
      " 5659 5660 5666 5669 5670 5671 5672 5679 5681 5683 5686 5690 5696 5698]\n"
     ]
    }
   ],
   "source": [
    "for fold_idx, (train_indices, valid_indices) in enumerate(k_fold.split(all_img_names)):\n",
    "    print(fold_idx)\n",
    "    print(train_indices)\n",
    "    print(valid_indices)"
   ]
  },
  {
   "cell_type": "code",
   "execution_count": null,
   "metadata": {},
   "outputs": [
    {
     "name": "stderr",
     "output_type": "stream",
     "text": [
      "/home/ps4364/.local/lib/python3.8/site-packages/torch/utils/data/dataloader.py:487: UserWarning: This DataLoader will create 8 worker processes in total. Our suggested max number of worker in current system is 1, which is smaller than what this DataLoader is going to create. Please be aware that excessive worker creation might get DataLoader running slow or even freeze, lower the worker number to avoid potential slowness/freeze if necessary.\n",
      "  warnings.warn(_create_warning_msg(\n"
     ]
    },
    {
     "name": "stdout",
     "output_type": "stream",
     "text": [
      "**********\n",
      "For 0\n",
      "Training Cov-T\n"
     ]
    },
    {
     "name": "stderr",
     "output_type": "stream",
     "text": [
      "  1%|          | 1/100 [04:16<7:03:05, 256.42s/it]"
     ]
    },
    {
     "name": "stdout",
     "output_type": "stream",
     "text": [
      "For - 0 Loss: tensor(1.9725, device='cuda:0', grad_fn=<MeanBackward0>)\n"
     ]
    },
    {
     "name": "stderr",
     "output_type": "stream",
     "text": [
      "  2%|▏         | 2/100 [08:35<7:01:02, 257.78s/it]"
     ]
    },
    {
     "name": "stdout",
     "output_type": "stream",
     "text": [
      "For - 1 Loss: tensor(1.9616, device='cuda:0', grad_fn=<MeanBackward0>)\n"
     ]
    },
    {
     "name": "stderr",
     "output_type": "stream",
     "text": [
      "  3%|▎         | 3/100 [12:53<6:57:29, 258.24s/it]"
     ]
    },
    {
     "name": "stdout",
     "output_type": "stream",
     "text": [
      "For - 2 Loss: tensor(1.9689, device='cuda:0', grad_fn=<MeanBackward0>)\n"
     ]
    },
    {
     "name": "stderr",
     "output_type": "stream",
     "text": [
      "  4%|▍         | 4/100 [17:12<6:53:29, 258.44s/it]"
     ]
    },
    {
     "name": "stdout",
     "output_type": "stream",
     "text": [
      "For - 3 Loss: tensor(1.9479, device='cuda:0', grad_fn=<MeanBackward0>)\n"
     ]
    },
    {
     "name": "stderr",
     "output_type": "stream",
     "text": [
      "  5%|▌         | 5/100 [21:31<6:49:37, 258.71s/it]"
     ]
    },
    {
     "name": "stdout",
     "output_type": "stream",
     "text": [
      "For - 4 Loss: tensor(1.9665, device='cuda:0', grad_fn=<MeanBackward0>)\n"
     ]
    },
    {
     "name": "stderr",
     "output_type": "stream",
     "text": [
      "  6%|▌         | 6/100 [25:50<6:45:31, 258.84s/it]"
     ]
    },
    {
     "name": "stdout",
     "output_type": "stream",
     "text": [
      "For - 5 Loss: tensor(1.9574, device='cuda:0', grad_fn=<MeanBackward0>)\n"
     ]
    },
    {
     "name": "stderr",
     "output_type": "stream",
     "text": [
      "  7%|▋         | 7/100 [30:09<6:41:13, 258.86s/it]"
     ]
    },
    {
     "name": "stdout",
     "output_type": "stream",
     "text": [
      "For - 6 Loss: tensor(1.9592, device='cuda:0', grad_fn=<MeanBackward0>)\n"
     ]
    },
    {
     "name": "stderr",
     "output_type": "stream",
     "text": [
      "  8%|▊         | 8/100 [34:28<6:36:41, 258.71s/it]"
     ]
    },
    {
     "name": "stdout",
     "output_type": "stream",
     "text": [
      "For - 7 Loss: tensor(1.9728, device='cuda:0', grad_fn=<MeanBackward0>)\n"
     ]
    },
    {
     "name": "stderr",
     "output_type": "stream",
     "text": [
      "  9%|▉         | 9/100 [38:48<6:33:02, 259.15s/it]"
     ]
    },
    {
     "name": "stdout",
     "output_type": "stream",
     "text": [
      "For - 8 Loss: tensor(1.9666, device='cuda:0', grad_fn=<MeanBackward0>)\n"
     ]
    },
    {
     "name": "stderr",
     "output_type": "stream",
     "text": [
      " 10%|█         | 10/100 [43:07<6:28:52, 259.25s/it]"
     ]
    },
    {
     "name": "stdout",
     "output_type": "stream",
     "text": [
      "For - 9 Loss: tensor(1.9604, device='cuda:0', grad_fn=<MeanBackward0>)\n"
     ]
    },
    {
     "name": "stderr",
     "output_type": "stream",
     "text": [
      " 11%|█         | 11/100 [47:27<6:24:33, 259.25s/it]"
     ]
    },
    {
     "name": "stdout",
     "output_type": "stream",
     "text": [
      "For - 10 Loss: tensor(1.9619, device='cuda:0', grad_fn=<MeanBackward0>)\n"
     ]
    },
    {
     "name": "stderr",
     "output_type": "stream",
     "text": [
      " 12%|█▏        | 12/100 [51:46<6:20:22, 259.34s/it]"
     ]
    },
    {
     "name": "stdout",
     "output_type": "stream",
     "text": [
      "For - 11 Loss: tensor(1.9574, device='cuda:0', grad_fn=<MeanBackward0>)\n"
     ]
    },
    {
     "name": "stderr",
     "output_type": "stream",
     "text": [
      " 13%|█▎        | 13/100 [56:05<6:15:55, 259.26s/it]"
     ]
    },
    {
     "name": "stdout",
     "output_type": "stream",
     "text": [
      "For - 12 Loss: tensor(1.9582, device='cuda:0', grad_fn=<MeanBackward0>)\n"
     ]
    },
    {
     "name": "stderr",
     "output_type": "stream",
     "text": [
      " 14%|█▍        | 14/100 [1:00:24<6:11:32, 259.22s/it]"
     ]
    },
    {
     "name": "stdout",
     "output_type": "stream",
     "text": [
      "For - 13 Loss: tensor(1.9573, device='cuda:0', grad_fn=<MeanBackward0>)\n"
     ]
    },
    {
     "name": "stderr",
     "output_type": "stream",
     "text": [
      " 15%|█▌        | 15/100 [1:04:44<6:07:35, 259.48s/it]"
     ]
    },
    {
     "name": "stdout",
     "output_type": "stream",
     "text": [
      "For - 14 Loss: tensor(1.9628, device='cuda:0', grad_fn=<MeanBackward0>)\n"
     ]
    },
    {
     "name": "stderr",
     "output_type": "stream",
     "text": [
      " 16%|█▌        | 16/100 [1:09:04<6:03:17, 259.50s/it]"
     ]
    },
    {
     "name": "stdout",
     "output_type": "stream",
     "text": [
      "For - 15 Loss: tensor(1.9345, device='cuda:0', grad_fn=<MeanBackward0>)\n"
     ]
    },
    {
     "name": "stderr",
     "output_type": "stream",
     "text": [
      " 17%|█▋        | 17/100 [1:13:23<5:58:39, 259.27s/it]"
     ]
    },
    {
     "name": "stdout",
     "output_type": "stream",
     "text": [
      "For - 16 Loss: tensor(1.9573, device='cuda:0', grad_fn=<MeanBackward0>)\n"
     ]
    },
    {
     "name": "stderr",
     "output_type": "stream",
     "text": [
      " 18%|█▊        | 18/100 [1:17:42<5:54:12, 259.18s/it]"
     ]
    },
    {
     "name": "stdout",
     "output_type": "stream",
     "text": [
      "For - 17 Loss: tensor(1.9628, device='cuda:0', grad_fn=<MeanBackward0>)\n"
     ]
    },
    {
     "name": "stderr",
     "output_type": "stream",
     "text": [
      " 19%|█▉        | 19/100 [1:22:00<5:49:33, 258.93s/it]"
     ]
    },
    {
     "name": "stdout",
     "output_type": "stream",
     "text": [
      "For - 18 Loss: tensor(1.9625, device='cuda:0', grad_fn=<MeanBackward0>)\n"
     ]
    },
    {
     "name": "stderr",
     "output_type": "stream",
     "text": [
      " 20%|██        | 20/100 [1:26:19<5:45:16, 258.95s/it]"
     ]
    },
    {
     "name": "stdout",
     "output_type": "stream",
     "text": [
      "For - 19 Loss: tensor(1.9536, device='cuda:0', grad_fn=<MeanBackward0>)\n"
     ]
    },
    {
     "name": "stderr",
     "output_type": "stream",
     "text": [
      " 21%|██        | 21/100 [1:30:38<5:40:58, 258.96s/it]"
     ]
    },
    {
     "name": "stdout",
     "output_type": "stream",
     "text": [
      "For - 20 Loss: tensor(1.9648, device='cuda:0', grad_fn=<MeanBackward0>)\n"
     ]
    },
    {
     "name": "stderr",
     "output_type": "stream",
     "text": [
      " 22%|██▏       | 22/100 [1:34:57<5:36:42, 259.01s/it]"
     ]
    },
    {
     "name": "stdout",
     "output_type": "stream",
     "text": [
      "For - 21 Loss: tensor(1.9461, device='cuda:0', grad_fn=<MeanBackward0>)\n"
     ]
    },
    {
     "name": "stderr",
     "output_type": "stream",
     "text": [
      " 23%|██▎       | 23/100 [1:39:16<5:32:22, 259.00s/it]"
     ]
    },
    {
     "name": "stdout",
     "output_type": "stream",
     "text": [
      "For - 22 Loss: tensor(1.9605, device='cuda:0', grad_fn=<MeanBackward0>)\n"
     ]
    },
    {
     "name": "stderr",
     "output_type": "stream",
     "text": [
      " 24%|██▍       | 24/100 [1:43:35<5:28:03, 258.99s/it]"
     ]
    },
    {
     "name": "stdout",
     "output_type": "stream",
     "text": [
      "For - 23 Loss: tensor(1.9658, device='cuda:0', grad_fn=<MeanBackward0>)\n"
     ]
    },
    {
     "name": "stderr",
     "output_type": "stream",
     "text": [
      " 25%|██▌       | 25/100 [1:47:53<5:23:23, 258.72s/it]"
     ]
    },
    {
     "name": "stdout",
     "output_type": "stream",
     "text": [
      "For - 24 Loss: tensor(1.9569, device='cuda:0', grad_fn=<MeanBackward0>)\n"
     ]
    },
    {
     "name": "stderr",
     "output_type": "stream",
     "text": [
      " 26%|██▌       | 26/100 [1:52:11<5:18:54, 258.57s/it]"
     ]
    },
    {
     "name": "stdout",
     "output_type": "stream",
     "text": [
      "For - 25 Loss: tensor(1.9669, device='cuda:0', grad_fn=<MeanBackward0>)\n"
     ]
    },
    {
     "name": "stderr",
     "output_type": "stream",
     "text": [
      " 27%|██▋       | 27/100 [1:56:30<5:14:26, 258.45s/it]"
     ]
    },
    {
     "name": "stdout",
     "output_type": "stream",
     "text": [
      "For - 26 Loss: tensor(1.9591, device='cuda:0', grad_fn=<MeanBackward0>)\n"
     ]
    },
    {
     "name": "stderr",
     "output_type": "stream",
     "text": [
      " 28%|██▊       | 28/100 [2:00:48<5:10:05, 258.41s/it]"
     ]
    },
    {
     "name": "stdout",
     "output_type": "stream",
     "text": [
      "For - 27 Loss: tensor(1.9592, device='cuda:0', grad_fn=<MeanBackward0>)\n"
     ]
    },
    {
     "name": "stderr",
     "output_type": "stream",
     "text": [
      " 29%|██▉       | 29/100 [2:05:06<5:05:42, 258.34s/it]"
     ]
    },
    {
     "name": "stdout",
     "output_type": "stream",
     "text": [
      "For - 28 Loss: tensor(1.9520, device='cuda:0', grad_fn=<MeanBackward0>)\n"
     ]
    },
    {
     "name": "stderr",
     "output_type": "stream",
     "text": [
      " 30%|███       | 30/100 [2:09:25<5:01:30, 258.43s/it]"
     ]
    },
    {
     "name": "stdout",
     "output_type": "stream",
     "text": [
      "For - 29 Loss: tensor(1.9557, device='cuda:0', grad_fn=<MeanBackward0>)\n"
     ]
    },
    {
     "name": "stderr",
     "output_type": "stream",
     "text": [
      " 31%|███       | 31/100 [2:13:43<4:57:10, 258.41s/it]"
     ]
    },
    {
     "name": "stdout",
     "output_type": "stream",
     "text": [
      "For - 30 Loss: tensor(1.9552, device='cuda:0', grad_fn=<MeanBackward0>)\n"
     ]
    },
    {
     "name": "stderr",
     "output_type": "stream",
     "text": [
      " 32%|███▏      | 32/100 [2:18:02<4:52:52, 258.43s/it]"
     ]
    },
    {
     "name": "stdout",
     "output_type": "stream",
     "text": [
      "For - 31 Loss: tensor(1.9531, device='cuda:0', grad_fn=<MeanBackward0>)\n"
     ]
    },
    {
     "name": "stderr",
     "output_type": "stream",
     "text": [
      " 33%|███▎      | 33/100 [2:22:20<4:48:33, 258.41s/it]"
     ]
    },
    {
     "name": "stdout",
     "output_type": "stream",
     "text": [
      "For - 32 Loss: tensor(1.9611, device='cuda:0', grad_fn=<MeanBackward0>)\n"
     ]
    },
    {
     "name": "stderr",
     "output_type": "stream",
     "text": [
      " 34%|███▍      | 34/100 [2:26:38<4:44:17, 258.45s/it]"
     ]
    },
    {
     "name": "stdout",
     "output_type": "stream",
     "text": [
      "For - 33 Loss: tensor(1.9462, device='cuda:0', grad_fn=<MeanBackward0>)\n"
     ]
    },
    {
     "name": "stderr",
     "output_type": "stream",
     "text": [
      " 35%|███▌      | 35/100 [2:30:57<4:39:59, 258.46s/it]"
     ]
    },
    {
     "name": "stdout",
     "output_type": "stream",
     "text": [
      "For - 34 Loss: tensor(1.9536, device='cuda:0', grad_fn=<MeanBackward0>)\n"
     ]
    },
    {
     "name": "stderr",
     "output_type": "stream",
     "text": [
      " 36%|███▌      | 36/100 [2:35:15<4:35:41, 258.46s/it]"
     ]
    },
    {
     "name": "stdout",
     "output_type": "stream",
     "text": [
      "For - 35 Loss: tensor(1.9758, device='cuda:0', grad_fn=<MeanBackward0>)\n"
     ]
    },
    {
     "name": "stderr",
     "output_type": "stream",
     "text": [
      " 37%|███▋      | 37/100 [2:39:34<4:31:28, 258.54s/it]"
     ]
    },
    {
     "name": "stdout",
     "output_type": "stream",
     "text": [
      "For - 36 Loss: tensor(1.9606, device='cuda:0', grad_fn=<MeanBackward0>)\n"
     ]
    },
    {
     "name": "stderr",
     "output_type": "stream",
     "text": [
      " 38%|███▊      | 38/100 [2:43:52<4:27:01, 258.42s/it]"
     ]
    },
    {
     "name": "stdout",
     "output_type": "stream",
     "text": [
      "For - 37 Loss: tensor(1.9589, device='cuda:0', grad_fn=<MeanBackward0>)\n"
     ]
    },
    {
     "name": "stderr",
     "output_type": "stream",
     "text": [
      " 39%|███▉      | 39/100 [2:48:11<4:22:49, 258.52s/it]"
     ]
    },
    {
     "name": "stdout",
     "output_type": "stream",
     "text": [
      "For - 38 Loss: tensor(1.9639, device='cuda:0', grad_fn=<MeanBackward0>)\n"
     ]
    },
    {
     "name": "stderr",
     "output_type": "stream",
     "text": [
      " 40%|████      | 40/100 [2:52:30<4:18:37, 258.62s/it]"
     ]
    },
    {
     "name": "stdout",
     "output_type": "stream",
     "text": [
      "For - 39 Loss: tensor(1.9715, device='cuda:0', grad_fn=<MeanBackward0>)\n"
     ]
    },
    {
     "name": "stderr",
     "output_type": "stream",
     "text": [
      " 41%|████      | 41/100 [2:56:49<4:14:27, 258.77s/it]"
     ]
    },
    {
     "name": "stdout",
     "output_type": "stream",
     "text": [
      "For - 40 Loss: tensor(1.9473, device='cuda:0', grad_fn=<MeanBackward0>)\n"
     ]
    },
    {
     "name": "stderr",
     "output_type": "stream",
     "text": [
      " 42%|████▏     | 42/100 [3:01:08<4:10:10, 258.81s/it]"
     ]
    },
    {
     "name": "stdout",
     "output_type": "stream",
     "text": [
      "For - 41 Loss: tensor(1.9699, device='cuda:0', grad_fn=<MeanBackward0>)\n"
     ]
    },
    {
     "name": "stderr",
     "output_type": "stream",
     "text": [
      " 43%|████▎     | 43/100 [3:05:27<4:05:52, 258.81s/it]"
     ]
    },
    {
     "name": "stdout",
     "output_type": "stream",
     "text": [
      "For - 42 Loss: tensor(1.9643, device='cuda:0', grad_fn=<MeanBackward0>)\n"
     ]
    },
    {
     "name": "stderr",
     "output_type": "stream",
     "text": [
      " 44%|████▍     | 44/100 [3:09:46<4:01:34, 258.83s/it]"
     ]
    },
    {
     "name": "stdout",
     "output_type": "stream",
     "text": [
      "For - 43 Loss: tensor(1.9643, device='cuda:0', grad_fn=<MeanBackward0>)\n"
     ]
    },
    {
     "name": "stderr",
     "output_type": "stream",
     "text": [
      " 45%|████▌     | 45/100 [3:14:04<3:57:16, 258.85s/it]"
     ]
    },
    {
     "name": "stdout",
     "output_type": "stream",
     "text": [
      "For - 44 Loss: tensor(1.9458, device='cuda:0', grad_fn=<MeanBackward0>)\n"
     ]
    },
    {
     "name": "stderr",
     "output_type": "stream",
     "text": [
      " 46%|████▌     | 46/100 [3:18:24<3:53:03, 258.95s/it]"
     ]
    },
    {
     "name": "stdout",
     "output_type": "stream",
     "text": [
      "For - 45 Loss: tensor(1.9561, device='cuda:0', grad_fn=<MeanBackward0>)\n"
     ]
    },
    {
     "name": "stderr",
     "output_type": "stream",
     "text": [
      " 47%|████▋     | 47/100 [3:22:43<3:48:46, 259.00s/it]"
     ]
    },
    {
     "name": "stdout",
     "output_type": "stream",
     "text": [
      "For - 46 Loss: tensor(1.9421, device='cuda:0', grad_fn=<MeanBackward0>)\n"
     ]
    },
    {
     "name": "stderr",
     "output_type": "stream",
     "text": [
      " 48%|████▊     | 48/100 [3:27:02<3:44:27, 258.98s/it]"
     ]
    },
    {
     "name": "stdout",
     "output_type": "stream",
     "text": [
      "For - 47 Loss: tensor(1.9696, device='cuda:0', grad_fn=<MeanBackward0>)\n"
     ]
    },
    {
     "name": "stderr",
     "output_type": "stream",
     "text": [
      " 49%|████▉     | 49/100 [3:31:21<3:40:11, 259.05s/it]"
     ]
    },
    {
     "name": "stdout",
     "output_type": "stream",
     "text": [
      "For - 48 Loss: tensor(1.9624, device='cuda:0', grad_fn=<MeanBackward0>)\n"
     ]
    },
    {
     "name": "stderr",
     "output_type": "stream",
     "text": [
      " 50%|█████     | 50/100 [3:35:40<3:35:50, 259.01s/it]"
     ]
    },
    {
     "name": "stdout",
     "output_type": "stream",
     "text": [
      "For - 49 Loss: tensor(1.9516, device='cuda:0', grad_fn=<MeanBackward0>)\n"
     ]
    },
    {
     "name": "stderr",
     "output_type": "stream",
     "text": [
      " 51%|█████     | 51/100 [3:39:59<3:31:35, 259.09s/it]"
     ]
    },
    {
     "name": "stdout",
     "output_type": "stream",
     "text": [
      "For - 50 Loss: tensor(1.9460, device='cuda:0', grad_fn=<MeanBackward0>)\n"
     ]
    },
    {
     "name": "stderr",
     "output_type": "stream",
     "text": [
      " 52%|█████▏    | 52/100 [3:44:18<3:27:09, 258.95s/it]"
     ]
    },
    {
     "name": "stdout",
     "output_type": "stream",
     "text": [
      "For - 51 Loss: tensor(1.9652, device='cuda:0', grad_fn=<MeanBackward0>)\n"
     ]
    },
    {
     "name": "stderr",
     "output_type": "stream",
     "text": [
      " 53%|█████▎    | 53/100 [3:48:37<3:22:51, 258.96s/it]"
     ]
    },
    {
     "name": "stdout",
     "output_type": "stream",
     "text": [
      "For - 52 Loss: tensor(1.9621, device='cuda:0', grad_fn=<MeanBackward0>)\n"
     ]
    },
    {
     "name": "stderr",
     "output_type": "stream",
     "text": [
      " 54%|█████▍    | 54/100 [3:52:56<3:18:30, 258.92s/it]"
     ]
    },
    {
     "name": "stdout",
     "output_type": "stream",
     "text": [
      "For - 53 Loss: tensor(1.9519, device='cuda:0', grad_fn=<MeanBackward0>)\n"
     ]
    },
    {
     "name": "stderr",
     "output_type": "stream",
     "text": [
      " 55%|█████▌    | 55/100 [3:57:15<3:14:13, 258.96s/it]"
     ]
    },
    {
     "name": "stdout",
     "output_type": "stream",
     "text": [
      "For - 54 Loss: tensor(1.9614, device='cuda:0', grad_fn=<MeanBackward0>)\n"
     ]
    },
    {
     "name": "stderr",
     "output_type": "stream",
     "text": [
      " 56%|█████▌    | 56/100 [4:01:34<3:09:56, 259.02s/it]"
     ]
    },
    {
     "name": "stdout",
     "output_type": "stream",
     "text": [
      "For - 55 Loss: tensor(1.9715, device='cuda:0', grad_fn=<MeanBackward0>)\n"
     ]
    },
    {
     "name": "stderr",
     "output_type": "stream",
     "text": [
      " 57%|█████▋    | 57/100 [4:05:53<3:05:37, 259.01s/it]"
     ]
    },
    {
     "name": "stdout",
     "output_type": "stream",
     "text": [
      "For - 56 Loss: tensor(1.9602, device='cuda:0', grad_fn=<MeanBackward0>)\n"
     ]
    },
    {
     "name": "stderr",
     "output_type": "stream",
     "text": [
      " 58%|█████▊    | 58/100 [4:10:12<3:01:20, 259.06s/it]"
     ]
    },
    {
     "name": "stdout",
     "output_type": "stream",
     "text": [
      "For - 57 Loss: tensor(1.9618, device='cuda:0', grad_fn=<MeanBackward0>)\n"
     ]
    },
    {
     "name": "stderr",
     "output_type": "stream",
     "text": [
      " 59%|█████▉    | 59/100 [4:14:31<2:57:00, 259.03s/it]"
     ]
    },
    {
     "name": "stdout",
     "output_type": "stream",
     "text": [
      "For - 58 Loss: tensor(1.9586, device='cuda:0', grad_fn=<MeanBackward0>)\n"
     ]
    },
    {
     "name": "stderr",
     "output_type": "stream",
     "text": [
      " 60%|██████    | 60/100 [4:18:50<2:52:38, 258.97s/it]"
     ]
    },
    {
     "name": "stdout",
     "output_type": "stream",
     "text": [
      "For - 59 Loss: tensor(1.9680, device='cuda:0', grad_fn=<MeanBackward0>)\n"
     ]
    },
    {
     "name": "stderr",
     "output_type": "stream",
     "text": [
      " 61%|██████    | 61/100 [4:23:09<2:48:24, 259.09s/it]"
     ]
    },
    {
     "name": "stdout",
     "output_type": "stream",
     "text": [
      "For - 60 Loss: tensor(1.9526, device='cuda:0', grad_fn=<MeanBackward0>)\n"
     ]
    },
    {
     "name": "stderr",
     "output_type": "stream",
     "text": [
      " 62%|██████▏   | 62/100 [4:27:28<2:44:04, 259.07s/it]"
     ]
    },
    {
     "name": "stdout",
     "output_type": "stream",
     "text": [
      "For - 61 Loss: tensor(1.9429, device='cuda:0', grad_fn=<MeanBackward0>)\n"
     ]
    },
    {
     "name": "stderr",
     "output_type": "stream",
     "text": [
      " 63%|██████▎   | 63/100 [4:31:47<2:39:42, 258.98s/it]"
     ]
    },
    {
     "name": "stdout",
     "output_type": "stream",
     "text": [
      "For - 62 Loss: tensor(1.9515, device='cuda:0', grad_fn=<MeanBackward0>)\n"
     ]
    },
    {
     "name": "stderr",
     "output_type": "stream",
     "text": [
      " 64%|██████▍   | 64/100 [4:36:06<2:35:28, 259.12s/it]"
     ]
    },
    {
     "name": "stdout",
     "output_type": "stream",
     "text": [
      "For - 63 Loss: tensor(1.9759, device='cuda:0', grad_fn=<MeanBackward0>)\n"
     ]
    },
    {
     "name": "stderr",
     "output_type": "stream",
     "text": [
      " 65%|██████▌   | 65/100 [4:40:25<2:31:09, 259.13s/it]"
     ]
    },
    {
     "name": "stdout",
     "output_type": "stream",
     "text": [
      "For - 64 Loss: tensor(1.9572, device='cuda:0', grad_fn=<MeanBackward0>)\n"
     ]
    },
    {
     "name": "stderr",
     "output_type": "stream",
     "text": [
      " 66%|██████▌   | 66/100 [4:44:45<2:26:51, 259.16s/it]"
     ]
    },
    {
     "name": "stdout",
     "output_type": "stream",
     "text": [
      "For - 65 Loss: tensor(1.9665, device='cuda:0', grad_fn=<MeanBackward0>)\n"
     ]
    },
    {
     "name": "stderr",
     "output_type": "stream",
     "text": [
      " 67%|██████▋   | 67/100 [4:49:03<2:22:21, 258.83s/it]"
     ]
    },
    {
     "name": "stdout",
     "output_type": "stream",
     "text": [
      "For - 66 Loss: tensor(1.9420, device='cuda:0', grad_fn=<MeanBackward0>)\n"
     ]
    },
    {
     "name": "stderr",
     "output_type": "stream",
     "text": [
      " 68%|██████▊   | 68/100 [4:53:23<2:18:17, 259.28s/it]"
     ]
    },
    {
     "name": "stdout",
     "output_type": "stream",
     "text": [
      "For - 67 Loss: tensor(1.9512, device='cuda:0', grad_fn=<MeanBackward0>)\n"
     ]
    },
    {
     "name": "stderr",
     "output_type": "stream",
     "text": [
      " 69%|██████▉   | 69/100 [4:57:41<2:13:45, 258.89s/it]"
     ]
    },
    {
     "name": "stdout",
     "output_type": "stream",
     "text": [
      "For - 68 Loss: tensor(1.9560, device='cuda:0', grad_fn=<MeanBackward0>)\n"
     ]
    },
    {
     "name": "stderr",
     "output_type": "stream",
     "text": [
      " 70%|███████   | 70/100 [5:01:59<2:09:19, 258.64s/it]"
     ]
    },
    {
     "name": "stdout",
     "output_type": "stream",
     "text": [
      "For - 69 Loss: tensor(1.9647, device='cuda:0', grad_fn=<MeanBackward0>)\n"
     ]
    },
    {
     "name": "stderr",
     "output_type": "stream",
     "text": [
      " 71%|███████   | 71/100 [5:06:17<2:04:51, 258.33s/it]"
     ]
    },
    {
     "name": "stdout",
     "output_type": "stream",
     "text": [
      "For - 70 Loss: tensor(1.9590, device='cuda:0', grad_fn=<MeanBackward0>)\n"
     ]
    },
    {
     "name": "stderr",
     "output_type": "stream",
     "text": [
      " 72%|███████▏  | 72/100 [5:10:35<2:00:30, 258.25s/it]"
     ]
    },
    {
     "name": "stdout",
     "output_type": "stream",
     "text": [
      "For - 71 Loss: tensor(1.9678, device='cuda:0', grad_fn=<MeanBackward0>)\n"
     ]
    },
    {
     "name": "stderr",
     "output_type": "stream",
     "text": [
      " 73%|███████▎  | 73/100 [5:14:53<1:56:11, 258.19s/it]"
     ]
    },
    {
     "name": "stdout",
     "output_type": "stream",
     "text": [
      "For - 72 Loss: tensor(1.9535, device='cuda:0', grad_fn=<MeanBackward0>)\n"
     ]
    }
   ],
   "source": [
    "for fold_idx, (train_indices, valid_indices) in enumerate(k_fold.split(all_img_names)):\n",
    "    model_cnn = timm.create_model(cfg.cnn_name, pretrained=True)\n",
    "    model_vit = timm.create_model(cfg.vit_name, pretrained=True)\n",
    "    model_cnn.to(device)\n",
    "    model_vit.to(device)\n",
    "    print('*'*10)\n",
    "    print('For',fold_idx)\n",
    "    fold_train_img_names = [all_img_names[idx] for idx in train_indices]\n",
    "    fold_valid_img_names = [all_img_names[idx] for idx in valid_indices]\n",
    "    fold_train_img_labels = [all_img_labels_ts[idx] for idx in train_indices]\n",
    "    fold_valid_img_labels = [all_img_labels_ts[idx] for idx in valid_indices]\n",
    "    train_dataset = Dataset(CFG, fold_train_img_names, fold_train_img_labels, train_transform)\n",
    "    valid_dataset = Dataset(CFG, fold_valid_img_names, fold_valid_img_labels, valid_transform)\n",
    "    train_loader = DataLoader(train_dataset, batch_size=CFG.batch_size, shuffle=True, num_workers=CFG.num_workers, drop_last=True)\n",
    "    valid_loader = DataLoader(valid_dataset, batch_size=CFG.batch_size, shuffle=False, num_workers=CFG.num_workers)\n",
    "    \n",
    "    #Train SSL\n",
    "    print('Training Cov-T')\n",
    "    ssl_train_model(train_loader,model_vit,criterion_vit,optimizer_vit,scheduler_vit,model_cnn,criterion_cnn,optimizer_cnn,scheduler_cnn,num_epochs=100)\n",
    "    #Saving SSL Models\n",
    "    print('Saving Cov-T')\n",
    "    \n",
    "    torch.save(model_cnn,'/scratch/ps4364/BTMRI/code/cass/cass-r50-{}-bMRI-with-valid.pt'.format(fold_idx))\n",
    "    torch.save(model_vit,'/scratch/ps4364/BTMRI/code/cass/cass-vit-{}-bMRI-with-valid.pt'.format(fold_idx))"
   ]
  },
  {
   "cell_type": "code",
   "execution_count": null,
   "metadata": {},
   "outputs": [],
   "source": [
    "from torch.utils.tensorboard import SummaryWriter"
   ]
  },
  {
   "cell_type": "code",
   "execution_count": null,
   "metadata": {},
   "outputs": [
    {
     "name": "stderr",
     "output_type": "stream",
     "text": [
      "/home/ps4364/.local/lib/python3.8/site-packages/torch/utils/data/dataloader.py:487: UserWarning: This DataLoader will create 8 worker processes in total. Our suggested max number of worker in current system is 1, which is smaller than what this DataLoader is going to create. Please be aware that excessive worker creation might get DataLoader running slow or even freeze, lower the worker number to avoid potential slowness/freeze if necessary.\n",
      "  warnings.warn(_create_warning_msg(\n"
     ]
    },
    {
     "name": "stdout",
     "output_type": "stream",
     "text": [
      "**********\n",
      "For 0\n",
      "Fine tunning Cov-T\n"
     ]
    },
    {
     "name": "stderr",
     "output_type": "stream",
     "text": [
      "  0%|          | 0/50 [00:00<?, ?it/s]"
     ]
    },
    {
     "name": "stdout",
     "output_type": "stream",
     "text": [
      "{'train_loss': tensor(0.0653, device='cuda:0'), 'train_f1': tensor(0.0375), 'lr': 0.00012133399685858832}\n",
      "Val Loss: tensor(0.0108, device='cuda:0')\n",
      "CNN Validation Score: tensor(0.1754)\n",
      "Saving\n"
     ]
    },
    {
     "name": "stderr",
     "output_type": "stream",
     "text": [
      "  2%|▏         | 1/50 [02:30<2:03:01, 150.64s/it]"
     ]
    },
    {
     "name": "stdout",
     "output_type": "stream",
     "text": [
      "{'train_loss': tensor(0.0526, device='cuda:0'), 'train_f1': tensor(0.1284), 'lr': 1.2380009889563552e-05}\n",
      "Val Loss: tensor(0.0089, device='cuda:0')\n",
      "CNN Validation Score: tensor(0.2952)\n",
      "Saving\n"
     ]
    },
    {
     "name": "stderr",
     "output_type": "stream",
     "text": [
      "  4%|▍         | 2/50 [05:00<2:00:21, 150.45s/it]"
     ]
    },
    {
     "name": "stdout",
     "output_type": "stream",
     "text": [
      "{'train_loss': tensor(0.0455, device='cuda:0'), 'train_f1': tensor(0.2106), 'lr': 0.00023355774983644046}\n",
      "Val Loss: tensor(0.0075, device='cuda:0')\n",
      "CNN Validation Score: tensor(0.3950)\n",
      "Saving\n"
     ]
    },
    {
     "name": "stderr",
     "output_type": "stream",
     "text": [
      "  6%|▌         | 3/50 [07:25<1:55:45, 147.77s/it]"
     ]
    },
    {
     "name": "stdout",
     "output_type": "stream",
     "text": [
      "{'train_loss': tensor(0.0413, device='cuda:0'), 'train_f1': tensor(0.2762), 'lr': 0.00025621246378738644}\n",
      "Val Loss: tensor(0.0068, device='cuda:0')\n",
      "CNN Validation Score: tensor(0.4646)\n",
      "Saving\n"
     ]
    },
    {
     "name": "stderr",
     "output_type": "stream",
     "text": [
      "  8%|▊         | 4/50 [09:47<1:51:39, 145.64s/it]"
     ]
    },
    {
     "name": "stdout",
     "output_type": "stream",
     "text": [
      "{'train_loss': tensor(0.0382, device='cuda:0'), 'train_f1': tensor(0.3297), 'lr': 2.6195292960766732e-05}\n",
      "Val Loss: tensor(0.0063, device='cuda:0')\n",
      "CNN Validation Score: tensor(0.5057)\n",
      "Saving\n"
     ]
    },
    {
     "name": "stderr",
     "output_type": "stream",
     "text": [
      " 10%|█         | 5/50 [12:19<1:50:48, 147.75s/it]"
     ]
    },
    {
     "name": "stdout",
     "output_type": "stream",
     "text": [
      "{'train_loss': tensor(0.0362, device='cuda:0'), 'train_f1': tensor(0.3732), 'lr': 9.328882686145683e-05}\n",
      "Val Loss: tensor(0.0057, device='cuda:0')\n",
      "CNN Validation Score: tensor(0.5462)\n",
      "Saving\n"
     ]
    },
    {
     "name": "stderr",
     "output_type": "stream",
     "text": [
      " 12%|█▏        | 6/50 [14:49<1:48:56, 148.56s/it]"
     ]
    },
    {
     "name": "stdout",
     "output_type": "stream",
     "text": [
      "{'train_loss': tensor(0.0348, device='cuda:0'), 'train_f1': tensor(0.4076), 'lr': 0.0002971273994203}\n",
      "Val Loss: tensor(0.0055, device='cuda:0')\n",
      "CNN Validation Score: tensor(0.5732)\n",
      "Saving\n"
     ]
    },
    {
     "name": "stderr",
     "output_type": "stream",
     "text": [
      " 14%|█▍        | 7/50 [17:18<1:46:30, 148.61s/it]"
     ]
    },
    {
     "name": "stdout",
     "output_type": "stream",
     "text": [
      "{'train_loss': tensor(0.0330, device='cuda:0'), 'train_f1': tensor(0.4374), 'lr': 0.00015050000000004632}\n",
      "Val Loss: tensor(0.0052, device='cuda:0')\n",
      "CNN Validation Score: tensor(0.6015)\n",
      "Saving\n"
     ]
    },
    {
     "name": "stderr",
     "output_type": "stream",
     "text": [
      " 16%|█▌        | 8/50 [19:39<1:42:26, 146.34s/it]"
     ]
    },
    {
     "name": "stdout",
     "output_type": "stream",
     "text": [
      "{'train_loss': tensor(0.0318, device='cuda:0'), 'train_f1': tensor(0.4623), 'lr': 3.87260057971705e-06}\n",
      "Val Loss: tensor(0.0052, device='cuda:0')\n",
      "CNN Validation Score: tensor(0.6173)\n",
      "Saving\n"
     ]
    },
    {
     "name": "stderr",
     "output_type": "stream",
     "text": [
      " 18%|█▊        | 9/50 [22:06<1:40:08, 146.54s/it]"
     ]
    },
    {
     "name": "stdout",
     "output_type": "stream",
     "text": [
      "{'train_loss': tensor(0.0307, device='cuda:0'), 'train_f1': tensor(0.4845), 'lr': 0.00020771117313867117}\n",
      "Val Loss: tensor(0.0051, device='cuda:0')\n",
      "CNN Validation Score: tensor(0.6301)\n",
      "Saving\n"
     ]
    },
    {
     "name": "stderr",
     "output_type": "stream",
     "text": [
      " 20%|██        | 10/50 [24:36<1:38:15, 147.40s/it]"
     ]
    },
    {
     "name": "stdout",
     "output_type": "stream",
     "text": [
      "{'train_loss': tensor(0.0300, device='cuda:0'), 'train_f1': tensor(0.5033), 'lr': 0.00027480470703925084}\n",
      "Val Loss: tensor(0.0047, device='cuda:0')\n",
      "CNN Validation Score: tensor(0.6453)\n",
      "Saving\n"
     ]
    },
    {
     "name": "stderr",
     "output_type": "stream",
     "text": [
      " 22%|██▏       | 11/50 [27:05<1:36:09, 147.95s/it]"
     ]
    },
    {
     "name": "stdout",
     "output_type": "stream",
     "text": [
      "{'train_loss': tensor(0.0292, device='cuda:0'), 'train_f1': tensor(0.5203), 'lr': 4.478753621259821e-05}\n",
      "Val Loss: tensor(0.0045, device='cuda:0')\n",
      "CNN Validation Score: tensor(0.6596)\n",
      "Saving\n"
     ]
    },
    {
     "name": "stderr",
     "output_type": "stream",
     "text": [
      " 24%|██▍       | 12/50 [29:34<1:33:54, 148.29s/it]"
     ]
    },
    {
     "name": "stdout",
     "output_type": "stream",
     "text": [
      "{'train_loss': tensor(0.0290, device='cuda:0'), 'train_f1': tensor(0.5348), 'lr': 6.744225016362168e-05}\n",
      "Val Loss: tensor(0.0047, device='cuda:0')\n",
      "CNN Validation Score: tensor(0.6714)\n",
      "Saving\n"
     ]
    },
    {
     "name": "stderr",
     "output_type": "stream",
     "text": [
      " 26%|██▌       | 13/50 [31:55<1:30:08, 146.17s/it]"
     ]
    },
    {
     "name": "stdout",
     "output_type": "stream",
     "text": [
      "{'train_loss': tensor(0.0282, device='cuda:0'), 'train_f1': tensor(0.5484), 'lr': 0.00028861999011056363}\n",
      "Val Loss: tensor(0.0044, device='cuda:0')\n",
      "CNN Validation Score: tensor(0.6824)\n",
      "Saving\n"
     ]
    },
    {
     "name": "stderr",
     "output_type": "stream",
     "text": [
      " 28%|██▊       | 14/50 [34:29<1:29:03, 148.44s/it]"
     ]
    },
    {
     "name": "stdout",
     "output_type": "stream",
     "text": [
      "{'train_loss': tensor(0.0280, device='cuda:0'), 'train_f1': tensor(0.5592), 'lr': 0.0001796660031414303}\n",
      "Val Loss: tensor(0.0043, device='cuda:0')\n",
      "CNN Validation Score: tensor(0.6927)\n",
      "Saving\n"
     ]
    },
    {
     "name": "stderr",
     "output_type": "stream",
     "text": [
      " 30%|███       | 15/50 [37:00<1:27:01, 149.17s/it]"
     ]
    },
    {
     "name": "stdout",
     "output_type": "stream",
     "text": [
      "{'train_loss': tensor(0.0268, device='cuda:0'), 'train_f1': tensor(0.5700), 'lr': 1e-06}\n",
      "Val Loss: tensor(0.0044, device='cuda:0')\n",
      "CNN Validation Score: tensor(0.6984)\n",
      "Saving\n"
     ]
    },
    {
     "name": "stderr",
     "output_type": "stream",
     "text": [
      " 32%|███▏      | 16/50 [39:31<1:24:56, 149.89s/it]"
     ]
    },
    {
     "name": "stdout",
     "output_type": "stream",
     "text": [
      "{'train_loss': tensor(0.0272, device='cuda:0'), 'train_f1': tensor(0.5801), 'lr': 0.0001796660031415497}\n",
      "Val Loss: tensor(0.0043, device='cuda:0')\n",
      "CNN Validation Score: tensor(0.7038)\n",
      "Saving\n"
     ]
    },
    {
     "name": "stderr",
     "output_type": "stream",
     "text": [
      " 34%|███▍      | 17/50 [42:03<1:22:48, 150.56s/it]"
     ]
    },
    {
     "name": "stdout",
     "output_type": "stream",
     "text": [
      "{'train_loss': tensor(0.0266, device='cuda:0'), 'train_f1': tensor(0.5890), 'lr': 0.00028861999011024487}\n",
      "Val Loss: tensor(0.0040, device='cuda:0')\n",
      "CNN Validation Score: tensor(0.7113)\n",
      "Saving\n"
     ]
    },
    {
     "name": "stderr",
     "output_type": "stream",
     "text": [
      " 36%|███▌      | 18/50 [44:24<1:18:38, 147.44s/it]"
     ]
    },
    {
     "name": "stdout",
     "output_type": "stream",
     "text": [
      "{'train_loss': tensor(0.0258, device='cuda:0'), 'train_f1': tensor(0.5973), 'lr': 6.74422501636593e-05}\n",
      "Val Loss: tensor(0.0041, device='cuda:0')\n",
      "CNN Validation Score: tensor(0.7179)\n",
      "Saving\n"
     ]
    },
    {
     "name": "stderr",
     "output_type": "stream",
     "text": [
      " 38%|███▊      | 19/50 [46:52<1:16:23, 147.84s/it]"
     ]
    },
    {
     "name": "stdout",
     "output_type": "stream",
     "text": [
      "{'train_loss': tensor(0.0258, device='cuda:0'), 'train_f1': tensor(0.6049), 'lr': 4.478753621266829e-05}\n",
      "Val Loss: tensor(0.0041, device='cuda:0')\n",
      "CNN Validation Score: tensor(0.7227)\n",
      "Saving\n"
     ]
    },
    {
     "name": "stderr",
     "output_type": "stream",
     "text": [
      " 40%|████      | 20/50 [49:24<1:14:30, 149.01s/it]"
     ]
    },
    {
     "name": "stdout",
     "output_type": "stream",
     "text": [
      "{'train_loss': tensor(0.0252, device='cuda:0'), 'train_f1': tensor(0.6119), 'lr': 0.0002748047070394487}\n",
      "Val Loss: tensor(0.0040, device='cuda:0')\n",
      "CNN Validation Score: tensor(0.7280)\n",
      "Saving\n"
     ]
    },
    {
     "name": "stderr",
     "output_type": "stream",
     "text": [
      " 42%|████▏     | 21/50 [51:55<1:12:20, 149.67s/it]"
     ]
    },
    {
     "name": "stdout",
     "output_type": "stream",
     "text": [
      "{'train_loss': tensor(0.0251, device='cuda:0'), 'train_f1': tensor(0.6182), 'lr': 0.00020771117313867372}\n",
      "Val Loss: tensor(0.0039, device='cuda:0')\n",
      "CNN Validation Score: tensor(0.7335)\n",
      "Saving\n"
     ]
    },
    {
     "name": "stderr",
     "output_type": "stream",
     "text": [
      " 44%|████▍     | 22/50 [54:25<1:09:51, 149.71s/it]"
     ]
    },
    {
     "name": "stdout",
     "output_type": "stream",
     "text": [
      "{'train_loss': tensor(0.0249, device='cuda:0'), 'train_f1': tensor(0.6238), 'lr': 3.8726005797196736e-06}\n",
      "Val Loss: tensor(0.0039, device='cuda:0')\n",
      "CNN Validation Score: tensor(0.7376)\n",
      "Saving\n"
     ]
    },
    {
     "name": "stderr",
     "output_type": "stream",
     "text": [
      " 46%|████▌     | 23/50 [56:45<1:06:01, 146.71s/it]"
     ]
    },
    {
     "name": "stdout",
     "output_type": "stream",
     "text": [
      "{'train_loss': tensor(0.0249, device='cuda:0'), 'train_f1': tensor(0.6294), 'lr': 0.00015050000000000686}\n",
      "Val Loss: tensor(0.0038, device='cuda:0')\n",
      "CNN Validation Score: tensor(0.7424)\n",
      "Saving\n"
     ]
    },
    {
     "name": "stderr",
     "output_type": "stream",
     "text": [
      " 48%|████▊     | 24/50 [59:15<1:04:03, 147.83s/it]"
     ]
    },
    {
     "name": "stdout",
     "output_type": "stream",
     "text": [
      "{'train_loss': tensor(0.0243, device='cuda:0'), 'train_f1': tensor(0.6348), 'lr': 0.0002971273994201916}\n",
      "Val Loss: tensor(0.0037, device='cuda:0')\n",
      "CNN Validation Score: tensor(0.7466)\n",
      "Saving\n"
     ]
    },
    {
     "name": "stderr",
     "output_type": "stream",
     "text": [
      " 50%|█████     | 25/50 [1:01:46<1:01:56, 148.66s/it]"
     ]
    },
    {
     "name": "stdout",
     "output_type": "stream",
     "text": [
      "{'train_loss': tensor(0.0247, device='cuda:0'), 'train_f1': tensor(0.6395), 'lr': 9.32888268615698e-05}\n",
      "Val Loss: tensor(0.0037, device='cuda:0')\n",
      "CNN Validation Score: tensor(0.7503)\n",
      "Saving\n"
     ]
    },
    {
     "name": "stderr",
     "output_type": "stream",
     "text": [
      " 52%|█████▏    | 26/50 [1:04:16<59:38, 149.11s/it]  "
     ]
    },
    {
     "name": "stdout",
     "output_type": "stream",
     "text": [
      "{'train_loss': tensor(0.0234, device='cuda:0'), 'train_f1': tensor(0.6444), 'lr': 2.619529296079897e-05}\n",
      "Val Loss: tensor(0.0038, device='cuda:0')\n",
      "CNN Validation Score: tensor(0.7545)\n",
      "Saving\n"
     ]
    },
    {
     "name": "stderr",
     "output_type": "stream",
     "text": [
      " 54%|█████▍    | 27/50 [1:06:43<56:58, 148.63s/it]"
     ]
    },
    {
     "name": "stdout",
     "output_type": "stream",
     "text": [
      "{'train_loss': tensor(0.0234, device='cuda:0'), 'train_f1': tensor(0.6492), 'lr': 0.00025621246378769365}\n",
      "Val Loss: tensor(0.0036, device='cuda:0')\n",
      "CNN Validation Score: tensor(0.7581)\n",
      "Saving\n"
     ]
    },
    {
     "name": "stderr",
     "output_type": "stream",
     "text": [
      " 56%|█████▌    | 28/50 [1:09:02<53:21, 145.53s/it]"
     ]
    },
    {
     "name": "stdout",
     "output_type": "stream",
     "text": [
      "{'train_loss': tensor(0.0230, device='cuda:0'), 'train_f1': tensor(0.6536), 'lr': 0.00023355774983664505}\n",
      "Val Loss: tensor(0.0036, device='cuda:0')\n",
      "CNN Validation Score: tensor(0.7611)\n",
      "Saving\n"
     ]
    },
    {
     "name": "stderr",
     "output_type": "stream",
     "text": [
      " 58%|█████▊    | 29/50 [1:11:32<51:23, 146.86s/it]"
     ]
    },
    {
     "name": "stdout",
     "output_type": "stream",
     "text": [
      "{'train_loss': tensor(0.0234, device='cuda:0'), 'train_f1': tensor(0.6578), 'lr': 1.2380009889569737e-05}\n",
      "Val Loss: tensor(0.0037, device='cuda:0')\n",
      "CNN Validation Score: tensor(0.7632)\n",
      "Saving\n"
     ]
    },
    {
     "name": "stderr",
     "output_type": "stream",
     "text": [
      " 60%|██████    | 30/50 [1:13:59<49:02, 147.12s/it]"
     ]
    },
    {
     "name": "stdout",
     "output_type": "stream",
     "text": [
      "{'train_loss': tensor(0.0226, device='cuda:0'), 'train_f1': tensor(0.6617), 'lr': 0.00012133399685861586}\n",
      "Val Loss: tensor(0.0035, device='cuda:0')\n",
      "CNN Validation Score: tensor(0.7661)\n",
      "Saving\n"
     ]
    },
    {
     "name": "stderr",
     "output_type": "stream",
     "text": [
      " 62%|██████▏   | 31/50 [1:16:29<46:48, 147.80s/it]"
     ]
    },
    {
     "name": "stdout",
     "output_type": "stream",
     "text": [
      "{'train_loss': tensor(0.0224, device='cuda:0'), 'train_f1': tensor(0.6656), 'lr': 0.0003000000000000174}\n",
      "Val Loss: tensor(0.0036, device='cuda:0')\n",
      "CNN Validation Score: tensor(0.7687)\n",
      "Saving\n"
     ]
    },
    {
     "name": "stderr",
     "output_type": "stream",
     "text": [
      " 64%|██████▍   | 32/50 [1:18:54<44:07, 147.08s/it]"
     ]
    },
    {
     "name": "stdout",
     "output_type": "stream",
     "text": [
      "{'train_loss': tensor(0.0233, device='cuda:0'), 'train_f1': tensor(0.6691), 'lr': 0.00012133399685857884}\n",
      "Val Loss: tensor(0.0036, device='cuda:0')\n",
      "CNN Validation Score: tensor(0.7715)\n",
      "Saving\n"
     ]
    },
    {
     "name": "stderr",
     "output_type": "stream",
     "text": [
      " 66%|██████▌   | 33/50 [1:21:13<40:58, 144.62s/it]"
     ]
    },
    {
     "name": "stdout",
     "output_type": "stream",
     "text": [
      "{'train_loss': tensor(0.0228, device='cuda:0'), 'train_f1': tensor(0.6724), 'lr': 1.2380009889581326e-05}\n",
      "Val Loss: tensor(0.0037, device='cuda:0')\n",
      "CNN Validation Score: tensor(0.7743)\n",
      "Saving\n"
     ]
    },
    {
     "name": "stderr",
     "output_type": "stream",
     "text": [
      " 68%|██████▊   | 34/50 [1:23:42<38:55, 146.00s/it]"
     ]
    },
    {
     "name": "stdout",
     "output_type": "stream",
     "text": [
      "{'train_loss': tensor(0.0227, device='cuda:0'), 'train_f1': tensor(0.6754), 'lr': 0.0002335577498367742}\n",
      "Val Loss: tensor(0.0034, device='cuda:0')\n",
      "CNN Validation Score: tensor(0.7765)\n",
      "Saving\n"
     ]
    },
    {
     "name": "stderr",
     "output_type": "stream",
     "text": [
      " 70%|███████   | 35/50 [1:26:11<36:41, 146.79s/it]"
     ]
    },
    {
     "name": "stdout",
     "output_type": "stream",
     "text": [
      "{'train_loss': tensor(0.0220, device='cuda:0'), 'train_f1': tensor(0.6784), 'lr': 0.000256212463787736}\n",
      "Val Loss: tensor(0.0035, device='cuda:0')\n",
      "CNN Validation Score: tensor(0.7789)\n",
      "Saving\n"
     ]
    },
    {
     "name": "stderr",
     "output_type": "stream",
     "text": [
      " 72%|███████▏  | 36/50 [1:28:39<34:20, 147.19s/it]"
     ]
    },
    {
     "name": "stdout",
     "output_type": "stream",
     "text": [
      "{'train_loss': tensor(0.0224, device='cuda:0'), 'train_f1': tensor(0.6812), 'lr': 2.619529296078911e-05}\n",
      "Val Loss: tensor(0.0033, device='cuda:0')\n",
      "CNN Validation Score: tensor(0.7812)\n",
      "Saving\n"
     ]
    },
    {
     "name": "stderr",
     "output_type": "stream",
     "text": [
      " 74%|███████▍  | 37/50 [1:31:03<31:40, 146.19s/it]"
     ]
    },
    {
     "name": "stdout",
     "output_type": "stream",
     "text": [
      "{'train_loss': tensor(0.0223, device='cuda:0'), 'train_f1': tensor(0.6839), 'lr': 9.328882686169183e-05}\n",
      "Val Loss: tensor(0.0034, device='cuda:0')\n",
      "CNN Validation Score: tensor(0.7833)\n",
      "Saving\n"
     ]
    },
    {
     "name": "stderr",
     "output_type": "stream",
     "text": [
      " 76%|███████▌  | 38/50 [1:33:25<29:00, 145.08s/it]"
     ]
    },
    {
     "name": "stdout",
     "output_type": "stream",
     "text": [
      "{'train_loss': tensor(0.0219, device='cuda:0'), 'train_f1': tensor(0.6865), 'lr': 0.0002971273994210897}\n",
      "Val Loss: tensor(0.0034, device='cuda:0')\n",
      "CNN Validation Score: tensor(0.7853)\n",
      "Saving\n"
     ]
    },
    {
     "name": "stderr",
     "output_type": "stream",
     "text": [
      " 78%|███████▊  | 39/50 [1:35:53<26:45, 145.91s/it]"
     ]
    },
    {
     "name": "stdout",
     "output_type": "stream",
     "text": [
      "{'train_loss': tensor(0.0214, device='cuda:0'), 'train_f1': tensor(0.6891), 'lr': 0.00015050000000034155}\n",
      "Val Loss: tensor(0.0034, device='cuda:0')\n",
      "CNN Validation Score: tensor(0.7872)\n",
      "Saving\n"
     ]
    },
    {
     "name": "stderr",
     "output_type": "stream",
     "text": [
      " 80%|████████  | 40/50 [1:38:22<24:28, 146.89s/it]"
     ]
    },
    {
     "name": "stdout",
     "output_type": "stream",
     "text": [
      "{'train_loss': tensor(0.0217, device='cuda:0'), 'train_f1': tensor(0.6915), 'lr': 3.87260057971705e-06}\n",
      "Val Loss: tensor(0.0033, device='cuda:0')\n",
      "CNN Validation Score: tensor(0.7892)\n",
      "Saving\n"
     ]
    },
    {
     "name": "stderr",
     "output_type": "stream",
     "text": [
      " 82%|████████▏ | 41/50 [1:40:50<22:02, 146.99s/it]"
     ]
    },
    {
     "name": "stdout",
     "output_type": "stream",
     "text": [
      "{'train_loss': tensor(0.0216, device='cuda:0'), 'train_f1': tensor(0.6941), 'lr': 0.00020771117313849035}\n",
      "Val Loss: tensor(0.0032, device='cuda:0')\n",
      "CNN Validation Score: tensor(0.7911)\n",
      "Saving\n"
     ]
    },
    {
     "name": "stderr",
     "output_type": "stream",
     "text": [
      " 84%|████████▍ | 42/50 [1:43:10<19:20, 145.03s/it]"
     ]
    },
    {
     "name": "stdout",
     "output_type": "stream",
     "text": [
      "{'train_loss': tensor(0.0215, device='cuda:0'), 'train_f1': tensor(0.6965), 'lr': 0.00027480470703905905}\n",
      "Val Loss: tensor(0.0033, device='cuda:0')\n",
      "CNN Validation Score: tensor(0.7927)\n",
      "Saving\n"
     ]
    },
    {
     "name": "stderr",
     "output_type": "stream",
     "text": [
      " 86%|████████▌ | 43/50 [1:45:35<16:54, 144.89s/it]"
     ]
    },
    {
     "name": "stdout",
     "output_type": "stream",
     "text": [
      "{'train_loss': tensor(0.0217, device='cuda:0'), 'train_f1': tensor(0.6986), 'lr': 4.4787536212556226e-05}\n",
      "Val Loss: tensor(0.0033, device='cuda:0')\n",
      "CNN Validation Score: tensor(0.7941)\n",
      "Saving\n"
     ]
    },
    {
     "name": "stderr",
     "output_type": "stream",
     "text": [
      " 88%|████████▊ | 44/50 [1:48:01<14:32, 145.36s/it]"
     ]
    },
    {
     "name": "stdout",
     "output_type": "stream",
     "text": [
      "{'train_loss': tensor(0.0212, device='cuda:0'), 'train_f1': tensor(0.7008), 'lr': 6.744225016364239e-05}\n",
      "Val Loss: tensor(0.0033, device='cuda:0')\n",
      "CNN Validation Score: tensor(0.7958)\n",
      "Saving\n"
     ]
    },
    {
     "name": "stderr",
     "output_type": "stream",
     "text": [
      " 90%|█████████ | 45/50 [1:50:29<12:11, 146.23s/it]"
     ]
    },
    {
     "name": "stdout",
     "output_type": "stream",
     "text": [
      "{'train_loss': tensor(0.0209, device='cuda:0'), 'train_f1': tensor(0.7029), 'lr': 0.0002886199901106629}\n",
      "Val Loss: tensor(0.0033, device='cuda:0')\n",
      "CNN Validation Score: tensor(0.7975)\n",
      "Saving\n"
     ]
    },
    {
     "name": "stderr",
     "output_type": "stream",
     "text": [
      " 92%|█████████▏| 46/50 [1:52:56<09:44, 146.21s/it]"
     ]
    },
    {
     "name": "stdout",
     "output_type": "stream",
     "text": [
      "{'train_loss': tensor(0.0211, device='cuda:0'), 'train_f1': tensor(0.7049), 'lr': 0.0001796660031415372}\n",
      "Val Loss: tensor(0.0032, device='cuda:0')\n",
      "CNN Validation Score: tensor(0.7990)\n",
      "Saving\n"
     ]
    },
    {
     "name": "stderr",
     "output_type": "stream",
     "text": [
      " 94%|█████████▍| 47/50 [1:55:15<07:12, 144.15s/it]"
     ]
    },
    {
     "name": "stdout",
     "output_type": "stream",
     "text": [
      "{'train_loss': tensor(0.0211, device='cuda:0'), 'train_f1': tensor(0.7068), 'lr': 1e-06}\n",
      "Val Loss: tensor(0.0033, device='cuda:0')\n",
      "CNN Validation Score: tensor(0.8004)\n",
      "Saving\n"
     ]
    },
    {
     "name": "stderr",
     "output_type": "stream",
     "text": [
      " 96%|█████████▌| 48/50 [1:57:43<04:50, 145.30s/it]"
     ]
    },
    {
     "name": "stdout",
     "output_type": "stream",
     "text": [
      "{'train_loss': tensor(0.0205, device='cuda:0'), 'train_f1': tensor(0.7088), 'lr': 0.00017966600314181776}\n",
      "Val Loss: tensor(0.0032, device='cuda:0')\n",
      "CNN Validation Score: tensor(0.8020)\n",
      "Saving\n"
     ]
    },
    {
     "name": "stderr",
     "output_type": "stream",
     "text": [
      " 98%|█████████▊| 49/50 [2:00:10<02:25, 145.74s/it]"
     ]
    },
    {
     "name": "stdout",
     "output_type": "stream",
     "text": [
      "{'train_loss': tensor(0.0208, device='cuda:0'), 'train_f1': tensor(0.7106), 'lr': 0.00028861999011101964}\n",
      "Val Loss: tensor(0.0032, device='cuda:0')\n",
      "CNN Validation Score: tensor(0.8032)\n",
      "Saving\n"
     ]
    },
    {
     "name": "stderr",
     "output_type": "stream",
     "text": [
      "100%|██████████| 50/50 [2:02:39<00:00, 147.20s/it]\n",
      "  0%|          | 0/50 [00:00<?, ?it/s]"
     ]
    },
    {
     "name": "stdout",
     "output_type": "stream",
     "text": [
      "{'train_loss': tensor(0.0296, device='cuda:0', grad_fn=<MeanBackward0>), 'train_f1': tensor(0.5938), 'lr': 0.00012133399685858832}\n",
      "ViT Validation Score: tensor(0.7586)\n",
      "Val Loss: tensor(0.0045, device='cuda:0')\n",
      "Saving\n"
     ]
    },
    {
     "name": "stderr",
     "output_type": "stream",
     "text": [
      "  2%|▏         | 1/50 [03:30<2:52:14, 210.90s/it]"
     ]
    },
    {
     "name": "stdout",
     "output_type": "stream",
     "text": [
      "**********\n",
      "{'train_loss': tensor(0.0135, device='cuda:0', grad_fn=<MeanBackward0>), 'train_f1': tensor(0.6745), 'lr': 1.2380009889563552e-05}\n",
      "ViT Validation Score: tensor(0.7733)\n",
      "Val Loss: tensor(0.0036, device='cuda:0')\n",
      "Saving\n"
     ]
    },
    {
     "name": "stderr",
     "output_type": "stream",
     "text": [
      "  4%|▍         | 2/50 [06:57<2:46:39, 208.32s/it]"
     ]
    },
    {
     "name": "stdout",
     "output_type": "stream",
     "text": [
      "**********\n",
      "{'train_loss': tensor(0.0180, device='cuda:0', grad_fn=<MeanBackward0>), 'train_f1': tensor(0.7195), 'lr': 0.00023355774983644046}\n",
      "ViT Validation Score: tensor(0.8016)\n",
      "Val Loss: tensor(0.0031, device='cuda:0')\n",
      "Saving\n"
     ]
    },
    {
     "name": "stderr",
     "output_type": "stream",
     "text": [
      "  6%|▌         | 3/50 [10:28<2:44:14, 209.66s/it]"
     ]
    },
    {
     "name": "stdout",
     "output_type": "stream",
     "text": [
      "**********\n",
      "{'train_loss': tensor(0.0224, device='cuda:0', grad_fn=<MeanBackward0>), 'train_f1': tensor(0.7468), 'lr': 0.00025621246378738644}\n",
      "ViT Validation Score: tensor(0.8172)\n",
      "Val Loss: tensor(0.0028, device='cuda:0')\n",
      "Saving\n"
     ]
    },
    {
     "name": "stderr",
     "output_type": "stream",
     "text": [
      "  8%|▊         | 4/50 [13:55<2:39:59, 208.68s/it]"
     ]
    },
    {
     "name": "stdout",
     "output_type": "stream",
     "text": [
      "**********\n",
      "{'train_loss': tensor(0.0082, device='cuda:0', grad_fn=<MeanBackward0>), 'train_f1': tensor(0.7676), 'lr': 2.6195292960766732e-05}\n",
      "ViT Validation Score: tensor(0.8282)\n",
      "Val Loss: tensor(0.0031, device='cuda:0')\n",
      "Saving\n"
     ]
    },
    {
     "name": "stderr",
     "output_type": "stream",
     "text": [
      " 10%|█         | 5/50 [17:26<2:36:56, 209.25s/it]"
     ]
    },
    {
     "name": "stdout",
     "output_type": "stream",
     "text": [
      "**********\n",
      "{'train_loss': tensor(0.0294, device='cuda:0', grad_fn=<MeanBackward0>), 'train_f1': tensor(0.7817), 'lr': 9.328882686145683e-05}\n",
      "ViT Validation Score: tensor(0.8389)\n",
      "Val Loss: tensor(0.0025, device='cuda:0')\n",
      "Saving\n"
     ]
    },
    {
     "name": "stderr",
     "output_type": "stream",
     "text": [
      " 12%|█▏        | 6/50 [20:52<2:32:49, 208.40s/it]"
     ]
    },
    {
     "name": "stdout",
     "output_type": "stream",
     "text": [
      "**********\n",
      "{'train_loss': tensor(0.0114, device='cuda:0', grad_fn=<MeanBackward0>), 'train_f1': tensor(0.7938), 'lr': 0.0002971273994203}\n",
      "ViT Validation Score: tensor(0.8470)\n",
      "Val Loss: tensor(0.0024, device='cuda:0')\n",
      "Saving\n"
     ]
    },
    {
     "name": "stderr",
     "output_type": "stream",
     "text": [
      " 14%|█▍        | 7/50 [24:22<2:29:38, 208.79s/it]"
     ]
    },
    {
     "name": "stdout",
     "output_type": "stream",
     "text": [
      "**********\n",
      "{'train_loss': tensor(0.0132, device='cuda:0', grad_fn=<MeanBackward0>), 'train_f1': tensor(0.8036), 'lr': 0.00015050000000004632}\n",
      "ViT Validation Score: tensor(0.8526)\n",
      "Val Loss: tensor(0.0023, device='cuda:0')\n",
      "Saving\n"
     ]
    },
    {
     "name": "stderr",
     "output_type": "stream",
     "text": [
      " 16%|█▌        | 8/50 [27:49<2:25:48, 208.29s/it]"
     ]
    },
    {
     "name": "stdout",
     "output_type": "stream",
     "text": [
      "**********\n",
      "{'train_loss': tensor(0.0078, device='cuda:0', grad_fn=<MeanBackward0>), 'train_f1': tensor(0.8126), 'lr': 3.87260057971705e-06}\n",
      "ViT Validation Score: tensor(0.8575)\n",
      "Val Loss: tensor(0.0022, device='cuda:0')\n",
      "Saving\n"
     ]
    },
    {
     "name": "stderr",
     "output_type": "stream",
     "text": [
      " 18%|█▊        | 9/50 [31:17<2:22:08, 208.00s/it]"
     ]
    },
    {
     "name": "stdout",
     "output_type": "stream",
     "text": [
      "**********\n",
      "{'train_loss': tensor(0.0197, device='cuda:0', grad_fn=<MeanBackward0>), 'train_f1': tensor(0.8198), 'lr': 0.00020771117313867117}\n",
      "ViT Validation Score: tensor(0.8617)\n",
      "Val Loss: tensor(0.0022, device='cuda:0')\n",
      "Saving\n"
     ]
    },
    {
     "name": "stderr",
     "output_type": "stream",
     "text": [
      " 20%|██        | 10/50 [34:47<2:19:15, 208.89s/it]"
     ]
    },
    {
     "name": "stdout",
     "output_type": "stream",
     "text": [
      "**********\n",
      "{'train_loss': tensor(0.0072, device='cuda:0', grad_fn=<MeanBackward0>), 'train_f1': tensor(0.8261), 'lr': 0.00027480470703925084}\n",
      "ViT Validation Score: tensor(0.8658)\n",
      "Val Loss: tensor(0.0021, device='cuda:0')\n",
      "Saving\n"
     ]
    },
    {
     "name": "stderr",
     "output_type": "stream",
     "text": [
      " 22%|██▏       | 11/50 [38:16<2:15:37, 208.67s/it]"
     ]
    },
    {
     "name": "stdout",
     "output_type": "stream",
     "text": [
      "**********\n",
      "{'train_loss': tensor(0.0089, device='cuda:0', grad_fn=<MeanBackward0>), 'train_f1': tensor(0.8317), 'lr': 4.478753621259821e-05}\n",
      "ViT Validation Score: tensor(0.8697)\n",
      "Val Loss: tensor(0.0021, device='cuda:0')\n",
      "Saving\n"
     ]
    },
    {
     "name": "stderr",
     "output_type": "stream",
     "text": [
      " 24%|██▍       | 12/50 [41:44<2:12:01, 208.46s/it]"
     ]
    },
    {
     "name": "stdout",
     "output_type": "stream",
     "text": [
      "**********\n",
      "{'train_loss': tensor(0.0135, device='cuda:0', grad_fn=<MeanBackward0>), 'train_f1': tensor(0.8366), 'lr': 6.744225016362168e-05}\n",
      "ViT Validation Score: tensor(0.8734)\n",
      "Val Loss: tensor(0.0020, device='cuda:0')\n",
      "Saving\n"
     ]
    },
    {
     "name": "stderr",
     "output_type": "stream",
     "text": [
      " 26%|██▌       | 13/50 [45:12<2:08:31, 208.41s/it]"
     ]
    },
    {
     "name": "stdout",
     "output_type": "stream",
     "text": [
      "**********\n",
      "{'train_loss': tensor(0.0170, device='cuda:0', grad_fn=<MeanBackward0>), 'train_f1': tensor(0.8407), 'lr': 0.00028861999011056363}\n",
      "ViT Validation Score: tensor(0.8735)\n",
      "Val Loss: tensor(0.0027, device='cuda:0')\n",
      "Saving\n"
     ]
    },
    {
     "name": "stderr",
     "output_type": "stream",
     "text": [
      " 28%|██▊       | 14/50 [48:41<2:05:13, 208.71s/it]"
     ]
    },
    {
     "name": "stdout",
     "output_type": "stream",
     "text": [
      "**********\n",
      "{'train_loss': tensor(0.0269, device='cuda:0', grad_fn=<MeanBackward0>), 'train_f1': tensor(0.8447), 'lr': 0.0001796660031414303}\n",
      "ViT Validation Score: tensor(0.8753)\n",
      "Val Loss: tensor(0.0018, device='cuda:0')\n",
      "Saving\n"
     ]
    },
    {
     "name": "stderr",
     "output_type": "stream",
     "text": [
      " 30%|███       | 15/50 [52:09<2:01:35, 208.44s/it]"
     ]
    },
    {
     "name": "stdout",
     "output_type": "stream",
     "text": [
      "**********\n",
      "{'train_loss': tensor(0.0071, device='cuda:0', grad_fn=<MeanBackward0>), 'train_f1': tensor(0.8485), 'lr': 1e-06}\n",
      "ViT Validation Score: tensor(0.8774)\n",
      "Val Loss: tensor(0.0018, device='cuda:0')\n",
      "Saving\n"
     ]
    },
    {
     "name": "stderr",
     "output_type": "stream",
     "text": [
      " 32%|███▏      | 16/50 [55:40<1:58:31, 209.16s/it]"
     ]
    },
    {
     "name": "stdout",
     "output_type": "stream",
     "text": [
      "**********\n",
      "{'train_loss': tensor(0.0034, device='cuda:0', grad_fn=<MeanBackward0>), 'train_f1': tensor(0.8516), 'lr': 0.0001796660031415497}\n",
      "ViT Validation Score: tensor(0.8794)\n",
      "Val Loss: tensor(0.0018, device='cuda:0')\n",
      "Saving\n"
     ]
    },
    {
     "name": "stderr",
     "output_type": "stream",
     "text": [
      " 34%|███▍      | 17/50 [59:09<1:55:01, 209.13s/it]"
     ]
    },
    {
     "name": "stdout",
     "output_type": "stream",
     "text": [
      "**********\n",
      "{'train_loss': tensor(0.0103, device='cuda:0', grad_fn=<MeanBackward0>), 'train_f1': tensor(0.8548), 'lr': 0.00028861999011024487}\n",
      "ViT Validation Score: tensor(0.8805)\n",
      "Val Loss: tensor(0.0019, device='cuda:0')\n",
      "Saving\n"
     ]
    },
    {
     "name": "stderr",
     "output_type": "stream",
     "text": [
      " 36%|███▌      | 18/50 [1:02:40<1:51:52, 209.77s/it]"
     ]
    },
    {
     "name": "stdout",
     "output_type": "stream",
     "text": [
      "**********\n",
      "{'train_loss': tensor(0.0023, device='cuda:0', grad_fn=<MeanBackward0>), 'train_f1': tensor(0.8574), 'lr': 6.74422501636593e-05}\n",
      "ViT Validation Score: tensor(0.8811)\n",
      "Val Loss: tensor(0.0021, device='cuda:0')\n",
      "Saving\n"
     ]
    },
    {
     "name": "stderr",
     "output_type": "stream",
     "text": [
      " 38%|███▊      | 19/50 [1:06:10<1:48:24, 209.81s/it]"
     ]
    },
    {
     "name": "stdout",
     "output_type": "stream",
     "text": [
      "**********\n",
      "{'train_loss': tensor(0.0018, device='cuda:0', grad_fn=<MeanBackward0>), 'train_f1': tensor(0.8604), 'lr': 4.478753621266829e-05}\n",
      "ViT Validation Score: tensor(0.8833)\n",
      "Val Loss: tensor(0.0017, device='cuda:0')\n",
      "Saving\n"
     ]
    },
    {
     "name": "stderr",
     "output_type": "stream",
     "text": [
      " 40%|████      | 20/50 [1:09:40<1:44:59, 209.97s/it]"
     ]
    },
    {
     "name": "stdout",
     "output_type": "stream",
     "text": [
      "**********\n",
      "{'train_loss': tensor(0.0153, device='cuda:0', grad_fn=<MeanBackward0>), 'train_f1': tensor(0.8631), 'lr': 0.0002748047070394487}\n"
     ]
    },
    {
     "name": "stderr",
     "output_type": "stream",
     "text": [
      " 42%|████▏     | 21/50 [1:13:10<1:41:26, 209.90s/it]"
     ]
    },
    {
     "name": "stdout",
     "output_type": "stream",
     "text": [
      "ViT Validation Score: tensor(0.8832)\n",
      "Val Loss: tensor(0.0026, device='cuda:0')\n",
      "**********\n",
      "{'train_loss': tensor(0.0107, device='cuda:0', grad_fn=<MeanBackward0>), 'train_f1': tensor(0.8654), 'lr': 0.00020771117313867372}\n",
      "ViT Validation Score: tensor(0.8846)\n",
      "Val Loss: tensor(0.0017, device='cuda:0')\n",
      "Saving\n"
     ]
    },
    {
     "name": "stderr",
     "output_type": "stream",
     "text": [
      " 44%|████▍     | 22/50 [1:16:37<1:37:28, 208.87s/it]"
     ]
    },
    {
     "name": "stdout",
     "output_type": "stream",
     "text": [
      "**********\n",
      "{'train_loss': tensor(0.0030, device='cuda:0', grad_fn=<MeanBackward0>), 'train_f1': tensor(0.8674), 'lr': 3.8726005797196736e-06}\n",
      "ViT Validation Score: tensor(0.8864)\n",
      "Val Loss: tensor(0.0016, device='cuda:0')\n",
      "Saving\n"
     ]
    },
    {
     "name": "stderr",
     "output_type": "stream",
     "text": [
      " 46%|████▌     | 23/50 [1:20:06<1:34:02, 209.00s/it]"
     ]
    },
    {
     "name": "stdout",
     "output_type": "stream",
     "text": [
      "**********\n",
      "{'train_loss': tensor(0.0056, device='cuda:0', grad_fn=<MeanBackward0>), 'train_f1': tensor(0.8695), 'lr': 0.00015050000000000686}\n",
      "ViT Validation Score: tensor(0.8880)\n",
      "Val Loss: tensor(0.0016, device='cuda:0')\n",
      "Saving\n"
     ]
    },
    {
     "name": "stderr",
     "output_type": "stream",
     "text": [
      " 48%|████▊     | 24/50 [1:23:33<1:30:17, 208.36s/it]"
     ]
    },
    {
     "name": "stdout",
     "output_type": "stream",
     "text": [
      "**********\n",
      "{'train_loss': tensor(0.0122, device='cuda:0', grad_fn=<MeanBackward0>), 'train_f1': tensor(0.8713), 'lr': 0.0002971273994201916}\n",
      "ViT Validation Score: tensor(0.8895)\n",
      "Val Loss: tensor(0.0017, device='cuda:0')\n",
      "Saving\n"
     ]
    },
    {
     "name": "stderr",
     "output_type": "stream",
     "text": [
      " 50%|█████     | 25/50 [1:27:02<1:26:55, 208.63s/it]"
     ]
    },
    {
     "name": "stdout",
     "output_type": "stream",
     "text": [
      "**********\n",
      "{'train_loss': tensor(0.0052, device='cuda:0', grad_fn=<MeanBackward0>), 'train_f1': tensor(0.8730), 'lr': 9.32888268615698e-05}\n",
      "ViT Validation Score: tensor(0.8897)\n",
      "Val Loss: tensor(0.0017, device='cuda:0')\n",
      "Saving\n"
     ]
    },
    {
     "name": "stderr",
     "output_type": "stream",
     "text": [
      " 52%|█████▏    | 26/50 [1:30:32<1:23:38, 209.09s/it]"
     ]
    },
    {
     "name": "stdout",
     "output_type": "stream",
     "text": [
      "**********\n",
      "{'train_loss': tensor(0.0040, device='cuda:0', grad_fn=<MeanBackward0>), 'train_f1': tensor(0.8746), 'lr': 2.619529296079897e-05}\n",
      "ViT Validation Score: tensor(0.8908)\n",
      "Val Loss: tensor(0.0016, device='cuda:0')\n",
      "Saving\n"
     ]
    },
    {
     "name": "stderr",
     "output_type": "stream",
     "text": [
      " 54%|█████▍    | 27/50 [1:34:02<1:20:14, 209.31s/it]"
     ]
    },
    {
     "name": "stdout",
     "output_type": "stream",
     "text": [
      "**********\n",
      "{'train_loss': tensor(0.0124, device='cuda:0', grad_fn=<MeanBackward0>), 'train_f1': tensor(0.8763), 'lr': 0.00025621246378769365}\n",
      "ViT Validation Score: tensor(0.8915)\n",
      "Val Loss: tensor(0.0016, device='cuda:0')\n",
      "Saving\n"
     ]
    },
    {
     "name": "stderr",
     "output_type": "stream",
     "text": [
      " 56%|█████▌    | 28/50 [1:37:28<1:16:21, 208.26s/it]"
     ]
    },
    {
     "name": "stdout",
     "output_type": "stream",
     "text": [
      "**********\n",
      "{'train_loss': tensor(0.0100, device='cuda:0', grad_fn=<MeanBackward0>), 'train_f1': tensor(0.8778), 'lr': 0.00023355774983664505}\n",
      "ViT Validation Score: tensor(0.8924)\n",
      "Val Loss: tensor(0.0018, device='cuda:0')\n",
      "Saving\n"
     ]
    },
    {
     "name": "stderr",
     "output_type": "stream",
     "text": [
      " 58%|█████▊    | 29/50 [1:40:56<1:12:50, 208.13s/it]"
     ]
    },
    {
     "name": "stdout",
     "output_type": "stream",
     "text": [
      "**********\n",
      "{'train_loss': tensor(0.0085, device='cuda:0', grad_fn=<MeanBackward0>), 'train_f1': tensor(0.8792), 'lr': 1.2380009889569737e-05}\n",
      "ViT Validation Score: tensor(0.8935)\n",
      "Val Loss: tensor(0.0020, device='cuda:0')\n",
      "Saving\n"
     ]
    },
    {
     "name": "stderr",
     "output_type": "stream",
     "text": [
      " 60%|██████    | 30/50 [1:44:24<1:09:23, 208.18s/it]"
     ]
    },
    {
     "name": "stdout",
     "output_type": "stream",
     "text": [
      "**********\n",
      "{'train_loss': tensor(0.0086, device='cuda:0', grad_fn=<MeanBackward0>), 'train_f1': tensor(0.8806), 'lr': 0.00012133399685861586}\n",
      "ViT Validation Score: tensor(0.8946)\n",
      "Val Loss: tensor(0.0015, device='cuda:0')\n",
      "Saving\n"
     ]
    },
    {
     "name": "stderr",
     "output_type": "stream",
     "text": [
      " 62%|██████▏   | 31/50 [1:47:50<1:05:43, 207.56s/it]"
     ]
    },
    {
     "name": "stdout",
     "output_type": "stream",
     "text": [
      "**********\n",
      "{'train_loss': tensor(0.0050, device='cuda:0', grad_fn=<MeanBackward0>), 'train_f1': tensor(0.8820), 'lr': 0.0003000000000000174}\n",
      "ViT Validation Score: tensor(0.8951)\n",
      "Val Loss: tensor(0.0015, device='cuda:0')\n",
      "Saving\n"
     ]
    },
    {
     "name": "stderr",
     "output_type": "stream",
     "text": [
      " 64%|██████▍   | 32/50 [1:51:17<1:02:12, 207.34s/it]"
     ]
    },
    {
     "name": "stdout",
     "output_type": "stream",
     "text": [
      "**********\n",
      "{'train_loss': tensor(0.0044, device='cuda:0', grad_fn=<MeanBackward0>), 'train_f1': tensor(0.8831), 'lr': 0.00012133399685857884}\n",
      "ViT Validation Score: tensor(0.8953)\n",
      "Val Loss: tensor(0.0017, device='cuda:0')\n",
      "Saving\n"
     ]
    },
    {
     "name": "stderr",
     "output_type": "stream",
     "text": [
      " 66%|██████▌   | 33/50 [1:54:43<58:39, 207.01s/it]  "
     ]
    },
    {
     "name": "stdout",
     "output_type": "stream",
     "text": [
      "**********\n",
      "{'train_loss': tensor(0.0049, device='cuda:0', grad_fn=<MeanBackward0>), 'train_f1': tensor(0.8842), 'lr': 1.2380009889581326e-05}\n",
      "ViT Validation Score: tensor(0.8964)\n",
      "Val Loss: tensor(0.0015, device='cuda:0')\n",
      "Saving\n"
     ]
    },
    {
     "name": "stderr",
     "output_type": "stream",
     "text": [
      " 68%|██████▊   | 34/50 [1:58:11<55:18, 207.39s/it]"
     ]
    },
    {
     "name": "stdout",
     "output_type": "stream",
     "text": [
      "**********\n",
      "{'train_loss': tensor(0.0042, device='cuda:0', grad_fn=<MeanBackward0>), 'train_f1': tensor(0.8854), 'lr': 0.0002335577498367742}\n",
      "ViT Validation Score: tensor(0.8971)\n",
      "Val Loss: tensor(0.0014, device='cuda:0')\n",
      "Saving\n"
     ]
    },
    {
     "name": "stderr",
     "output_type": "stream",
     "text": [
      " 70%|███████   | 35/50 [2:01:41<51:58, 207.90s/it]"
     ]
    },
    {
     "name": "stdout",
     "output_type": "stream",
     "text": [
      "**********\n",
      "{'train_loss': tensor(0.0033, device='cuda:0', grad_fn=<MeanBackward0>), 'train_f1': tensor(0.8866), 'lr': 0.000256212463787736}\n",
      "ViT Validation Score: tensor(0.8981)\n",
      "Val Loss: tensor(0.0015, device='cuda:0')\n",
      "Saving\n"
     ]
    },
    {
     "name": "stderr",
     "output_type": "stream",
     "text": [
      " 72%|███████▏  | 36/50 [2:05:11<48:40, 208.61s/it]"
     ]
    },
    {
     "name": "stdout",
     "output_type": "stream",
     "text": [
      "**********\n",
      "{'train_loss': tensor(0.0132, device='cuda:0', grad_fn=<MeanBackward0>), 'train_f1': tensor(0.8877), 'lr': 2.619529296078911e-05}\n",
      "ViT Validation Score: tensor(0.8988)\n",
      "Val Loss: tensor(0.0015, device='cuda:0')\n",
      "Saving\n"
     ]
    },
    {
     "name": "stderr",
     "output_type": "stream",
     "text": [
      " 74%|███████▍  | 37/50 [2:08:41<45:19, 209.19s/it]"
     ]
    },
    {
     "name": "stdout",
     "output_type": "stream",
     "text": [
      "**********\n",
      "{'train_loss': tensor(0.0259, device='cuda:0', grad_fn=<MeanBackward0>), 'train_f1': tensor(0.8888), 'lr': 9.328882686169183e-05}\n",
      "ViT Validation Score: tensor(0.8996)\n",
      "Val Loss: tensor(0.0014, device='cuda:0')\n",
      "Saving\n"
     ]
    },
    {
     "name": "stderr",
     "output_type": "stream",
     "text": [
      " 76%|███████▌  | 38/50 [2:12:07<41:36, 208.08s/it]"
     ]
    },
    {
     "name": "stdout",
     "output_type": "stream",
     "text": [
      "**********\n",
      "{'train_loss': tensor(0.0359, device='cuda:0', grad_fn=<MeanBackward0>), 'train_f1': tensor(0.8899), 'lr': 0.0002971273994210897}\n",
      "ViT Validation Score: tensor(0.9002)\n",
      "Val Loss: tensor(0.0017, device='cuda:0')\n",
      "Saving\n"
     ]
    },
    {
     "name": "stderr",
     "output_type": "stream",
     "text": [
      " 78%|███████▊  | 39/50 [2:15:33<38:03, 207.59s/it]"
     ]
    },
    {
     "name": "stdout",
     "output_type": "stream",
     "text": [
      "**********\n",
      "{'train_loss': tensor(0.0029, device='cuda:0', grad_fn=<MeanBackward0>), 'train_f1': tensor(0.8908), 'lr': 0.00015050000000034155}\n",
      "ViT Validation Score: tensor(0.9009)\n",
      "Val Loss: tensor(0.0015, device='cuda:0')\n",
      "Saving\n"
     ]
    },
    {
     "name": "stderr",
     "output_type": "stream",
     "text": [
      " 80%|████████  | 40/50 [2:19:01<34:35, 207.55s/it]"
     ]
    },
    {
     "name": "stdout",
     "output_type": "stream",
     "text": [
      "**********\n",
      "{'train_loss': tensor(0.0146, device='cuda:0', grad_fn=<MeanBackward0>), 'train_f1': tensor(0.8917), 'lr': 3.87260057971705e-06}\n",
      "ViT Validation Score: tensor(0.9017)\n",
      "Val Loss: tensor(0.0016, device='cuda:0')\n",
      "Saving\n"
     ]
    },
    {
     "name": "stderr",
     "output_type": "stream",
     "text": [
      " 82%|████████▏ | 41/50 [2:22:26<31:01, 206.84s/it]"
     ]
    },
    {
     "name": "stdout",
     "output_type": "stream",
     "text": [
      "**********\n",
      "{'train_loss': tensor(0.0031, device='cuda:0', grad_fn=<MeanBackward0>), 'train_f1': tensor(0.8926), 'lr': 0.00020771117313849035}\n",
      "ViT Validation Score: tensor(0.9025)\n",
      "Val Loss: tensor(0.0014, device='cuda:0')\n",
      "Saving\n"
     ]
    },
    {
     "name": "stderr",
     "output_type": "stream",
     "text": [
      " 84%|████████▍ | 42/50 [2:25:53<27:34, 206.77s/it]"
     ]
    },
    {
     "name": "stdout",
     "output_type": "stream",
     "text": [
      "**********\n",
      "{'train_loss': tensor(0.0215, device='cuda:0', grad_fn=<MeanBackward0>), 'train_f1': tensor(0.8935), 'lr': 0.00027480470703905905}\n",
      "ViT Validation Score: tensor(0.9030)\n",
      "Val Loss: tensor(0.0014, device='cuda:0')\n",
      "Saving\n"
     ]
    },
    {
     "name": "stderr",
     "output_type": "stream",
     "text": [
      " 86%|████████▌ | 43/50 [2:29:19<24:05, 206.57s/it]"
     ]
    },
    {
     "name": "stdout",
     "output_type": "stream",
     "text": [
      "**********\n",
      "{'train_loss': tensor(0.0019, device='cuda:0', grad_fn=<MeanBackward0>), 'train_f1': tensor(0.8943), 'lr': 4.4787536212556226e-05}\n",
      "ViT Validation Score: tensor(0.9034)\n",
      "Val Loss: tensor(0.0015, device='cuda:0')\n",
      "Saving\n"
     ]
    },
    {
     "name": "stderr",
     "output_type": "stream",
     "text": [
      " 88%|████████▊ | 44/50 [2:32:50<20:48, 208.06s/it]"
     ]
    },
    {
     "name": "stdout",
     "output_type": "stream",
     "text": [
      "**********\n",
      "{'train_loss': tensor(0.0207, device='cuda:0', grad_fn=<MeanBackward0>), 'train_f1': tensor(0.8951), 'lr': 6.744225016364239e-05}\n",
      "ViT Validation Score: tensor(0.9038)\n",
      "Val Loss: tensor(0.0014, device='cuda:0')\n",
      "Saving\n"
     ]
    },
    {
     "name": "stderr",
     "output_type": "stream",
     "text": [
      " 90%|█████████ | 45/50 [2:36:18<17:19, 207.88s/it]"
     ]
    },
    {
     "name": "stdout",
     "output_type": "stream",
     "text": [
      "**********\n",
      "{'train_loss': tensor(0.0058, device='cuda:0', grad_fn=<MeanBackward0>), 'train_f1': tensor(0.8958), 'lr': 0.0002886199901106629}\n",
      "ViT Validation Score: tensor(0.9042)\n",
      "Val Loss: tensor(0.0016, device='cuda:0')\n",
      "Saving\n"
     ]
    },
    {
     "name": "stderr",
     "output_type": "stream",
     "text": [
      " 92%|█████████▏| 46/50 [2:39:45<13:50, 207.69s/it]"
     ]
    },
    {
     "name": "stdout",
     "output_type": "stream",
     "text": [
      "**********\n",
      "{'train_loss': tensor(0.0059, device='cuda:0', grad_fn=<MeanBackward0>), 'train_f1': tensor(0.8966), 'lr': 0.0001796660031415372}\n",
      "ViT Validation Score: tensor(0.9047)\n",
      "Val Loss: tensor(0.0014, device='cuda:0')\n",
      "Saving\n"
     ]
    },
    {
     "name": "stderr",
     "output_type": "stream",
     "text": [
      " 94%|█████████▍| 47/50 [2:43:12<10:22, 207.59s/it]"
     ]
    },
    {
     "name": "stdout",
     "output_type": "stream",
     "text": [
      "**********\n",
      "{'train_loss': tensor(0.0025, device='cuda:0', grad_fn=<MeanBackward0>), 'train_f1': tensor(0.8973), 'lr': 1e-06}\n",
      "ViT Validation Score: tensor(0.9052)\n",
      "Val Loss: tensor(0.0015, device='cuda:0')\n",
      "Saving\n"
     ]
    },
    {
     "name": "stderr",
     "output_type": "stream",
     "text": [
      " 96%|█████████▌| 48/50 [2:46:41<06:55, 208.00s/it]"
     ]
    },
    {
     "name": "stdout",
     "output_type": "stream",
     "text": [
      "**********\n",
      "{'train_loss': tensor(0.0109, device='cuda:0', grad_fn=<MeanBackward0>), 'train_f1': tensor(0.8980), 'lr': 0.00017966600314181776}\n",
      "ViT Validation Score: tensor(0.9058)\n",
      "Val Loss: tensor(0.0014, device='cuda:0')\n",
      "Saving\n"
     ]
    },
    {
     "name": "stderr",
     "output_type": "stream",
     "text": [
      " 98%|█████████▊| 49/50 [2:50:07<03:27, 207.25s/it]"
     ]
    },
    {
     "name": "stdout",
     "output_type": "stream",
     "text": [
      "**********\n",
      "{'train_loss': tensor(0.0031, device='cuda:0', grad_fn=<MeanBackward0>), 'train_f1': tensor(0.8987), 'lr': 0.00028861999011101964}\n",
      "ViT Validation Score: tensor(0.9062)\n",
      "Val Loss: tensor(0.0015, device='cuda:0')\n",
      "Saving\n"
     ]
    },
    {
     "name": "stderr",
     "output_type": "stream",
     "text": [
      "100%|██████████| 50/50 [2:53:31<00:00, 208.24s/it]"
     ]
    },
    {
     "name": "stdout",
     "output_type": "stream",
     "text": [
      "**********\n"
     ]
    },
    {
     "name": "stderr",
     "output_type": "stream",
     "text": [
      "\n"
     ]
    },
    {
     "name": "stdout",
     "output_type": "stream",
     "text": [
      "**********\n",
      "For 1\n",
      "Fine tunning Cov-T\n"
     ]
    },
    {
     "name": "stderr",
     "output_type": "stream",
     "text": [
      "  0%|          | 0/50 [00:00<?, ?it/s]"
     ]
    },
    {
     "name": "stdout",
     "output_type": "stream",
     "text": [
      "{'train_loss': tensor(0.0665, device='cuda:0'), 'train_f1': tensor(0.0367), 'lr': 0.00012133399685858832}\n",
      "Val Loss: tensor(0.0113, device='cuda:0')\n",
      "CNN Validation Score: tensor(0.1134)\n",
      "Saving\n"
     ]
    },
    {
     "name": "stderr",
     "output_type": "stream",
     "text": [
      "  2%|▏         | 1/50 [02:28<2:01:33, 148.84s/it]"
     ]
    },
    {
     "name": "stdout",
     "output_type": "stream",
     "text": [
      "{'train_loss': tensor(0.0527, device='cuda:0'), 'train_f1': tensor(0.1279), 'lr': 1.2380009889563552e-05}\n",
      "Val Loss: tensor(0.0090, device='cuda:0')\n",
      "CNN Validation Score: tensor(0.2605)\n",
      "Saving\n"
     ]
    },
    {
     "name": "stderr",
     "output_type": "stream",
     "text": [
      "  4%|▍         | 2/50 [04:56<1:58:33, 148.21s/it]"
     ]
    },
    {
     "name": "stdout",
     "output_type": "stream",
     "text": [
      "{'train_loss': tensor(0.0456, device='cuda:0'), 'train_f1': tensor(0.2165), 'lr': 0.00023355774983644046}\n",
      "Val Loss: tensor(0.0076, device='cuda:0')\n",
      "CNN Validation Score: tensor(0.3721)\n",
      "Saving\n"
     ]
    },
    {
     "name": "stderr",
     "output_type": "stream",
     "text": [
      "  6%|▌         | 3/50 [07:24<1:55:51, 147.90s/it]"
     ]
    },
    {
     "name": "stdout",
     "output_type": "stream",
     "text": [
      "{'train_loss': tensor(0.0411, device='cuda:0'), 'train_f1': tensor(0.2849), 'lr': 0.00025621246378738644}\n",
      "Val Loss: tensor(0.0068, device='cuda:0')\n",
      "CNN Validation Score: tensor(0.4484)\n",
      "Saving\n"
     ]
    },
    {
     "name": "stderr",
     "output_type": "stream",
     "text": [
      "  8%|▊         | 4/50 [09:44<1:51:12, 145.05s/it]"
     ]
    },
    {
     "name": "stdout",
     "output_type": "stream",
     "text": [
      "{'train_loss': tensor(0.0381, device='cuda:0'), 'train_f1': tensor(0.3366), 'lr': 2.6195292960766732e-05}\n",
      "Val Loss: tensor(0.0063, device='cuda:0')\n",
      "CNN Validation Score: tensor(0.5066)\n",
      "Saving\n"
     ]
    },
    {
     "name": "stderr",
     "output_type": "stream",
     "text": [
      " 10%|█         | 5/50 [12:10<1:48:56, 145.25s/it]"
     ]
    },
    {
     "name": "stdout",
     "output_type": "stream",
     "text": [
      "{'train_loss': tensor(0.0362, device='cuda:0'), 'train_f1': tensor(0.3803), 'lr': 9.328882686145683e-05}\n",
      "Val Loss: tensor(0.0060, device='cuda:0')\n",
      "CNN Validation Score: tensor(0.5414)\n",
      "Saving\n"
     ]
    },
    {
     "name": "stderr",
     "output_type": "stream",
     "text": [
      " 12%|█▏        | 6/50 [14:45<1:49:00, 148.64s/it]"
     ]
    },
    {
     "name": "stdout",
     "output_type": "stream",
     "text": [
      "{'train_loss': tensor(0.0344, device='cuda:0'), 'train_f1': tensor(0.4149), 'lr': 0.0002971273994203}\n",
      "Val Loss: tensor(0.0056, device='cuda:0')\n",
      "CNN Validation Score: tensor(0.5728)\n",
      "Saving\n"
     ]
    },
    {
     "name": "stderr",
     "output_type": "stream",
     "text": [
      " 14%|█▍        | 7/50 [17:16<1:47:06, 149.45s/it]"
     ]
    },
    {
     "name": "stdout",
     "output_type": "stream",
     "text": [
      "{'train_loss': tensor(0.0329, device='cuda:0'), 'train_f1': tensor(0.4441), 'lr': 0.00015050000000004632}\n",
      "Val Loss: tensor(0.0057, device='cuda:0')\n",
      "CNN Validation Score: tensor(0.5916)\n",
      "Saving\n"
     ]
    },
    {
     "name": "stderr",
     "output_type": "stream",
     "text": [
      " 16%|█▌        | 8/50 [19:45<1:44:30, 149.30s/it]"
     ]
    },
    {
     "name": "stdout",
     "output_type": "stream",
     "text": [
      "{'train_loss': tensor(0.0315, device='cuda:0'), 'train_f1': tensor(0.4687), 'lr': 3.87260057971705e-06}\n",
      "Val Loss: tensor(0.0052, device='cuda:0')\n",
      "CNN Validation Score: tensor(0.6090)\n",
      "Saving\n"
     ]
    },
    {
     "name": "stderr",
     "output_type": "stream",
     "text": [
      " 18%|█▊        | 9/50 [22:03<1:39:38, 145.81s/it]"
     ]
    },
    {
     "name": "stdout",
     "output_type": "stream",
     "text": [
      "{'train_loss': tensor(0.0305, device='cuda:0'), 'train_f1': tensor(0.4900), 'lr': 0.00020771117313867117}\n",
      "Val Loss: tensor(0.0052, device='cuda:0')\n",
      "CNN Validation Score: tensor(0.6247)\n",
      "Saving\n"
     ]
    },
    {
     "name": "stderr",
     "output_type": "stream",
     "text": [
      " 20%|██        | 10/50 [24:41<1:39:43, 149.59s/it]"
     ]
    },
    {
     "name": "stdout",
     "output_type": "stream",
     "text": [
      "{'train_loss': tensor(0.0303, device='cuda:0'), 'train_f1': tensor(0.5077), 'lr': 0.00027480470703925084}\n",
      "Val Loss: tensor(0.0051, device='cuda:0')\n",
      "CNN Validation Score: tensor(0.6355)\n",
      "Saving\n"
     ]
    },
    {
     "name": "stderr",
     "output_type": "stream",
     "text": [
      " 22%|██▏       | 11/50 [27:10<1:36:59, 149.22s/it]"
     ]
    },
    {
     "name": "stdout",
     "output_type": "stream",
     "text": [
      "{'train_loss': tensor(0.0297, device='cuda:0'), 'train_f1': tensor(0.5241), 'lr': 4.478753621259821e-05}\n",
      "Val Loss: tensor(0.0047, device='cuda:0')\n",
      "CNN Validation Score: tensor(0.6491)\n",
      "Saving\n"
     ]
    },
    {
     "name": "stderr",
     "output_type": "stream",
     "text": [
      " 24%|██▍       | 12/50 [29:38<1:34:22, 149.01s/it]"
     ]
    },
    {
     "name": "stdout",
     "output_type": "stream",
     "text": [
      "{'train_loss': tensor(0.0294, device='cuda:0'), 'train_f1': tensor(0.5380), 'lr': 6.744225016362168e-05}\n",
      "Val Loss: tensor(0.0047, device='cuda:0')\n",
      "CNN Validation Score: tensor(0.6612)\n",
      "Saving\n"
     ]
    },
    {
     "name": "stderr",
     "output_type": "stream",
     "text": [
      " 26%|██▌       | 13/50 [32:08<1:31:56, 149.08s/it]"
     ]
    },
    {
     "name": "stdout",
     "output_type": "stream",
     "text": [
      "{'train_loss': tensor(0.0277, device='cuda:0'), 'train_f1': tensor(0.5508), 'lr': 0.00028861999011056363}\n",
      "Val Loss: tensor(0.0046, device='cuda:0')\n",
      "CNN Validation Score: tensor(0.6716)\n",
      "Saving\n"
     ]
    },
    {
     "name": "stderr",
     "output_type": "stream",
     "text": [
      " 28%|██▊       | 14/50 [34:26<1:27:34, 145.95s/it]"
     ]
    },
    {
     "name": "stdout",
     "output_type": "stream",
     "text": [
      "{'train_loss': tensor(0.0279, device='cuda:0'), 'train_f1': tensor(0.5621), 'lr': 0.0001796660031414303}\n",
      "Val Loss: tensor(0.0047, device='cuda:0')\n",
      "CNN Validation Score: tensor(0.6777)\n",
      "Saving\n"
     ]
    },
    {
     "name": "stderr",
     "output_type": "stream",
     "text": [
      " 30%|███       | 15/50 [36:56<1:25:42, 146.93s/it]"
     ]
    },
    {
     "name": "stdout",
     "output_type": "stream",
     "text": [
      "{'train_loss': tensor(0.0265, device='cuda:0'), 'train_f1': tensor(0.5734), 'lr': 1e-06}\n",
      "Val Loss: tensor(0.0042, device='cuda:0')\n",
      "CNN Validation Score: tensor(0.6875)\n",
      "Saving\n"
     ]
    },
    {
     "name": "stderr",
     "output_type": "stream",
     "text": [
      " 32%|███▏      | 16/50 [39:24<1:23:36, 147.55s/it]"
     ]
    },
    {
     "name": "stdout",
     "output_type": "stream",
     "text": [
      "{'train_loss': tensor(0.0276, device='cuda:0'), 'train_f1': tensor(0.5821), 'lr': 0.0001796660031415497}\n",
      "Val Loss: tensor(0.0042, device='cuda:0')\n",
      "CNN Validation Score: tensor(0.6959)\n",
      "Saving\n"
     ]
    },
    {
     "name": "stderr",
     "output_type": "stream",
     "text": [
      " 34%|███▍      | 17/50 [41:51<1:21:02, 147.34s/it]"
     ]
    },
    {
     "name": "stdout",
     "output_type": "stream",
     "text": [
      "{'train_loss': tensor(0.0263, device='cuda:0'), 'train_f1': tensor(0.5909), 'lr': 0.00028861999011024487}\n",
      "Val Loss: tensor(0.0043, device='cuda:0')\n",
      "CNN Validation Score: tensor(0.7033)\n",
      "Saving\n"
     ]
    },
    {
     "name": "stderr",
     "output_type": "stream",
     "text": [
      " 36%|███▌      | 18/50 [44:20<1:18:50, 147.84s/it]"
     ]
    },
    {
     "name": "stdout",
     "output_type": "stream",
     "text": [
      "{'train_loss': tensor(0.0262, device='cuda:0'), 'train_f1': tensor(0.5988), 'lr': 6.74422501636593e-05}\n",
      "Val Loss: tensor(0.0042, device='cuda:0')\n",
      "CNN Validation Score: tensor(0.7100)\n",
      "Saving\n"
     ]
    },
    {
     "name": "stderr",
     "output_type": "stream",
     "text": [
      " 38%|███▊      | 19/50 [46:44<1:15:39, 146.44s/it]"
     ]
    },
    {
     "name": "stdout",
     "output_type": "stream",
     "text": [
      "{'train_loss': tensor(0.0258, device='cuda:0'), 'train_f1': tensor(0.6063), 'lr': 4.478753621266829e-05}\n",
      "Val Loss: tensor(0.0042, device='cuda:0')\n",
      "CNN Validation Score: tensor(0.7148)\n",
      "Saving\n"
     ]
    },
    {
     "name": "stderr",
     "output_type": "stream",
     "text": [
      " 40%|████      | 20/50 [49:17<1:14:16, 148.55s/it]"
     ]
    },
    {
     "name": "stdout",
     "output_type": "stream",
     "text": [
      "{'train_loss': tensor(0.0254, device='cuda:0'), 'train_f1': tensor(0.6135), 'lr': 0.0002748047070394487}\n",
      "Val Loss: tensor(0.0041, device='cuda:0')\n",
      "CNN Validation Score: tensor(0.7206)\n",
      "Saving\n"
     ]
    },
    {
     "name": "stderr",
     "output_type": "stream",
     "text": [
      " 42%|████▏     | 21/50 [51:46<1:11:54, 148.76s/it]"
     ]
    },
    {
     "name": "stdout",
     "output_type": "stream",
     "text": [
      "{'train_loss': tensor(0.0255, device='cuda:0'), 'train_f1': tensor(0.6196), 'lr': 0.00020771117313867372}\n",
      "Val Loss: tensor(0.0040, device='cuda:0')\n",
      "CNN Validation Score: tensor(0.7259)\n",
      "Saving\n"
     ]
    },
    {
     "name": "stderr",
     "output_type": "stream",
     "text": [
      " 44%|████▍     | 22/50 [54:15<1:09:29, 148.90s/it]"
     ]
    },
    {
     "name": "stdout",
     "output_type": "stream",
     "text": [
      "{'train_loss': tensor(0.0245, device='cuda:0'), 'train_f1': tensor(0.6258), 'lr': 3.8726005797196736e-06}\n",
      "Val Loss: tensor(0.0038, device='cuda:0')\n",
      "CNN Validation Score: tensor(0.7309)\n",
      "Saving\n"
     ]
    },
    {
     "name": "stderr",
     "output_type": "stream",
     "text": [
      " 46%|████▌     | 23/50 [56:44<1:06:54, 148.69s/it]"
     ]
    },
    {
     "name": "stdout",
     "output_type": "stream",
     "text": [
      "{'train_loss': tensor(0.0247, device='cuda:0'), 'train_f1': tensor(0.6313), 'lr': 0.00015050000000000686}\n",
      "Val Loss: tensor(0.0039, device='cuda:0')\n",
      "CNN Validation Score: tensor(0.7354)\n",
      "Saving\n"
     ]
    },
    {
     "name": "stderr",
     "output_type": "stream",
     "text": [
      " 48%|████▊     | 24/50 [59:05<1:03:28, 146.47s/it]"
     ]
    },
    {
     "name": "stdout",
     "output_type": "stream",
     "text": [
      "{'train_loss': tensor(0.0244, device='cuda:0'), 'train_f1': tensor(0.6363), 'lr': 0.0002971273994201916}\n",
      "Val Loss: tensor(0.0040, device='cuda:0')\n",
      "CNN Validation Score: tensor(0.7396)\n",
      "Saving\n"
     ]
    },
    {
     "name": "stderr",
     "output_type": "stream",
     "text": [
      " 50%|█████     | 25/50 [1:01:33<1:01:15, 147.03s/it]"
     ]
    },
    {
     "name": "stdout",
     "output_type": "stream",
     "text": [
      "{'train_loss': tensor(0.0241, device='cuda:0'), 'train_f1': tensor(0.6414), 'lr': 9.32888268615698e-05}\n",
      "Val Loss: tensor(0.0039, device='cuda:0')\n",
      "CNN Validation Score: tensor(0.7434)\n",
      "Saving\n"
     ]
    },
    {
     "name": "stderr",
     "output_type": "stream",
     "text": [
      " 52%|█████▏    | 26/50 [1:04:04<59:16, 148.17s/it]  "
     ]
    },
    {
     "name": "stdout",
     "output_type": "stream",
     "text": [
      "{'train_loss': tensor(0.0237, device='cuda:0'), 'train_f1': tensor(0.6466), 'lr': 2.619529296079897e-05}\n",
      "Val Loss: tensor(0.0040, device='cuda:0')\n",
      "CNN Validation Score: tensor(0.7453)\n",
      "Saving\n"
     ]
    },
    {
     "name": "stderr",
     "output_type": "stream",
     "text": [
      " 54%|█████▍    | 27/50 [1:06:34<57:00, 148.71s/it]"
     ]
    },
    {
     "name": "stdout",
     "output_type": "stream",
     "text": [
      "{'train_loss': tensor(0.0233, device='cuda:0'), 'train_f1': tensor(0.6510), 'lr': 0.00025621246378769365}\n",
      "Val Loss: tensor(0.0038, device='cuda:0')\n",
      "CNN Validation Score: tensor(0.7485)\n",
      "Saving\n"
     ]
    },
    {
     "name": "stderr",
     "output_type": "stream",
     "text": [
      " 56%|█████▌    | 28/50 [1:08:57<53:52, 146.93s/it]"
     ]
    },
    {
     "name": "stdout",
     "output_type": "stream",
     "text": [
      "{'train_loss': tensor(0.0232, device='cuda:0'), 'train_f1': tensor(0.6552), 'lr': 0.00023355774983664505}\n",
      "Val Loss: tensor(0.0038, device='cuda:0')\n",
      "CNN Validation Score: tensor(0.7510)\n",
      "Saving\n"
     ]
    },
    {
     "name": "stderr",
     "output_type": "stream",
     "text": [
      " 58%|█████▊    | 29/50 [1:11:20<51:03, 145.89s/it]"
     ]
    },
    {
     "name": "stdout",
     "output_type": "stream",
     "text": [
      "{'train_loss': tensor(0.0226, device='cuda:0'), 'train_f1': tensor(0.6590), 'lr': 1.2380009889569737e-05}\n",
      "Val Loss: tensor(0.0039, device='cuda:0')\n",
      "CNN Validation Score: tensor(0.7529)\n",
      "Saving\n"
     ]
    },
    {
     "name": "stderr",
     "output_type": "stream",
     "text": [
      " 60%|██████    | 30/50 [1:13:51<49:07, 147.40s/it]"
     ]
    },
    {
     "name": "stdout",
     "output_type": "stream",
     "text": [
      "{'train_loss': tensor(0.0224, device='cuda:0'), 'train_f1': tensor(0.6629), 'lr': 0.00012133399685861586}\n",
      "Val Loss: tensor(0.0039, device='cuda:0')\n",
      "CNN Validation Score: tensor(0.7545)\n",
      "Saving\n"
     ]
    },
    {
     "name": "stderr",
     "output_type": "stream",
     "text": [
      " 62%|██████▏   | 31/50 [1:16:20<46:47, 147.76s/it]"
     ]
    },
    {
     "name": "stdout",
     "output_type": "stream",
     "text": [
      "{'train_loss': tensor(0.0224, device='cuda:0'), 'train_f1': tensor(0.6664), 'lr': 0.0003000000000000174}\n",
      "Val Loss: tensor(0.0037, device='cuda:0')\n",
      "CNN Validation Score: tensor(0.7564)\n",
      "Saving\n"
     ]
    },
    {
     "name": "stderr",
     "output_type": "stream",
     "text": [
      " 64%|██████▍   | 32/50 [1:18:51<44:35, 148.64s/it]"
     ]
    },
    {
     "name": "stdout",
     "output_type": "stream",
     "text": [
      "{'train_loss': tensor(0.0219, device='cuda:0'), 'train_f1': tensor(0.6703), 'lr': 0.00012133399685857884}\n",
      "Val Loss: tensor(0.0037, device='cuda:0')\n",
      "CNN Validation Score: tensor(0.7580)\n",
      "Saving\n"
     ]
    },
    {
     "name": "stderr",
     "output_type": "stream",
     "text": [
      " 66%|██████▌   | 33/50 [1:21:10<41:22, 146.02s/it]"
     ]
    },
    {
     "name": "stdout",
     "output_type": "stream",
     "text": [
      "{'train_loss': tensor(0.0230, device='cuda:0'), 'train_f1': tensor(0.6735), 'lr': 1.2380009889581326e-05}\n",
      "Val Loss: tensor(0.0035, device='cuda:0')\n",
      "CNN Validation Score: tensor(0.7610)\n",
      "Saving\n"
     ]
    },
    {
     "name": "stderr",
     "output_type": "stream",
     "text": [
      " 68%|██████▊   | 34/50 [1:23:41<39:19, 147.46s/it]"
     ]
    },
    {
     "name": "stdout",
     "output_type": "stream",
     "text": [
      "{'train_loss': tensor(0.0222, device='cuda:0'), 'train_f1': tensor(0.6766), 'lr': 0.0002335577498367742}\n",
      "Val Loss: tensor(0.0037, device='cuda:0')\n",
      "CNN Validation Score: tensor(0.7637)\n",
      "Saving\n"
     ]
    },
    {
     "name": "stderr",
     "output_type": "stream",
     "text": [
      " 70%|███████   | 35/50 [1:26:12<37:08, 148.58s/it]"
     ]
    },
    {
     "name": "stdout",
     "output_type": "stream",
     "text": [
      "{'train_loss': tensor(0.0215, device='cuda:0'), 'train_f1': tensor(0.6796), 'lr': 0.000256212463787736}\n",
      "Val Loss: tensor(0.0037, device='cuda:0')\n",
      "CNN Validation Score: tensor(0.7660)\n",
      "Saving\n"
     ]
    },
    {
     "name": "stderr",
     "output_type": "stream",
     "text": [
      " 72%|███████▏  | 36/50 [1:28:40<34:36, 148.32s/it]"
     ]
    },
    {
     "name": "stdout",
     "output_type": "stream",
     "text": [
      "{'train_loss': tensor(0.0226, device='cuda:0'), 'train_f1': tensor(0.6824), 'lr': 2.619529296078911e-05}\n",
      "Val Loss: tensor(0.0036, device='cuda:0')\n",
      "CNN Validation Score: tensor(0.7684)\n",
      "Saving\n"
     ]
    },
    {
     "name": "stderr",
     "output_type": "stream",
     "text": [
      " 74%|███████▍  | 37/50 [1:31:13<32:25, 149.62s/it]"
     ]
    },
    {
     "name": "stdout",
     "output_type": "stream",
     "text": [
      "{'train_loss': tensor(0.0220, device='cuda:0'), 'train_f1': tensor(0.6852), 'lr': 9.328882686169183e-05}\n",
      "Val Loss: tensor(0.0037, device='cuda:0')\n",
      "CNN Validation Score: tensor(0.7698)\n",
      "Saving\n"
     ]
    },
    {
     "name": "stderr",
     "output_type": "stream",
     "text": [
      " 76%|███████▌  | 38/50 [1:33:32<29:16, 146.35s/it]"
     ]
    },
    {
     "name": "stdout",
     "output_type": "stream",
     "text": [
      "{'train_loss': tensor(0.0219, device='cuda:0'), 'train_f1': tensor(0.6879), 'lr': 0.0002971273994210897}\n",
      "Val Loss: tensor(0.0035, device='cuda:0')\n",
      "CNN Validation Score: tensor(0.7714)\n",
      "Saving\n"
     ]
    },
    {
     "name": "stderr",
     "output_type": "stream",
     "text": [
      " 78%|███████▊  | 39/50 [1:36:04<27:10, 148.26s/it]"
     ]
    },
    {
     "name": "stdout",
     "output_type": "stream",
     "text": [
      "{'train_loss': tensor(0.0217, device='cuda:0'), 'train_f1': tensor(0.6904), 'lr': 0.00015050000000034155}\n",
      "Val Loss: tensor(0.0033, device='cuda:0')\n",
      "CNN Validation Score: tensor(0.7739)\n",
      "Saving\n"
     ]
    },
    {
     "name": "stderr",
     "output_type": "stream",
     "text": [
      " 80%|████████  | 40/50 [1:38:36<24:52, 149.24s/it]"
     ]
    },
    {
     "name": "stdout",
     "output_type": "stream",
     "text": [
      "{'train_loss': tensor(0.0220, device='cuda:0'), 'train_f1': tensor(0.6928), 'lr': 3.87260057971705e-06}\n",
      "Val Loss: tensor(0.0033, device='cuda:0')\n",
      "CNN Validation Score: tensor(0.7759)\n",
      "Saving\n"
     ]
    },
    {
     "name": "stderr",
     "output_type": "stream",
     "text": [
      " 82%|████████▏ | 41/50 [1:41:07<22:28, 149.87s/it]"
     ]
    },
    {
     "name": "stdout",
     "output_type": "stream",
     "text": [
      "{'train_loss': tensor(0.0216, device='cuda:0'), 'train_f1': tensor(0.6954), 'lr': 0.00020771117313849035}\n",
      "Val Loss: tensor(0.0032, device='cuda:0')\n",
      "CNN Validation Score: tensor(0.7778)\n",
      "Saving\n"
     ]
    },
    {
     "name": "stderr",
     "output_type": "stream",
     "text": [
      " 84%|████████▍ | 42/50 [1:43:34<19:51, 148.88s/it]"
     ]
    },
    {
     "name": "stdout",
     "output_type": "stream",
     "text": [
      "{'train_loss': tensor(0.0211, device='cuda:0'), 'train_f1': tensor(0.6978), 'lr': 0.00027480470703905905}\n",
      "Val Loss: tensor(0.0037, device='cuda:0')\n",
      "CNN Validation Score: tensor(0.7785)\n",
      "Saving\n"
     ]
    },
    {
     "name": "stderr",
     "output_type": "stream",
     "text": [
      " 86%|████████▌ | 43/50 [1:45:51<16:57, 145.39s/it]"
     ]
    },
    {
     "name": "stdout",
     "output_type": "stream",
     "text": [
      "{'train_loss': tensor(0.0209, device='cuda:0'), 'train_f1': tensor(0.7000), 'lr': 4.4787536212556226e-05}\n",
      "Val Loss: tensor(0.0033, device='cuda:0')\n",
      "CNN Validation Score: tensor(0.7806)\n",
      "Saving\n"
     ]
    },
    {
     "name": "stderr",
     "output_type": "stream",
     "text": [
      " 88%|████████▊ | 44/50 [1:48:21<14:39, 146.64s/it]"
     ]
    },
    {
     "name": "stdout",
     "output_type": "stream",
     "text": [
      "{'train_loss': tensor(0.0207, device='cuda:0'), 'train_f1': tensor(0.7022), 'lr': 6.744225016364239e-05}\n",
      "Val Loss: tensor(0.0036, device='cuda:0')\n",
      "CNN Validation Score: tensor(0.7816)\n",
      "Saving\n"
     ]
    },
    {
     "name": "stderr",
     "output_type": "stream",
     "text": [
      " 90%|█████████ | 45/50 [1:50:49<12:15, 147.12s/it]"
     ]
    },
    {
     "name": "stdout",
     "output_type": "stream",
     "text": [
      "{'train_loss': tensor(0.0207, device='cuda:0'), 'train_f1': tensor(0.7045), 'lr': 0.0002886199901106629}\n",
      "Val Loss: tensor(0.0032, device='cuda:0')\n",
      "CNN Validation Score: tensor(0.7832)\n",
      "Saving\n"
     ]
    },
    {
     "name": "stderr",
     "output_type": "stream",
     "text": [
      " 92%|█████████▏| 46/50 [1:53:18<09:50, 147.66s/it]"
     ]
    },
    {
     "name": "stdout",
     "output_type": "stream",
     "text": [
      "{'train_loss': tensor(0.0210, device='cuda:0'), 'train_f1': tensor(0.7064), 'lr': 0.0001796660031415372}\n",
      "Val Loss: tensor(0.0034, device='cuda:0')\n",
      "CNN Validation Score: tensor(0.7848)\n",
      "Saving\n"
     ]
    },
    {
     "name": "stderr",
     "output_type": "stream",
     "text": [
      " 94%|█████████▍| 47/50 [1:55:44<07:21, 147.31s/it]"
     ]
    },
    {
     "name": "stdout",
     "output_type": "stream",
     "text": [
      "{'train_loss': tensor(0.0206, device='cuda:0'), 'train_f1': tensor(0.7084), 'lr': 1e-06}\n",
      "Val Loss: tensor(0.0032, device='cuda:0')\n",
      "CNN Validation Score: tensor(0.7865)\n",
      "Saving\n"
     ]
    },
    {
     "name": "stderr",
     "output_type": "stream",
     "text": [
      " 96%|█████████▌| 48/50 [1:58:06<04:51, 145.68s/it]"
     ]
    },
    {
     "name": "stdout",
     "output_type": "stream",
     "text": [
      "{'train_loss': tensor(0.0201, device='cuda:0'), 'train_f1': tensor(0.7105), 'lr': 0.00017966600314181776}\n",
      "Val Loss: tensor(0.0035, device='cuda:0')\n",
      "CNN Validation Score: tensor(0.7873)\n",
      "Saving\n"
     ]
    },
    {
     "name": "stderr",
     "output_type": "stream",
     "text": [
      " 98%|█████████▊| 49/50 [2:00:37<02:27, 147.13s/it]"
     ]
    },
    {
     "name": "stdout",
     "output_type": "stream",
     "text": [
      "{'train_loss': tensor(0.0205, device='cuda:0'), 'train_f1': tensor(0.7123), 'lr': 0.00028861999011101964}\n",
      "Val Loss: tensor(0.0035, device='cuda:0')\n",
      "CNN Validation Score: tensor(0.7879)\n",
      "Saving\n"
     ]
    },
    {
     "name": "stderr",
     "output_type": "stream",
     "text": [
      "100%|██████████| 50/50 [2:03:06<00:00, 147.72s/it]\n",
      "  0%|          | 0/50 [00:00<?, ?it/s]"
     ]
    },
    {
     "name": "stdout",
     "output_type": "stream",
     "text": [
      "{'train_loss': tensor(0.0250, device='cuda:0', grad_fn=<MeanBackward0>), 'train_f1': tensor(0.5747), 'lr': 0.00012133399685858832}\n",
      "ViT Validation Score: tensor(0.7400)\n",
      "Val Loss: tensor(0.0053, device='cuda:0')\n",
      "Saving\n"
     ]
    },
    {
     "name": "stderr",
     "output_type": "stream",
     "text": [
      "  2%|▏         | 1/50 [03:29<2:50:52, 209.23s/it]"
     ]
    },
    {
     "name": "stdout",
     "output_type": "stream",
     "text": [
      "**********\n",
      "{'train_loss': tensor(0.0182, device='cuda:0', grad_fn=<MeanBackward0>), 'train_f1': tensor(0.6649), 'lr': 1.2380009889563552e-05}\n",
      "ViT Validation Score: tensor(0.7696)\n",
      "Val Loss: tensor(0.0041, device='cuda:0')\n",
      "Saving\n"
     ]
    },
    {
     "name": "stderr",
     "output_type": "stream",
     "text": [
      "  4%|▍         | 2/50 [06:42<2:39:53, 199.86s/it]"
     ]
    },
    {
     "name": "stdout",
     "output_type": "stream",
     "text": [
      "**********\n",
      "{'train_loss': tensor(0.0086, device='cuda:0', grad_fn=<MeanBackward0>), 'train_f1': tensor(0.7131), 'lr': 0.00023355774983644046}\n",
      "ViT Validation Score: tensor(0.7911)\n",
      "Val Loss: tensor(0.0037, device='cuda:0')\n",
      "Saving\n"
     ]
    },
    {
     "name": "stderr",
     "output_type": "stream",
     "text": [
      "  6%|▌         | 3/50 [08:35<2:05:31, 160.24s/it]"
     ]
    },
    {
     "name": "stdout",
     "output_type": "stream",
     "text": [
      "**********\n",
      "{'train_loss': tensor(0.0224, device='cuda:0', grad_fn=<MeanBackward0>), 'train_f1': tensor(0.7405), 'lr': 0.00025621246378738644}\n",
      "ViT Validation Score: tensor(0.8005)\n",
      "Val Loss: tensor(0.0043, device='cuda:0')\n",
      "Saving\n"
     ]
    },
    {
     "name": "stderr",
     "output_type": "stream",
     "text": [
      "  8%|▊         | 4/50 [10:28<1:48:30, 141.54s/it]"
     ]
    },
    {
     "name": "stdout",
     "output_type": "stream",
     "text": [
      "**********\n",
      "{'train_loss': tensor(0.0056, device='cuda:0', grad_fn=<MeanBackward0>), 'train_f1': tensor(0.7615), 'lr': 2.6195292960766732e-05}\n",
      "ViT Validation Score: tensor(0.8162)\n",
      "Val Loss: tensor(0.0031, device='cuda:0')\n",
      "Saving\n"
     ]
    },
    {
     "name": "stderr",
     "output_type": "stream",
     "text": [
      " 10%|█         | 5/50 [12:21<1:38:19, 131.11s/it]"
     ]
    },
    {
     "name": "stdout",
     "output_type": "stream",
     "text": [
      "**********\n",
      "{'train_loss': tensor(0.0214, device='cuda:0', grad_fn=<MeanBackward0>), 'train_f1': tensor(0.7778), 'lr': 9.328882686145683e-05}\n",
      "ViT Validation Score: tensor(0.8269)\n",
      "Val Loss: tensor(0.0030, device='cuda:0')\n",
      "Saving\n"
     ]
    },
    {
     "name": "stderr",
     "output_type": "stream",
     "text": [
      " 12%|█▏        | 6/50 [14:14<1:31:47, 125.17s/it]"
     ]
    },
    {
     "name": "stdout",
     "output_type": "stream",
     "text": [
      "**********\n",
      "{'train_loss': tensor(0.0074, device='cuda:0', grad_fn=<MeanBackward0>), 'train_f1': tensor(0.7908), 'lr': 0.0002971273994203}\n",
      "ViT Validation Score: tensor(0.8316)\n",
      "Val Loss: tensor(0.0028, device='cuda:0')\n",
      "Saving\n"
     ]
    },
    {
     "name": "stderr",
     "output_type": "stream",
     "text": [
      " 14%|█▍        | 7/50 [16:08<1:26:58, 121.36s/it]"
     ]
    },
    {
     "name": "stdout",
     "output_type": "stream",
     "text": [
      "**********\n",
      "{'train_loss': tensor(0.0075, device='cuda:0', grad_fn=<MeanBackward0>), 'train_f1': tensor(0.8008), 'lr': 0.00015050000000004632}\n",
      "ViT Validation Score: tensor(0.8390)\n",
      "Val Loss: tensor(0.0025, device='cuda:0')\n",
      "Saving\n"
     ]
    },
    {
     "name": "stderr",
     "output_type": "stream",
     "text": [
      " 16%|█▌        | 8/50 [18:01<1:23:13, 118.89s/it]"
     ]
    },
    {
     "name": "stdout",
     "output_type": "stream",
     "text": [
      "**********\n",
      "{'train_loss': tensor(0.0074, device='cuda:0', grad_fn=<MeanBackward0>), 'train_f1': tensor(0.8100), 'lr': 3.87260057971705e-06}\n",
      "ViT Validation Score: tensor(0.8449)\n",
      "Val Loss: tensor(0.0026, device='cuda:0')\n",
      "Saving\n"
     ]
    },
    {
     "name": "stderr",
     "output_type": "stream",
     "text": [
      " 18%|█▊        | 9/50 [19:54<1:19:59, 117.06s/it]"
     ]
    },
    {
     "name": "stdout",
     "output_type": "stream",
     "text": [
      "**********\n",
      "{'train_loss': tensor(0.0070, device='cuda:0', grad_fn=<MeanBackward0>), 'train_f1': tensor(0.8174), 'lr': 0.00020771117313867117}\n",
      "ViT Validation Score: tensor(0.8495)\n",
      "Val Loss: tensor(0.0025, device='cuda:0')\n",
      "Saving\n"
     ]
    },
    {
     "name": "stderr",
     "output_type": "stream",
     "text": [
      " 20%|██        | 10/50 [21:48<1:17:17, 115.94s/it]"
     ]
    },
    {
     "name": "stdout",
     "output_type": "stream",
     "text": [
      "**********\n",
      "{'train_loss': tensor(0.0105, device='cuda:0', grad_fn=<MeanBackward0>), 'train_f1': tensor(0.8238), 'lr': 0.00027480470703925084}\n",
      "ViT Validation Score: tensor(0.8539)\n",
      "Val Loss: tensor(0.0024, device='cuda:0')\n",
      "Saving\n"
     ]
    },
    {
     "name": "stderr",
     "output_type": "stream",
     "text": [
      " 22%|██▏       | 11/50 [23:41<1:14:44, 115.00s/it]"
     ]
    },
    {
     "name": "stdout",
     "output_type": "stream",
     "text": [
      "**********\n",
      "{'train_loss': tensor(0.0063, device='cuda:0', grad_fn=<MeanBackward0>), 'train_f1': tensor(0.8296), 'lr': 4.478753621259821e-05}\n",
      "ViT Validation Score: tensor(0.8572)\n",
      "Val Loss: tensor(0.0024, device='cuda:0')\n",
      "Saving\n"
     ]
    },
    {
     "name": "stderr",
     "output_type": "stream",
     "text": [
      " 24%|██▍       | 12/50 [25:34<1:12:27, 114.41s/it]"
     ]
    },
    {
     "name": "stdout",
     "output_type": "stream",
     "text": [
      "**********\n",
      "{'train_loss': tensor(0.0102, device='cuda:0', grad_fn=<MeanBackward0>), 'train_f1': tensor(0.8344), 'lr': 6.744225016362168e-05}\n",
      "ViT Validation Score: tensor(0.8596)\n",
      "Val Loss: tensor(0.0023, device='cuda:0')\n",
      "Saving\n"
     ]
    },
    {
     "name": "stderr",
     "output_type": "stream",
     "text": [
      " 26%|██▌       | 13/50 [27:27<1:10:18, 114.01s/it]"
     ]
    },
    {
     "name": "stdout",
     "output_type": "stream",
     "text": [
      "**********\n",
      "{'train_loss': tensor(0.0057, device='cuda:0', grad_fn=<MeanBackward0>), 'train_f1': tensor(0.8389), 'lr': 0.00028861999011056363}\n",
      "ViT Validation Score: tensor(0.8634)\n",
      "Val Loss: tensor(0.0023, device='cuda:0')\n",
      "Saving\n"
     ]
    },
    {
     "name": "stderr",
     "output_type": "stream",
     "text": [
      " 28%|██▊       | 14/50 [29:21<1:08:20, 113.91s/it]"
     ]
    },
    {
     "name": "stdout",
     "output_type": "stream",
     "text": [
      "**********\n",
      "{'train_loss': tensor(0.0047, device='cuda:0', grad_fn=<MeanBackward0>), 'train_f1': tensor(0.8426), 'lr': 0.0001796660031414303}\n",
      "ViT Validation Score: tensor(0.8662)\n",
      "Val Loss: tensor(0.0021, device='cuda:0')\n",
      "Saving\n"
     ]
    },
    {
     "name": "stderr",
     "output_type": "stream",
     "text": [
      " 30%|███       | 15/50 [31:13<1:06:16, 113.62s/it]"
     ]
    },
    {
     "name": "stdout",
     "output_type": "stream",
     "text": [
      "**********\n",
      "{'train_loss': tensor(0.0071, device='cuda:0', grad_fn=<MeanBackward0>), 'train_f1': tensor(0.8463), 'lr': 1e-06}\n",
      "ViT Validation Score: tensor(0.8682)\n",
      "Val Loss: tensor(0.0023, device='cuda:0')\n",
      "Saving\n"
     ]
    },
    {
     "name": "stderr",
     "output_type": "stream",
     "text": [
      " 32%|███▏      | 16/50 [33:07<1:04:17, 113.47s/it]"
     ]
    },
    {
     "name": "stdout",
     "output_type": "stream",
     "text": [
      "**********\n",
      "{'train_loss': tensor(0.0096, device='cuda:0', grad_fn=<MeanBackward0>), 'train_f1': tensor(0.8497), 'lr': 0.0001796660031415497}\n",
      "ViT Validation Score: tensor(0.8706)\n",
      "Val Loss: tensor(0.0021, device='cuda:0')\n",
      "Saving\n"
     ]
    },
    {
     "name": "stderr",
     "output_type": "stream",
     "text": [
      " 34%|███▍      | 17/50 [35:01<1:02:29, 113.62s/it]"
     ]
    },
    {
     "name": "stdout",
     "output_type": "stream",
     "text": [
      "**********\n",
      "{'train_loss': tensor(0.0145, device='cuda:0', grad_fn=<MeanBackward0>), 'train_f1': tensor(0.8530), 'lr': 0.00028861999011024487}\n",
      "ViT Validation Score: tensor(0.8722)\n",
      "Val Loss: tensor(0.0022, device='cuda:0')\n",
      "Saving\n"
     ]
    },
    {
     "name": "stderr",
     "output_type": "stream",
     "text": [
      " 36%|███▌      | 18/50 [36:54<1:00:29, 113.43s/it]"
     ]
    },
    {
     "name": "stdout",
     "output_type": "stream",
     "text": [
      "**********\n",
      "{'train_loss': tensor(0.0072, device='cuda:0', grad_fn=<MeanBackward0>), 'train_f1': tensor(0.8557), 'lr': 6.74422501636593e-05}\n",
      "ViT Validation Score: tensor(0.8740)\n",
      "Val Loss: tensor(0.0022, device='cuda:0')\n",
      "Saving\n"
     ]
    },
    {
     "name": "stderr",
     "output_type": "stream",
     "text": [
      " 38%|███▊      | 19/50 [38:47<58:32, 113.30s/it]  "
     ]
    },
    {
     "name": "stdout",
     "output_type": "stream",
     "text": [
      "**********\n",
      "{'train_loss': tensor(0.0167, device='cuda:0', grad_fn=<MeanBackward0>), 'train_f1': tensor(0.8585), 'lr': 4.478753621266829e-05}\n",
      "ViT Validation Score: tensor(0.8755)\n",
      "Val Loss: tensor(0.0021, device='cuda:0')\n",
      "Saving\n"
     ]
    },
    {
     "name": "stderr",
     "output_type": "stream",
     "text": [
      " 40%|████      | 20/50 [40:39<56:34, 113.14s/it]"
     ]
    },
    {
     "name": "stdout",
     "output_type": "stream",
     "text": [
      "**********\n",
      "{'train_loss': tensor(0.0034, device='cuda:0', grad_fn=<MeanBackward0>), 'train_f1': tensor(0.8611), 'lr': 0.0002748047070394487}\n",
      "ViT Validation Score: tensor(0.8764)\n",
      "Val Loss: tensor(0.0022, device='cuda:0')\n",
      "Saving\n"
     ]
    },
    {
     "name": "stderr",
     "output_type": "stream",
     "text": [
      " 42%|████▏     | 21/50 [42:33<54:49, 113.43s/it]"
     ]
    },
    {
     "name": "stdout",
     "output_type": "stream",
     "text": [
      "**********\n",
      "{'train_loss': tensor(0.0071, device='cuda:0', grad_fn=<MeanBackward0>), 'train_f1': tensor(0.8636), 'lr': 0.00020771117313867372}\n",
      "ViT Validation Score: tensor(0.8778)\n",
      "Val Loss: tensor(0.0020, device='cuda:0')\n",
      "Saving\n"
     ]
    },
    {
     "name": "stderr",
     "output_type": "stream",
     "text": [
      " 44%|████▍     | 22/50 [44:26<52:52, 113.32s/it]"
     ]
    },
    {
     "name": "stdout",
     "output_type": "stream",
     "text": [
      "**********\n",
      "{'train_loss': tensor(0.0047, device='cuda:0', grad_fn=<MeanBackward0>), 'train_f1': tensor(0.8659), 'lr': 3.8726005797196736e-06}\n",
      "ViT Validation Score: tensor(0.8791)\n",
      "Val Loss: tensor(0.0024, device='cuda:0')\n",
      "Saving\n"
     ]
    },
    {
     "name": "stderr",
     "output_type": "stream",
     "text": [
      " 46%|████▌     | 23/50 [46:20<51:03, 113.47s/it]"
     ]
    },
    {
     "name": "stdout",
     "output_type": "stream",
     "text": [
      "**********\n",
      "{'train_loss': tensor(0.0053, device='cuda:0', grad_fn=<MeanBackward0>), 'train_f1': tensor(0.8679), 'lr': 0.00015050000000000686}\n",
      "ViT Validation Score: tensor(0.8804)\n",
      "Val Loss: tensor(0.0019, device='cuda:0')\n",
      "Saving\n"
     ]
    },
    {
     "name": "stderr",
     "output_type": "stream",
     "text": [
      " 48%|████▊     | 24/50 [48:13<49:06, 113.32s/it]"
     ]
    },
    {
     "name": "stdout",
     "output_type": "stream",
     "text": [
      "**********\n",
      "{'train_loss': tensor(0.0109, device='cuda:0', grad_fn=<MeanBackward0>), 'train_f1': tensor(0.8698), 'lr': 0.0002971273994201916}\n",
      "ViT Validation Score: tensor(0.8817)\n",
      "Val Loss: tensor(0.0020, device='cuda:0')\n",
      "Saving\n"
     ]
    },
    {
     "name": "stderr",
     "output_type": "stream",
     "text": [
      " 50%|█████     | 25/50 [50:07<47:18, 113.53s/it]"
     ]
    },
    {
     "name": "stdout",
     "output_type": "stream",
     "text": [
      "**********\n",
      "{'train_loss': tensor(0.0108, device='cuda:0', grad_fn=<MeanBackward0>), 'train_f1': tensor(0.8715), 'lr': 9.32888268615698e-05}\n",
      "ViT Validation Score: tensor(0.8830)\n",
      "Val Loss: tensor(0.0019, device='cuda:0')\n",
      "Saving\n"
     ]
    },
    {
     "name": "stderr",
     "output_type": "stream",
     "text": [
      " 52%|█████▏    | 26/50 [52:00<45:20, 113.36s/it]"
     ]
    },
    {
     "name": "stdout",
     "output_type": "stream",
     "text": [
      "**********\n",
      "{'train_loss': tensor(0.0044, device='cuda:0', grad_fn=<MeanBackward0>), 'train_f1': tensor(0.8733), 'lr': 2.619529296079897e-05}\n",
      "ViT Validation Score: tensor(0.8844)\n",
      "Val Loss: tensor(0.0019, device='cuda:0')\n",
      "Saving\n"
     ]
    },
    {
     "name": "stderr",
     "output_type": "stream",
     "text": [
      " 54%|█████▍    | 27/50 [53:53<43:25, 113.29s/it]"
     ]
    },
    {
     "name": "stdout",
     "output_type": "stream",
     "text": [
      "**********\n",
      "{'train_loss': tensor(0.0040, device='cuda:0', grad_fn=<MeanBackward0>), 'train_f1': tensor(0.8750), 'lr': 0.00025621246378769365}\n",
      "ViT Validation Score: tensor(0.8857)\n",
      "Val Loss: tensor(0.0018, device='cuda:0')\n",
      "Saving\n"
     ]
    },
    {
     "name": "stderr",
     "output_type": "stream",
     "text": [
      " 56%|█████▌    | 28/50 [55:46<41:30, 113.22s/it]"
     ]
    },
    {
     "name": "stdout",
     "output_type": "stream",
     "text": [
      "**********\n",
      "{'train_loss': tensor(0.0052, device='cuda:0', grad_fn=<MeanBackward0>), 'train_f1': tensor(0.8766), 'lr': 0.00023355774983664505}\n",
      "ViT Validation Score: tensor(0.8861)\n",
      "Val Loss: tensor(0.0021, device='cuda:0')\n",
      "Saving\n"
     ]
    },
    {
     "name": "stderr",
     "output_type": "stream",
     "text": [
      " 58%|█████▊    | 29/50 [57:40<39:41, 113.42s/it]"
     ]
    },
    {
     "name": "stdout",
     "output_type": "stream",
     "text": [
      "**********\n",
      "{'train_loss': tensor(0.0058, device='cuda:0', grad_fn=<MeanBackward0>), 'train_f1': tensor(0.8782), 'lr': 1.2380009889569737e-05}\n",
      "ViT Validation Score: tensor(0.8871)\n",
      "Val Loss: tensor(0.0020, device='cuda:0')\n",
      "Saving\n"
     ]
    },
    {
     "name": "stderr",
     "output_type": "stream",
     "text": [
      " 60%|██████    | 30/50 [59:33<37:45, 113.28s/it]"
     ]
    },
    {
     "name": "stdout",
     "output_type": "stream",
     "text": [
      "**********\n",
      "{'train_loss': tensor(0.0084, device='cuda:0', grad_fn=<MeanBackward0>), 'train_f1': tensor(0.8796), 'lr': 0.00012133399685861586}\n",
      "ViT Validation Score: tensor(0.8879)\n",
      "Val Loss: tensor(0.0020, device='cuda:0')\n",
      "Saving\n"
     ]
    },
    {
     "name": "stderr",
     "output_type": "stream",
     "text": [
      " 62%|██████▏   | 31/50 [1:01:27<35:55, 113.44s/it]"
     ]
    },
    {
     "name": "stdout",
     "output_type": "stream",
     "text": [
      "**********\n",
      "{'train_loss': tensor(0.0041, device='cuda:0', grad_fn=<MeanBackward0>), 'train_f1': tensor(0.8809), 'lr': 0.0003000000000000174}\n",
      "ViT Validation Score: tensor(0.8887)\n",
      "Val Loss: tensor(0.0019, device='cuda:0')\n",
      "Saving\n"
     ]
    },
    {
     "name": "stderr",
     "output_type": "stream",
     "text": [
      " 64%|██████▍   | 32/50 [1:03:20<33:59, 113.33s/it]"
     ]
    },
    {
     "name": "stdout",
     "output_type": "stream",
     "text": [
      "**********\n",
      "{'train_loss': tensor(0.0064, device='cuda:0', grad_fn=<MeanBackward0>), 'train_f1': tensor(0.8823), 'lr': 0.00012133399685857884}\n",
      "ViT Validation Score: tensor(0.8894)\n",
      "Val Loss: tensor(0.0020, device='cuda:0')\n",
      "Saving\n"
     ]
    },
    {
     "name": "stderr",
     "output_type": "stream",
     "text": [
      " 66%|██████▌   | 33/50 [1:05:14<32:08, 113.47s/it]"
     ]
    },
    {
     "name": "stdout",
     "output_type": "stream",
     "text": [
      "**********\n",
      "{'train_loss': tensor(0.0052, device='cuda:0', grad_fn=<MeanBackward0>), 'train_f1': tensor(0.8836), 'lr': 1.2380009889581326e-05}\n",
      "ViT Validation Score: tensor(0.8902)\n",
      "Val Loss: tensor(0.0017, device='cuda:0')\n",
      "Saving\n"
     ]
    },
    {
     "name": "stderr",
     "output_type": "stream",
     "text": [
      " 68%|██████▊   | 34/50 [1:07:06<30:10, 113.18s/it]"
     ]
    },
    {
     "name": "stdout",
     "output_type": "stream",
     "text": [
      "**********\n",
      "{'train_loss': tensor(0.0044, device='cuda:0', grad_fn=<MeanBackward0>), 'train_f1': tensor(0.8847), 'lr': 0.0002335577498367742}\n",
      "ViT Validation Score: tensor(0.8911)\n",
      "Val Loss: tensor(0.0018, device='cuda:0')\n",
      "Saving\n"
     ]
    },
    {
     "name": "stderr",
     "output_type": "stream",
     "text": [
      " 70%|███████   | 35/50 [1:08:59<28:15, 113.01s/it]"
     ]
    },
    {
     "name": "stdout",
     "output_type": "stream",
     "text": [
      "**********\n",
      "{'train_loss': tensor(0.0138, device='cuda:0', grad_fn=<MeanBackward0>), 'train_f1': tensor(0.8857), 'lr': 0.000256212463787736}\n",
      "ViT Validation Score: tensor(0.8913)\n",
      "Val Loss: tensor(0.0020, device='cuda:0')\n",
      "Saving\n"
     ]
    },
    {
     "name": "stderr",
     "output_type": "stream",
     "text": [
      " 72%|███████▏  | 36/50 [1:10:53<26:26, 113.32s/it]"
     ]
    },
    {
     "name": "stdout",
     "output_type": "stream",
     "text": [
      "**********\n",
      "{'train_loss': tensor(0.0085, device='cuda:0', grad_fn=<MeanBackward0>), 'train_f1': tensor(0.8868), 'lr': 2.619529296078911e-05}\n",
      "ViT Validation Score: tensor(0.8919)\n",
      "Val Loss: tensor(0.0018, device='cuda:0')\n",
      "Saving\n"
     ]
    },
    {
     "name": "stderr",
     "output_type": "stream",
     "text": [
      " 74%|███████▍  | 37/50 [1:12:47<24:33, 113.38s/it]"
     ]
    },
    {
     "name": "stdout",
     "output_type": "stream",
     "text": [
      "**********\n",
      "{'train_loss': tensor(0.0091, device='cuda:0', grad_fn=<MeanBackward0>), 'train_f1': tensor(0.8878), 'lr': 9.328882686169183e-05}\n",
      "ViT Validation Score: tensor(0.8925)\n",
      "Val Loss: tensor(0.0017, device='cuda:0')\n",
      "Saving\n"
     ]
    },
    {
     "name": "stderr",
     "output_type": "stream",
     "text": [
      " 76%|███████▌  | 38/50 [1:14:40<22:40, 113.36s/it]"
     ]
    },
    {
     "name": "stdout",
     "output_type": "stream",
     "text": [
      "**********\n",
      "{'train_loss': tensor(0.0070, device='cuda:0', grad_fn=<MeanBackward0>), 'train_f1': tensor(0.8889), 'lr': 0.0002971273994210897}\n",
      "ViT Validation Score: tensor(0.8934)\n",
      "Val Loss: tensor(0.0019, device='cuda:0')\n",
      "Saving\n"
     ]
    },
    {
     "name": "stderr",
     "output_type": "stream",
     "text": [
      " 78%|███████▊  | 39/50 [1:16:33<20:44, 113.13s/it]"
     ]
    },
    {
     "name": "stdout",
     "output_type": "stream",
     "text": [
      "**********\n",
      "{'train_loss': tensor(0.0054, device='cuda:0', grad_fn=<MeanBackward0>), 'train_f1': tensor(0.8900), 'lr': 0.00015050000000034155}\n"
     ]
    },
    {
     "name": "stderr",
     "output_type": "stream",
     "text": [
      " 80%|████████  | 40/50 [1:18:26<18:50, 113.09s/it]"
     ]
    },
    {
     "name": "stdout",
     "output_type": "stream",
     "text": [
      "ViT Validation Score: tensor(0.8931)\n",
      "Val Loss: tensor(0.0023, device='cuda:0')\n",
      "**********\n",
      "{'train_loss': tensor(0.0070, device='cuda:0', grad_fn=<MeanBackward0>), 'train_f1': tensor(0.8909), 'lr': 3.87260057971705e-06}\n",
      "ViT Validation Score: tensor(0.8938)\n",
      "Val Loss: tensor(0.0018, device='cuda:0')\n",
      "Saving\n"
     ]
    },
    {
     "name": "stderr",
     "output_type": "stream",
     "text": [
      " 82%|████████▏ | 41/50 [1:20:19<16:58, 113.21s/it]"
     ]
    },
    {
     "name": "stdout",
     "output_type": "stream",
     "text": [
      "**********\n",
      "{'train_loss': tensor(0.0059, device='cuda:0', grad_fn=<MeanBackward0>), 'train_f1': tensor(0.8919), 'lr': 0.00020771117313849035}\n",
      "ViT Validation Score: tensor(0.8945)\n",
      "Val Loss: tensor(0.0018, device='cuda:0')\n",
      "Saving\n"
     ]
    },
    {
     "name": "stderr",
     "output_type": "stream",
     "text": [
      " 84%|████████▍ | 42/50 [1:22:13<15:07, 113.48s/it]"
     ]
    },
    {
     "name": "stdout",
     "output_type": "stream",
     "text": [
      "**********\n",
      "{'train_loss': tensor(0.0094, device='cuda:0', grad_fn=<MeanBackward0>), 'train_f1': tensor(0.8927), 'lr': 0.00027480470703905905}\n",
      "ViT Validation Score: tensor(0.8954)\n",
      "Val Loss: tensor(0.0018, device='cuda:0')\n",
      "Saving\n"
     ]
    },
    {
     "name": "stderr",
     "output_type": "stream",
     "text": [
      " 86%|████████▌ | 43/50 [1:24:06<13:13, 113.31s/it]"
     ]
    },
    {
     "name": "stdout",
     "output_type": "stream",
     "text": [
      "**********\n",
      "{'train_loss': tensor(0.0044, device='cuda:0', grad_fn=<MeanBackward0>), 'train_f1': tensor(0.8936), 'lr': 4.4787536212556226e-05}\n",
      "ViT Validation Score: tensor(0.8958)\n",
      "Val Loss: tensor(0.0018, device='cuda:0')\n",
      "Saving\n"
     ]
    },
    {
     "name": "stderr",
     "output_type": "stream",
     "text": [
      " 88%|████████▊ | 44/50 [1:26:00<11:20, 113.43s/it]"
     ]
    },
    {
     "name": "stdout",
     "output_type": "stream",
     "text": [
      "**********\n",
      "{'train_loss': tensor(0.0131, device='cuda:0', grad_fn=<MeanBackward0>), 'train_f1': tensor(0.8945), 'lr': 6.744225016364239e-05}\n",
      "ViT Validation Score: tensor(0.8963)\n",
      "Val Loss: tensor(0.0017, device='cuda:0')\n",
      "Saving\n"
     ]
    },
    {
     "name": "stderr",
     "output_type": "stream",
     "text": [
      " 90%|█████████ | 45/50 [1:27:53<09:26, 113.37s/it]"
     ]
    },
    {
     "name": "stdout",
     "output_type": "stream",
     "text": [
      "**********\n",
      "{'train_loss': tensor(0.0063, device='cuda:0', grad_fn=<MeanBackward0>), 'train_f1': tensor(0.8953), 'lr': 0.0002886199901106629}\n",
      "ViT Validation Score: tensor(0.8964)\n",
      "Val Loss: tensor(0.0024, device='cuda:0')\n",
      "Saving\n"
     ]
    },
    {
     "name": "stderr",
     "output_type": "stream",
     "text": [
      " 92%|█████████▏| 46/50 [1:29:47<07:33, 113.49s/it]"
     ]
    },
    {
     "name": "stdout",
     "output_type": "stream",
     "text": [
      "**********\n",
      "{'train_loss': tensor(0.0014, device='cuda:0', grad_fn=<MeanBackward0>), 'train_f1': tensor(0.8960), 'lr': 0.0001796660031415372}\n",
      "ViT Validation Score: tensor(0.8966)\n",
      "Val Loss: tensor(0.0020, device='cuda:0')\n",
      "Saving\n"
     ]
    },
    {
     "name": "stderr",
     "output_type": "stream",
     "text": [
      " 94%|█████████▍| 47/50 [1:31:40<05:40, 113.46s/it]"
     ]
    },
    {
     "name": "stdout",
     "output_type": "stream",
     "text": [
      "**********\n",
      "{'train_loss': tensor(0.0041, device='cuda:0', grad_fn=<MeanBackward0>), 'train_f1': tensor(0.8967), 'lr': 1e-06}\n",
      "ViT Validation Score: tensor(0.8971)\n",
      "Val Loss: tensor(0.0017, device='cuda:0')\n",
      "Saving\n"
     ]
    },
    {
     "name": "stderr",
     "output_type": "stream",
     "text": [
      " 96%|█████████▌| 48/50 [1:33:34<03:47, 113.58s/it]"
     ]
    },
    {
     "name": "stdout",
     "output_type": "stream",
     "text": [
      "**********\n",
      "{'train_loss': tensor(0.0025, device='cuda:0', grad_fn=<MeanBackward0>), 'train_f1': tensor(0.8973), 'lr': 0.00017966600314181776}\n",
      "ViT Validation Score: tensor(0.8975)\n",
      "Val Loss: tensor(0.0017, device='cuda:0')\n",
      "Saving\n"
     ]
    },
    {
     "name": "stderr",
     "output_type": "stream",
     "text": [
      " 98%|█████████▊| 49/50 [1:35:27<01:53, 113.44s/it]"
     ]
    },
    {
     "name": "stdout",
     "output_type": "stream",
     "text": [
      "**********\n",
      "{'train_loss': tensor(0.0062, device='cuda:0', grad_fn=<MeanBackward0>), 'train_f1': tensor(0.8981), 'lr': 0.00028861999011101964}\n",
      "ViT Validation Score: tensor(0.8981)\n",
      "Val Loss: tensor(0.0020, device='cuda:0')\n",
      "Saving\n"
     ]
    },
    {
     "name": "stderr",
     "output_type": "stream",
     "text": [
      "100%|██████████| 50/50 [1:37:20<00:00, 116.82s/it]"
     ]
    },
    {
     "name": "stdout",
     "output_type": "stream",
     "text": [
      "**********\n"
     ]
    },
    {
     "name": "stderr",
     "output_type": "stream",
     "text": [
      "\n"
     ]
    },
    {
     "name": "stdout",
     "output_type": "stream",
     "text": [
      "**********\n",
      "For 2\n",
      "Fine tunning Cov-T\n"
     ]
    },
    {
     "name": "stderr",
     "output_type": "stream",
     "text": [
      "  0%|          | 0/50 [00:00<?, ?it/s]"
     ]
    },
    {
     "name": "stdout",
     "output_type": "stream",
     "text": [
      "{'train_loss': tensor(0.0667, device='cuda:0'), 'train_f1': tensor(0.0295), 'lr': 0.00012133399685858832}\n",
      "Val Loss: tensor(0.0109, device='cuda:0')\n",
      "CNN Validation Score: tensor(0.1765)\n",
      "Saving\n"
     ]
    },
    {
     "name": "stderr",
     "output_type": "stream",
     "text": [
      "  2%|▏         | 1/50 [01:25<1:09:48, 85.48s/it]"
     ]
    },
    {
     "name": "stdout",
     "output_type": "stream",
     "text": [
      "{'train_loss': tensor(0.0524, device='cuda:0'), 'train_f1': tensor(0.1261), 'lr': 1.2380009889563552e-05}\n",
      "Val Loss: tensor(0.0092, device='cuda:0')\n",
      "CNN Validation Score: tensor(0.2915)\n",
      "Saving\n"
     ]
    },
    {
     "name": "stderr",
     "output_type": "stream",
     "text": [
      "  4%|▍         | 2/50 [02:50<1:07:59, 84.99s/it]"
     ]
    },
    {
     "name": "stdout",
     "output_type": "stream",
     "text": [
      "{'train_loss': tensor(0.0453, device='cuda:0'), 'train_f1': tensor(0.2139), 'lr': 0.00023355774983644046}\n",
      "Val Loss: tensor(0.0080, device='cuda:0')\n",
      "CNN Validation Score: tensor(0.3564)\n",
      "Saving\n"
     ]
    },
    {
     "name": "stderr",
     "output_type": "stream",
     "text": [
      "  6%|▌         | 3/50 [04:16<1:07:02, 85.59s/it]"
     ]
    },
    {
     "name": "stdout",
     "output_type": "stream",
     "text": [
      "{'train_loss': tensor(0.0405, device='cuda:0'), 'train_f1': tensor(0.2820), 'lr': 0.00025621246378738644}\n",
      "Val Loss: tensor(0.0069, device='cuda:0')\n",
      "CNN Validation Score: tensor(0.4367)\n",
      "Saving\n"
     ]
    },
    {
     "name": "stderr",
     "output_type": "stream",
     "text": [
      "  8%|▊         | 4/50 [05:41<1:05:33, 85.51s/it]"
     ]
    },
    {
     "name": "stdout",
     "output_type": "stream",
     "text": [
      "{'train_loss': tensor(0.0377, device='cuda:0'), 'train_f1': tensor(0.3369), 'lr': 2.6195292960766732e-05}\n",
      "Val Loss: tensor(0.0065, device='cuda:0')\n",
      "CNN Validation Score: tensor(0.4835)\n",
      "Saving\n"
     ]
    },
    {
     "name": "stderr",
     "output_type": "stream",
     "text": [
      " 10%|█         | 5/50 [07:06<1:03:59, 85.33s/it]"
     ]
    },
    {
     "name": "stdout",
     "output_type": "stream",
     "text": [
      "{'train_loss': tensor(0.0360, device='cuda:0'), 'train_f1': tensor(0.3797), 'lr': 9.328882686145683e-05}\n",
      "Val Loss: tensor(0.0064, device='cuda:0')\n",
      "CNN Validation Score: tensor(0.5225)\n",
      "Saving\n"
     ]
    },
    {
     "name": "stderr",
     "output_type": "stream",
     "text": [
      " 12%|█▏        | 6/50 [08:33<1:02:52, 85.73s/it]"
     ]
    },
    {
     "name": "stdout",
     "output_type": "stream",
     "text": [
      "{'train_loss': tensor(0.0342, device='cuda:0'), 'train_f1': tensor(0.4157), 'lr': 0.0002971273994203}\n",
      "Val Loss: tensor(0.0057, device='cuda:0')\n",
      "CNN Validation Score: tensor(0.5523)\n",
      "Saving\n"
     ]
    },
    {
     "name": "stderr",
     "output_type": "stream",
     "text": [
      " 14%|█▍        | 7/50 [09:58<1:01:20, 85.59s/it]"
     ]
    },
    {
     "name": "stdout",
     "output_type": "stream",
     "text": [
      "{'train_loss': tensor(0.0325, device='cuda:0'), 'train_f1': tensor(0.4458), 'lr': 0.00015050000000004632}\n",
      "Val Loss: tensor(0.0056, device='cuda:0')\n",
      "CNN Validation Score: tensor(0.5753)\n",
      "Saving\n"
     ]
    },
    {
     "name": "stderr",
     "output_type": "stream",
     "text": [
      " 16%|█▌        | 8/50 [11:23<59:47, 85.41s/it]  "
     ]
    },
    {
     "name": "stdout",
     "output_type": "stream",
     "text": [
      "{'train_loss': tensor(0.0314, device='cuda:0'), 'train_f1': tensor(0.4702), 'lr': 3.87260057971705e-06}\n",
      "Val Loss: tensor(0.0054, device='cuda:0')\n",
      "CNN Validation Score: tensor(0.5943)\n",
      "Saving\n"
     ]
    },
    {
     "name": "stderr",
     "output_type": "stream",
     "text": [
      " 18%|█▊        | 9/50 [12:51<58:47, 86.04s/it]"
     ]
    },
    {
     "name": "stdout",
     "output_type": "stream",
     "text": [
      "{'train_loss': tensor(0.0310, device='cuda:0'), 'train_f1': tensor(0.4907), 'lr': 0.00020771117313867117}\n",
      "Val Loss: tensor(0.0052, device='cuda:0')\n",
      "CNN Validation Score: tensor(0.6136)\n",
      "Saving\n"
     ]
    },
    {
     "name": "stderr",
     "output_type": "stream",
     "text": [
      " 20%|██        | 10/50 [14:16<57:16, 85.92s/it]"
     ]
    },
    {
     "name": "stdout",
     "output_type": "stream",
     "text": [
      "{'train_loss': tensor(0.0302, device='cuda:0'), 'train_f1': tensor(0.5092), 'lr': 0.00027480470703925084}\n",
      "Val Loss: tensor(0.0052, device='cuda:0')\n",
      "CNN Validation Score: tensor(0.6238)\n",
      "Saving\n"
     ]
    },
    {
     "name": "stderr",
     "output_type": "stream",
     "text": [
      " 22%|██▏       | 11/50 [15:42<55:45, 85.79s/it]"
     ]
    },
    {
     "name": "stdout",
     "output_type": "stream",
     "text": [
      "{'train_loss': tensor(0.0287, device='cuda:0'), 'train_f1': tensor(0.5254), 'lr': 4.478753621259821e-05}\n",
      "Val Loss: tensor(0.0048, device='cuda:0')\n",
      "CNN Validation Score: tensor(0.6388)\n",
      "Saving\n"
     ]
    },
    {
     "name": "stderr",
     "output_type": "stream",
     "text": [
      " 24%|██▍       | 12/50 [17:08<54:26, 85.96s/it]"
     ]
    },
    {
     "name": "stdout",
     "output_type": "stream",
     "text": [
      "{'train_loss': tensor(0.0286, device='cuda:0'), 'train_f1': tensor(0.5399), 'lr': 6.744225016362168e-05}\n"
     ]
    },
    {
     "name": "stderr",
     "output_type": "stream",
     "text": [
      " 26%|██▌       | 13/50 [18:35<53:08, 86.18s/it]"
     ]
    },
    {
     "name": "stdout",
     "output_type": "stream",
     "text": [
      "Val Loss: tensor(0.0052, device='cuda:0')\n",
      "CNN Validation Score: tensor(0.6439)\n",
      "Saving\n",
      "{'train_loss': tensor(0.0277, device='cuda:0'), 'train_f1': tensor(0.5525), 'lr': 0.00028861999011056363}\n",
      "Val Loss: tensor(0.0049, device='cuda:0')\n",
      "CNN Validation Score: tensor(0.6519)\n",
      "Saving\n"
     ]
    },
    {
     "name": "stderr",
     "output_type": "stream",
     "text": [
      " 28%|██▊       | 14/50 [20:01<51:39, 86.10s/it]"
     ]
    },
    {
     "name": "stdout",
     "output_type": "stream",
     "text": [
      "{'train_loss': tensor(0.0276, device='cuda:0'), 'train_f1': tensor(0.5640), 'lr': 0.0001796660031414303}\n",
      "Val Loss: tensor(0.0047, device='cuda:0')\n",
      "CNN Validation Score: tensor(0.6597)\n",
      "Saving\n"
     ]
    },
    {
     "name": "stderr",
     "output_type": "stream",
     "text": [
      " 30%|███       | 15/50 [21:26<50:03, 85.83s/it]"
     ]
    },
    {
     "name": "stdout",
     "output_type": "stream",
     "text": [
      "{'train_loss': tensor(0.0274, device='cuda:0'), 'train_f1': tensor(0.5747), 'lr': 1e-06}\n",
      "Val Loss: tensor(0.0045, device='cuda:0')\n",
      "CNN Validation Score: tensor(0.6695)\n",
      "Saving\n"
     ]
    },
    {
     "name": "stderr",
     "output_type": "stream",
     "text": [
      " 32%|███▏      | 16/50 [22:51<48:27, 85.50s/it]"
     ]
    },
    {
     "name": "stdout",
     "output_type": "stream",
     "text": [
      "{'train_loss': tensor(0.0265, device='cuda:0'), 'train_f1': tensor(0.5839), 'lr': 0.0001796660031415497}\n",
      "Val Loss: tensor(0.0044, device='cuda:0')\n",
      "CNN Validation Score: tensor(0.6781)\n",
      "Saving\n"
     ]
    },
    {
     "name": "stderr",
     "output_type": "stream",
     "text": [
      " 34%|███▍      | 17/50 [24:17<47:09, 85.73s/it]"
     ]
    },
    {
     "name": "stdout",
     "output_type": "stream",
     "text": [
      "{'train_loss': tensor(0.0263, device='cuda:0'), 'train_f1': tensor(0.5926), 'lr': 0.00028861999011024487}\n",
      "Val Loss: tensor(0.0044, device='cuda:0')\n",
      "CNN Validation Score: tensor(0.6857)\n",
      "Saving\n"
     ]
    },
    {
     "name": "stderr",
     "output_type": "stream",
     "text": [
      " 36%|███▌      | 18/50 [25:42<45:34, 85.45s/it]"
     ]
    },
    {
     "name": "stdout",
     "output_type": "stream",
     "text": [
      "{'train_loss': tensor(0.0264, device='cuda:0'), 'train_f1': tensor(0.6004), 'lr': 6.74422501636593e-05}\n",
      "Val Loss: tensor(0.0044, device='cuda:0')\n",
      "CNN Validation Score: tensor(0.6925)\n",
      "Saving\n"
     ]
    },
    {
     "name": "stderr",
     "output_type": "stream",
     "text": [
      " 38%|███▊      | 19/50 [27:07<44:05, 85.33s/it]"
     ]
    },
    {
     "name": "stdout",
     "output_type": "stream",
     "text": [
      "{'train_loss': tensor(0.0251, device='cuda:0'), 'train_f1': tensor(0.6077), 'lr': 4.478753621266829e-05}\n",
      "Val Loss: tensor(0.0045, device='cuda:0')\n",
      "CNN Validation Score: tensor(0.6976)\n",
      "Saving\n"
     ]
    },
    {
     "name": "stderr",
     "output_type": "stream",
     "text": [
      " 40%|████      | 20/50 [28:39<43:39, 87.30s/it]"
     ]
    },
    {
     "name": "stdout",
     "output_type": "stream",
     "text": [
      "{'train_loss': tensor(0.0255, device='cuda:0'), 'train_f1': tensor(0.6146), 'lr': 0.0002748047070394487}\n",
      "Val Loss: tensor(0.0040, device='cuda:0')\n",
      "CNN Validation Score: tensor(0.7035)\n",
      "Saving\n"
     ]
    },
    {
     "name": "stderr",
     "output_type": "stream",
     "text": [
      " 42%|████▏     | 21/50 [30:09<42:40, 88.30s/it]"
     ]
    },
    {
     "name": "stdout",
     "output_type": "stream",
     "text": [
      "{'train_loss': tensor(0.0250, device='cuda:0'), 'train_f1': tensor(0.6209), 'lr': 0.00020771117313867372}\n",
      "Val Loss: tensor(0.0045, device='cuda:0')\n",
      "CNN Validation Score: tensor(0.7080)\n",
      "Saving\n"
     ]
    },
    {
     "name": "stderr",
     "output_type": "stream",
     "text": [
      " 44%|████▍     | 22/50 [31:35<40:51, 87.56s/it]"
     ]
    },
    {
     "name": "stdout",
     "output_type": "stream",
     "text": [
      "{'train_loss': tensor(0.0248, device='cuda:0'), 'train_f1': tensor(0.6268), 'lr': 3.8726005797196736e-06}\n",
      "Val Loss: tensor(0.0041, device='cuda:0')\n",
      "CNN Validation Score: tensor(0.7133)\n",
      "Saving\n"
     ]
    },
    {
     "name": "stderr",
     "output_type": "stream",
     "text": [
      " 46%|████▌     | 23/50 [33:45<45:06, 100.23s/it]"
     ]
    },
    {
     "name": "stdout",
     "output_type": "stream",
     "text": [
      "{'train_loss': tensor(0.0247, device='cuda:0'), 'train_f1': tensor(0.6321), 'lr': 0.00015050000000000686}\n",
      "Val Loss: tensor(0.0044, device='cuda:0')\n",
      "CNN Validation Score: tensor(0.7178)\n",
      "Saving\n"
     ]
    },
    {
     "name": "stderr",
     "output_type": "stream",
     "text": [
      " 48%|████▊     | 24/50 [35:56<47:24, 109.39s/it]"
     ]
    },
    {
     "name": "stdout",
     "output_type": "stream",
     "text": [
      "{'train_loss': tensor(0.0244, device='cuda:0'), 'train_f1': tensor(0.6372), 'lr': 0.0002971273994201916}\n",
      "Val Loss: tensor(0.0044, device='cuda:0')\n",
      "CNN Validation Score: tensor(0.7205)\n",
      "Saving\n"
     ]
    },
    {
     "name": "stderr",
     "output_type": "stream",
     "text": [
      " 50%|█████     | 25/50 [38:05<48:04, 115.37s/it]"
     ]
    },
    {
     "name": "stdout",
     "output_type": "stream",
     "text": [
      "{'train_loss': tensor(0.0239, device='cuda:0'), 'train_f1': tensor(0.6423), 'lr': 9.32888268615698e-05}\n",
      "Val Loss: tensor(0.0040, device='cuda:0')\n",
      "CNN Validation Score: tensor(0.7253)\n",
      "Saving\n"
     ]
    },
    {
     "name": "stderr",
     "output_type": "stream",
     "text": [
      " 52%|█████▏    | 26/50 [40:15<47:55, 119.80s/it]"
     ]
    },
    {
     "name": "stdout",
     "output_type": "stream",
     "text": [
      "{'train_loss': tensor(0.0234, device='cuda:0'), 'train_f1': tensor(0.6469), 'lr': 2.619529296079897e-05}\n",
      "Val Loss: tensor(0.0040, device='cuda:0')\n",
      "CNN Validation Score: tensor(0.7291)\n",
      "Saving\n"
     ]
    },
    {
     "name": "stderr",
     "output_type": "stream",
     "text": [
      " 54%|█████▍    | 27/50 [42:25<47:02, 122.70s/it]"
     ]
    },
    {
     "name": "stdout",
     "output_type": "stream",
     "text": [
      "{'train_loss': tensor(0.0231, device='cuda:0'), 'train_f1': tensor(0.6514), 'lr': 0.00025621246378769365}\n",
      "Val Loss: tensor(0.0038, device='cuda:0')\n",
      "CNN Validation Score: tensor(0.7331)\n",
      "Saving\n"
     ]
    },
    {
     "name": "stderr",
     "output_type": "stream",
     "text": [
      " 56%|█████▌    | 28/50 [44:36<45:54, 125.20s/it]"
     ]
    },
    {
     "name": "stdout",
     "output_type": "stream",
     "text": [
      "{'train_loss': tensor(0.0233, device='cuda:0'), 'train_f1': tensor(0.6555), 'lr': 0.00023355774983664505}\n",
      "Val Loss: tensor(0.0038, device='cuda:0')\n",
      "CNN Validation Score: tensor(0.7371)\n",
      "Saving\n"
     ]
    },
    {
     "name": "stderr",
     "output_type": "stream",
     "text": [
      " 58%|█████▊    | 29/50 [46:45<44:17, 126.56s/it]"
     ]
    },
    {
     "name": "stdout",
     "output_type": "stream",
     "text": [
      "{'train_loss': tensor(0.0238, device='cuda:0'), 'train_f1': tensor(0.6594), 'lr': 1.2380009889569737e-05}\n",
      "Val Loss: tensor(0.0040, device='cuda:0')\n",
      "CNN Validation Score: tensor(0.7401)\n",
      "Saving\n"
     ]
    },
    {
     "name": "stderr",
     "output_type": "stream",
     "text": [
      " 60%|██████    | 30/50 [48:56<42:37, 127.88s/it]"
     ]
    },
    {
     "name": "stdout",
     "output_type": "stream",
     "text": [
      "{'train_loss': tensor(0.0231, device='cuda:0'), 'train_f1': tensor(0.6633), 'lr': 0.00012133399685861586}\n",
      "Val Loss: tensor(0.0039, device='cuda:0')\n",
      "CNN Validation Score: tensor(0.7433)\n",
      "Saving\n"
     ]
    },
    {
     "name": "stderr",
     "output_type": "stream",
     "text": [
      " 62%|██████▏   | 31/50 [51:06<40:37, 128.31s/it]"
     ]
    },
    {
     "name": "stdout",
     "output_type": "stream",
     "text": [
      "{'train_loss': tensor(0.0227, device='cuda:0'), 'train_f1': tensor(0.6668), 'lr': 0.0003000000000000174}\n",
      "Val Loss: tensor(0.0036, device='cuda:0')\n",
      "CNN Validation Score: tensor(0.7466)\n",
      "Saving\n"
     ]
    },
    {
     "name": "stderr",
     "output_type": "stream",
     "text": [
      " 64%|██████▍   | 32/50 [53:18<38:53, 129.61s/it]"
     ]
    },
    {
     "name": "stdout",
     "output_type": "stream",
     "text": [
      "{'train_loss': tensor(0.0228, device='cuda:0'), 'train_f1': tensor(0.6701), 'lr': 0.00012133399685857884}\n",
      "Val Loss: tensor(0.0039, device='cuda:0')\n",
      "CNN Validation Score: tensor(0.7495)\n",
      "Saving\n"
     ]
    },
    {
     "name": "stderr",
     "output_type": "stream",
     "text": [
      " 66%|██████▌   | 33/50 [55:28<36:43, 129.61s/it]"
     ]
    },
    {
     "name": "stdout",
     "output_type": "stream",
     "text": [
      "{'train_loss': tensor(0.0228, device='cuda:0'), 'train_f1': tensor(0.6734), 'lr': 1.2380009889581326e-05}\n",
      "Val Loss: tensor(0.0038, device='cuda:0')\n",
      "CNN Validation Score: tensor(0.7516)\n",
      "Saving\n"
     ]
    },
    {
     "name": "stderr",
     "output_type": "stream",
     "text": [
      " 68%|██████▊   | 34/50 [57:38<34:37, 129.87s/it]"
     ]
    },
    {
     "name": "stdout",
     "output_type": "stream",
     "text": [
      "{'train_loss': tensor(0.0222, device='cuda:0'), 'train_f1': tensor(0.6766), 'lr': 0.0002335577498367742}\n",
      "Val Loss: tensor(0.0042, device='cuda:0')\n",
      "CNN Validation Score: tensor(0.7539)\n",
      "Saving\n"
     ]
    },
    {
     "name": "stderr",
     "output_type": "stream",
     "text": [
      " 70%|███████   | 35/50 [59:48<32:26, 129.74s/it]"
     ]
    },
    {
     "name": "stdout",
     "output_type": "stream",
     "text": [
      "{'train_loss': tensor(0.0218, device='cuda:0'), 'train_f1': tensor(0.6796), 'lr': 0.000256212463787736}\n",
      "Val Loss: tensor(0.0044, device='cuda:0')\n",
      "CNN Validation Score: tensor(0.7555)\n",
      "Saving\n"
     ]
    },
    {
     "name": "stderr",
     "output_type": "stream",
     "text": [
      " 72%|███████▏  | 36/50 [1:01:58<30:19, 129.99s/it]"
     ]
    },
    {
     "name": "stdout",
     "output_type": "stream",
     "text": [
      "{'train_loss': tensor(0.0217, device='cuda:0'), 'train_f1': tensor(0.6827), 'lr': 2.619529296078911e-05}\n",
      "Val Loss: tensor(0.0036, device='cuda:0')\n",
      "CNN Validation Score: tensor(0.7582)\n",
      "Saving\n"
     ]
    },
    {
     "name": "stderr",
     "output_type": "stream",
     "text": [
      " 74%|███████▍  | 37/50 [1:04:10<28:15, 130.40s/it]"
     ]
    },
    {
     "name": "stdout",
     "output_type": "stream",
     "text": [
      "{'train_loss': tensor(0.0217, device='cuda:0'), 'train_f1': tensor(0.6854), 'lr': 9.328882686169183e-05}\n",
      "Val Loss: tensor(0.0040, device='cuda:0')\n",
      "CNN Validation Score: tensor(0.7591)\n",
      "Saving\n"
     ]
    },
    {
     "name": "stderr",
     "output_type": "stream",
     "text": [
      " 76%|███████▌  | 38/50 [1:06:18<25:58, 129.89s/it]"
     ]
    },
    {
     "name": "stdout",
     "output_type": "stream",
     "text": [
      "{'train_loss': tensor(0.0222, device='cuda:0'), 'train_f1': tensor(0.6879), 'lr': 0.0002971273994210897}\n",
      "Val Loss: tensor(0.0037, device='cuda:0')\n",
      "CNN Validation Score: tensor(0.7614)\n",
      "Saving\n"
     ]
    },
    {
     "name": "stderr",
     "output_type": "stream",
     "text": [
      " 78%|███████▊  | 39/50 [1:08:24<23:35, 128.71s/it]"
     ]
    },
    {
     "name": "stdout",
     "output_type": "stream",
     "text": [
      "{'train_loss': tensor(0.0205, device='cuda:0'), 'train_f1': tensor(0.6907), 'lr': 0.00015050000000034155}\n",
      "Val Loss: tensor(0.0036, device='cuda:0')\n",
      "CNN Validation Score: tensor(0.7635)\n",
      "Saving\n"
     ]
    },
    {
     "name": "stderr",
     "output_type": "stream",
     "text": [
      " 80%|████████  | 40/50 [1:10:33<21:25, 128.58s/it]"
     ]
    },
    {
     "name": "stdout",
     "output_type": "stream",
     "text": [
      "{'train_loss': tensor(0.0217, device='cuda:0'), 'train_f1': tensor(0.6932), 'lr': 3.87260057971705e-06}\n",
      "Val Loss: tensor(0.0038, device='cuda:0')\n",
      "CNN Validation Score: tensor(0.7646)\n",
      "Saving\n"
     ]
    },
    {
     "name": "stderr",
     "output_type": "stream",
     "text": [
      " 82%|████████▏ | 41/50 [1:12:43<19:22, 129.15s/it]"
     ]
    },
    {
     "name": "stdout",
     "output_type": "stream",
     "text": [
      "{'train_loss': tensor(0.0207, device='cuda:0'), 'train_f1': tensor(0.6957), 'lr': 0.00020771117313849035}\n",
      "Val Loss: tensor(0.0034, device='cuda:0')\n",
      "CNN Validation Score: tensor(0.7665)\n",
      "Saving\n"
     ]
    },
    {
     "name": "stderr",
     "output_type": "stream",
     "text": [
      " 84%|████████▍ | 42/50 [1:14:54<17:16, 129.55s/it]"
     ]
    },
    {
     "name": "stdout",
     "output_type": "stream",
     "text": [
      "{'train_loss': tensor(0.0211, device='cuda:0'), 'train_f1': tensor(0.6979), 'lr': 0.00027480470703905905}\n",
      "Val Loss: tensor(0.0035, device='cuda:0')\n",
      "CNN Validation Score: tensor(0.7683)\n",
      "Saving\n"
     ]
    },
    {
     "name": "stderr",
     "output_type": "stream",
     "text": [
      " 86%|████████▌ | 43/50 [1:17:03<15:07, 129.62s/it]"
     ]
    },
    {
     "name": "stdout",
     "output_type": "stream",
     "text": [
      "{'train_loss': tensor(0.0210, device='cuda:0'), 'train_f1': tensor(0.7002), 'lr': 4.4787536212556226e-05}\n",
      "Val Loss: tensor(0.0036, device='cuda:0')\n",
      "CNN Validation Score: tensor(0.7698)\n",
      "Saving\n"
     ]
    },
    {
     "name": "stderr",
     "output_type": "stream",
     "text": [
      " 88%|████████▊ | 44/50 [1:19:12<12:55, 129.22s/it]"
     ]
    },
    {
     "name": "stdout",
     "output_type": "stream",
     "text": [
      "{'train_loss': tensor(0.0210, device='cuda:0'), 'train_f1': tensor(0.7024), 'lr': 6.744225016364239e-05}\n",
      "Val Loss: tensor(0.0036, device='cuda:0')\n",
      "CNN Validation Score: tensor(0.7714)\n",
      "Saving\n"
     ]
    },
    {
     "name": "stderr",
     "output_type": "stream",
     "text": [
      " 90%|█████████ | 45/50 [1:21:22<10:48, 129.67s/it]"
     ]
    },
    {
     "name": "stdout",
     "output_type": "stream",
     "text": [
      "{'train_loss': tensor(0.0205, device='cuda:0'), 'train_f1': tensor(0.7046), 'lr': 0.0002886199901106629}\n",
      "Val Loss: tensor(0.0035, device='cuda:0')\n",
      "CNN Validation Score: tensor(0.7732)\n",
      "Saving\n"
     ]
    },
    {
     "name": "stderr",
     "output_type": "stream",
     "text": [
      " 92%|█████████▏| 46/50 [1:23:32<08:39, 129.77s/it]"
     ]
    },
    {
     "name": "stdout",
     "output_type": "stream",
     "text": [
      "{'train_loss': tensor(0.0212, device='cuda:0'), 'train_f1': tensor(0.7066), 'lr': 0.0001796660031415372}\n",
      "Val Loss: tensor(0.0037, device='cuda:0')\n",
      "CNN Validation Score: tensor(0.7746)\n",
      "Saving\n"
     ]
    },
    {
     "name": "stderr",
     "output_type": "stream",
     "text": [
      " 94%|█████████▍| 47/50 [1:25:43<06:29, 129.91s/it]"
     ]
    },
    {
     "name": "stdout",
     "output_type": "stream",
     "text": [
      "{'train_loss': tensor(0.0207, device='cuda:0'), 'train_f1': tensor(0.7085), 'lr': 1e-06}\n",
      "Val Loss: tensor(0.0035, device='cuda:0')\n",
      "CNN Validation Score: tensor(0.7761)\n",
      "Saving\n"
     ]
    },
    {
     "name": "stderr",
     "output_type": "stream",
     "text": [
      " 96%|█████████▌| 48/50 [1:27:51<04:18, 129.35s/it]"
     ]
    },
    {
     "name": "stdout",
     "output_type": "stream",
     "text": [
      "{'train_loss': tensor(0.0200, device='cuda:0'), 'train_f1': tensor(0.7104), 'lr': 0.00017966600314181776}\n",
      "Val Loss: tensor(0.0032, device='cuda:0')\n",
      "CNN Validation Score: tensor(0.7781)\n",
      "Saving\n"
     ]
    },
    {
     "name": "stderr",
     "output_type": "stream",
     "text": [
      " 98%|█████████▊| 49/50 [1:30:02<02:09, 129.89s/it]"
     ]
    },
    {
     "name": "stdout",
     "output_type": "stream",
     "text": [
      "{'train_loss': tensor(0.0205, device='cuda:0'), 'train_f1': tensor(0.7123), 'lr': 0.00028861999011101964}\n",
      "Val Loss: tensor(0.0038, device='cuda:0')\n",
      "CNN Validation Score: tensor(0.7786)\n",
      "Saving\n"
     ]
    },
    {
     "name": "stderr",
     "output_type": "stream",
     "text": [
      "100%|██████████| 50/50 [1:32:11<00:00, 110.63s/it]\n",
      "  0%|          | 0/50 [00:00<?, ?it/s]"
     ]
    },
    {
     "name": "stdout",
     "output_type": "stream",
     "text": [
      "{'train_loss': tensor(0.0135, device='cuda:0', grad_fn=<MeanBackward0>), 'train_f1': tensor(0.5504), 'lr': 0.00012133399685858832}\n",
      "ViT Validation Score: tensor(0.7130)\n",
      "Val Loss: tensor(0.0055, device='cuda:0')\n",
      "Saving\n"
     ]
    },
    {
     "name": "stderr",
     "output_type": "stream",
     "text": [
      "  2%|▏         | 1/50 [03:42<3:01:19, 222.03s/it]"
     ]
    },
    {
     "name": "stdout",
     "output_type": "stream",
     "text": [
      "**********\n",
      "{'train_loss': tensor(0.0127, device='cuda:0', grad_fn=<MeanBackward0>), 'train_f1': tensor(0.6509), 'lr': 1.2380009889563552e-05}\n",
      "ViT Validation Score: tensor(0.7654)\n",
      "Val Loss: tensor(0.0040, device='cuda:0')\n",
      "Saving\n"
     ]
    },
    {
     "name": "stderr",
     "output_type": "stream",
     "text": [
      "  4%|▍         | 2/50 [07:24<2:57:51, 222.33s/it]"
     ]
    },
    {
     "name": "stdout",
     "output_type": "stream",
     "text": [
      "**********\n",
      "{'train_loss': tensor(0.0269, device='cuda:0', grad_fn=<MeanBackward0>), 'train_f1': tensor(0.7003), 'lr': 0.00023355774983644046}\n",
      "ViT Validation Score: tensor(0.7894)\n",
      "Val Loss: tensor(0.0034, device='cuda:0')\n",
      "Saving\n"
     ]
    },
    {
     "name": "stderr",
     "output_type": "stream",
     "text": [
      "  6%|▌         | 3/50 [11:07<2:54:13, 222.41s/it]"
     ]
    },
    {
     "name": "stdout",
     "output_type": "stream",
     "text": [
      "**********\n",
      "{'train_loss': tensor(0.0144, device='cuda:0', grad_fn=<MeanBackward0>), 'train_f1': tensor(0.7317), 'lr': 0.00025621246378738644}\n",
      "ViT Validation Score: tensor(0.8047)\n",
      "Val Loss: tensor(0.0033, device='cuda:0')\n",
      "Saving\n"
     ]
    },
    {
     "name": "stderr",
     "output_type": "stream",
     "text": [
      "  8%|▊         | 4/50 [14:50<2:50:56, 222.96s/it]"
     ]
    },
    {
     "name": "stdout",
     "output_type": "stream",
     "text": [
      "**********\n",
      "{'train_loss': tensor(0.0120, device='cuda:0', grad_fn=<MeanBackward0>), 'train_f1': tensor(0.7526), 'lr': 2.6195292960766732e-05}\n",
      "ViT Validation Score: tensor(0.8199)\n",
      "Val Loss: tensor(0.0028, device='cuda:0')\n",
      "Saving\n"
     ]
    },
    {
     "name": "stderr",
     "output_type": "stream",
     "text": [
      " 10%|█         | 5/50 [18:34<2:47:16, 223.03s/it]"
     ]
    },
    {
     "name": "stdout",
     "output_type": "stream",
     "text": [
      "**********\n",
      "{'train_loss': tensor(0.0254, device='cuda:0', grad_fn=<MeanBackward0>), 'train_f1': tensor(0.7690), 'lr': 9.328882686145683e-05}\n",
      "ViT Validation Score: tensor(0.8300)\n",
      "Val Loss: tensor(0.0027, device='cuda:0')\n",
      "Saving\n"
     ]
    },
    {
     "name": "stderr",
     "output_type": "stream",
     "text": [
      " 12%|█▏        | 6/50 [22:17<2:43:37, 223.12s/it]"
     ]
    },
    {
     "name": "stdout",
     "output_type": "stream",
     "text": [
      "**********\n",
      "{'train_loss': tensor(0.0091, device='cuda:0', grad_fn=<MeanBackward0>), 'train_f1': tensor(0.7821), 'lr': 0.0002971273994203}\n",
      "ViT Validation Score: tensor(0.8387)\n",
      "Val Loss: tensor(0.0028, device='cuda:0')\n",
      "Saving\n"
     ]
    },
    {
     "name": "stderr",
     "output_type": "stream",
     "text": [
      " 14%|█▍        | 7/50 [25:51<2:37:41, 220.04s/it]"
     ]
    },
    {
     "name": "stdout",
     "output_type": "stream",
     "text": [
      "**********\n",
      "{'train_loss': tensor(0.0073, device='cuda:0', grad_fn=<MeanBackward0>), 'train_f1': tensor(0.7927), 'lr': 0.00015050000000004632}\n",
      "ViT Validation Score: tensor(0.8394)\n",
      "Val Loss: tensor(0.0028, device='cuda:0')\n",
      "Saving\n"
     ]
    },
    {
     "name": "stderr",
     "output_type": "stream",
     "text": [
      " 16%|█▌        | 8/50 [29:32<2:34:20, 220.48s/it]"
     ]
    },
    {
     "name": "stdout",
     "output_type": "stream",
     "text": [
      "**********\n",
      "{'train_loss': tensor(0.0196, device='cuda:0', grad_fn=<MeanBackward0>), 'train_f1': tensor(0.8016), 'lr': 3.87260057971705e-06}\n",
      "ViT Validation Score: tensor(0.8471)\n",
      "Val Loss: tensor(0.0023, device='cuda:0')\n",
      "Saving\n"
     ]
    },
    {
     "name": "stderr",
     "output_type": "stream",
     "text": [
      " 18%|█▊        | 9/50 [33:14<2:31:06, 221.13s/it]"
     ]
    },
    {
     "name": "stdout",
     "output_type": "stream",
     "text": [
      "**********\n",
      "{'train_loss': tensor(0.0094, device='cuda:0', grad_fn=<MeanBackward0>), 'train_f1': tensor(0.8101), 'lr': 0.00020771117313867117}\n",
      "ViT Validation Score: tensor(0.8513)\n",
      "Val Loss: tensor(0.0023, device='cuda:0')\n",
      "Saving\n"
     ]
    },
    {
     "name": "stderr",
     "output_type": "stream",
     "text": [
      " 20%|██        | 10/50 [36:58<2:27:53, 221.83s/it]"
     ]
    },
    {
     "name": "stdout",
     "output_type": "stream",
     "text": [
      "**********\n",
      "{'train_loss': tensor(0.0289, device='cuda:0', grad_fn=<MeanBackward0>), 'train_f1': tensor(0.8168), 'lr': 0.00027480470703925084}\n",
      "ViT Validation Score: tensor(0.8552)\n",
      "Val Loss: tensor(0.0024, device='cuda:0')\n",
      "Saving\n"
     ]
    },
    {
     "name": "stderr",
     "output_type": "stream",
     "text": [
      " 22%|██▏       | 11/50 [40:40<2:24:14, 221.91s/it]"
     ]
    },
    {
     "name": "stdout",
     "output_type": "stream",
     "text": [
      "**********\n",
      "{'train_loss': tensor(0.0043, device='cuda:0', grad_fn=<MeanBackward0>), 'train_f1': tensor(0.8226), 'lr': 4.478753621259821e-05}\n",
      "ViT Validation Score: tensor(0.8591)\n",
      "Val Loss: tensor(0.0022, device='cuda:0')\n",
      "Saving\n"
     ]
    },
    {
     "name": "stderr",
     "output_type": "stream",
     "text": [
      " 24%|██▍       | 12/50 [44:22<2:20:30, 221.85s/it]"
     ]
    },
    {
     "name": "stdout",
     "output_type": "stream",
     "text": [
      "**********\n",
      "{'train_loss': tensor(0.0042, device='cuda:0', grad_fn=<MeanBackward0>), 'train_f1': tensor(0.8274), 'lr': 6.744225016362168e-05}\n",
      "ViT Validation Score: tensor(0.8625)\n",
      "Val Loss: tensor(0.0021, device='cuda:0')\n",
      "Saving\n"
     ]
    },
    {
     "name": "stderr",
     "output_type": "stream",
     "text": [
      " 26%|██▌       | 13/50 [48:05<2:17:05, 222.31s/it]"
     ]
    },
    {
     "name": "stdout",
     "output_type": "stream",
     "text": [
      "**********\n",
      "{'train_loss': tensor(0.0072, device='cuda:0', grad_fn=<MeanBackward0>), 'train_f1': tensor(0.8318), 'lr': 0.00028861999011056363}\n",
      "ViT Validation Score: tensor(0.8660)\n",
      "Val Loss: tensor(0.0020, device='cuda:0')\n",
      "Saving\n"
     ]
    },
    {
     "name": "stderr",
     "output_type": "stream",
     "text": [
      " 28%|██▊       | 14/50 [51:48<2:13:28, 222.46s/it]"
     ]
    },
    {
     "name": "stdout",
     "output_type": "stream",
     "text": [
      "**********\n",
      "{'train_loss': tensor(0.0121, device='cuda:0', grad_fn=<MeanBackward0>), 'train_f1': tensor(0.8363), 'lr': 0.0001796660031414303}\n",
      "ViT Validation Score: tensor(0.8692)\n",
      "Val Loss: tensor(0.0022, device='cuda:0')\n",
      "Saving\n"
     ]
    },
    {
     "name": "stderr",
     "output_type": "stream",
     "text": [
      " 30%|███       | 15/50 [55:21<2:08:05, 219.58s/it]"
     ]
    },
    {
     "name": "stdout",
     "output_type": "stream",
     "text": [
      "**********\n",
      "{'train_loss': tensor(0.0221, device='cuda:0', grad_fn=<MeanBackward0>), 'train_f1': tensor(0.8404), 'lr': 1e-06}\n",
      "ViT Validation Score: tensor(0.8718)\n",
      "Val Loss: tensor(0.0022, device='cuda:0')\n",
      "Saving\n"
     ]
    },
    {
     "name": "stderr",
     "output_type": "stream",
     "text": [
      " 32%|███▏      | 16/50 [59:03<2:04:57, 220.50s/it]"
     ]
    },
    {
     "name": "stdout",
     "output_type": "stream",
     "text": [
      "**********\n",
      "{'train_loss': tensor(0.0120, device='cuda:0', grad_fn=<MeanBackward0>), 'train_f1': tensor(0.8438), 'lr': 0.0001796660031415497}\n",
      "ViT Validation Score: tensor(0.8749)\n",
      "Val Loss: tensor(0.0019, device='cuda:0')\n",
      "Saving\n"
     ]
    },
    {
     "name": "stderr",
     "output_type": "stream",
     "text": [
      " 34%|███▍      | 17/50 [1:02:46<2:01:40, 221.22s/it]"
     ]
    },
    {
     "name": "stdout",
     "output_type": "stream",
     "text": [
      "**********\n",
      "{'train_loss': tensor(0.0278, device='cuda:0', grad_fn=<MeanBackward0>), 'train_f1': tensor(0.8469), 'lr': 0.00028861999011024487}\n",
      "ViT Validation Score: tensor(0.8774)\n",
      "Val Loss: tensor(0.0022, device='cuda:0')\n",
      "Saving\n"
     ]
    },
    {
     "name": "stderr",
     "output_type": "stream",
     "text": [
      " 36%|███▌      | 18/50 [1:06:31<1:58:28, 222.16s/it]"
     ]
    },
    {
     "name": "stdout",
     "output_type": "stream",
     "text": [
      "**********\n",
      "{'train_loss': tensor(0.0180, device='cuda:0', grad_fn=<MeanBackward0>), 'train_f1': tensor(0.8499), 'lr': 6.74422501636593e-05}\n",
      "ViT Validation Score: tensor(0.8777)\n",
      "Val Loss: tensor(0.0025, device='cuda:0')\n",
      "Saving\n"
     ]
    },
    {
     "name": "stderr",
     "output_type": "stream",
     "text": [
      " 38%|███▊      | 19/50 [1:10:14<1:54:59, 222.57s/it]"
     ]
    },
    {
     "name": "stdout",
     "output_type": "stream",
     "text": [
      "**********\n",
      "{'train_loss': tensor(0.0028, device='cuda:0', grad_fn=<MeanBackward0>), 'train_f1': tensor(0.8529), 'lr': 4.478753621266829e-05}\n",
      "ViT Validation Score: tensor(0.8801)\n",
      "Val Loss: tensor(0.0019, device='cuda:0')\n",
      "Saving\n"
     ]
    },
    {
     "name": "stderr",
     "output_type": "stream",
     "text": [
      " 40%|████      | 20/50 [1:13:56<1:51:12, 222.42s/it]"
     ]
    },
    {
     "name": "stdout",
     "output_type": "stream",
     "text": [
      "**********\n",
      "{'train_loss': tensor(0.0037, device='cuda:0', grad_fn=<MeanBackward0>), 'train_f1': tensor(0.8555), 'lr': 0.0002748047070394487}\n",
      "ViT Validation Score: tensor(0.8818)\n",
      "Val Loss: tensor(0.0019, device='cuda:0')\n",
      "Saving\n"
     ]
    },
    {
     "name": "stderr",
     "output_type": "stream",
     "text": [
      " 42%|████▏     | 21/50 [1:17:38<1:47:22, 222.14s/it]"
     ]
    },
    {
     "name": "stdout",
     "output_type": "stream",
     "text": [
      "**********\n",
      "{'train_loss': tensor(0.0460, device='cuda:0', grad_fn=<MeanBackward0>), 'train_f1': tensor(0.8580), 'lr': 0.00020771117313867372}\n",
      "ViT Validation Score: tensor(0.8833)\n",
      "Val Loss: tensor(0.0017, device='cuda:0')\n",
      "Saving\n"
     ]
    },
    {
     "name": "stderr",
     "output_type": "stream",
     "text": [
      " 44%|████▍     | 22/50 [1:21:12<1:42:30, 219.67s/it]"
     ]
    },
    {
     "name": "stdout",
     "output_type": "stream",
     "text": [
      "**********\n",
      "{'train_loss': tensor(0.0038, device='cuda:0', grad_fn=<MeanBackward0>), 'train_f1': tensor(0.8604), 'lr': 3.8726005797196736e-06}\n",
      "ViT Validation Score: tensor(0.8846)\n",
      "Val Loss: tensor(0.0017, device='cuda:0')\n",
      "Saving\n"
     ]
    },
    {
     "name": "stderr",
     "output_type": "stream",
     "text": [
      " 46%|████▌     | 23/50 [1:24:57<1:39:40, 221.51s/it]"
     ]
    },
    {
     "name": "stdout",
     "output_type": "stream",
     "text": [
      "**********\n",
      "{'train_loss': tensor(0.0019, device='cuda:0', grad_fn=<MeanBackward0>), 'train_f1': tensor(0.8624), 'lr': 0.00015050000000000686}\n",
      "ViT Validation Score: tensor(0.8865)\n",
      "Val Loss: tensor(0.0018, device='cuda:0')\n",
      "Saving\n"
     ]
    },
    {
     "name": "stderr",
     "output_type": "stream",
     "text": [
      " 48%|████▊     | 24/50 [1:28:40<1:36:07, 221.84s/it]"
     ]
    },
    {
     "name": "stdout",
     "output_type": "stream",
     "text": [
      "**********\n",
      "{'train_loss': tensor(0.0100, device='cuda:0', grad_fn=<MeanBackward0>), 'train_f1': tensor(0.8643), 'lr': 0.0002971273994201916}\n",
      "ViT Validation Score: tensor(0.8881)\n",
      "Val Loss: tensor(0.0016, device='cuda:0')\n",
      "Saving\n"
     ]
    },
    {
     "name": "stderr",
     "output_type": "stream",
     "text": [
      " 50%|█████     | 25/50 [1:32:22<1:32:25, 221.80s/it]"
     ]
    },
    {
     "name": "stdout",
     "output_type": "stream",
     "text": [
      "**********\n",
      "{'train_loss': tensor(0.0224, device='cuda:0', grad_fn=<MeanBackward0>), 'train_f1': tensor(0.8661), 'lr': 9.32888268615698e-05}\n",
      "ViT Validation Score: tensor(0.8896)\n",
      "Val Loss: tensor(0.0017, device='cuda:0')\n",
      "Saving\n"
     ]
    },
    {
     "name": "stderr",
     "output_type": "stream",
     "text": [
      " 52%|█████▏    | 26/50 [1:36:04<1:28:46, 221.93s/it]"
     ]
    },
    {
     "name": "stdout",
     "output_type": "stream",
     "text": [
      "**********\n",
      "{'train_loss': tensor(0.0178, device='cuda:0', grad_fn=<MeanBackward0>), 'train_f1': tensor(0.8680), 'lr': 2.619529296079897e-05}\n",
      "ViT Validation Score: tensor(0.8911)\n",
      "Val Loss: tensor(0.0018, device='cuda:0')\n",
      "Saving\n"
     ]
    },
    {
     "name": "stderr",
     "output_type": "stream",
     "text": [
      " 54%|█████▍    | 27/50 [1:39:46<1:25:06, 222.00s/it]"
     ]
    },
    {
     "name": "stdout",
     "output_type": "stream",
     "text": [
      "**********\n",
      "{'train_loss': tensor(0.0032, device='cuda:0', grad_fn=<MeanBackward0>), 'train_f1': tensor(0.8698), 'lr': 0.00025621246378769365}\n",
      "ViT Validation Score: tensor(0.8924)\n",
      "Val Loss: tensor(0.0017, device='cuda:0')\n",
      "Saving\n"
     ]
    },
    {
     "name": "stderr",
     "output_type": "stream",
     "text": [
      " 56%|█████▌    | 28/50 [1:43:29<1:21:31, 222.35s/it]"
     ]
    },
    {
     "name": "stdout",
     "output_type": "stream",
     "text": [
      "**********\n",
      "{'train_loss': tensor(0.0056, device='cuda:0', grad_fn=<MeanBackward0>), 'train_f1': tensor(0.8716), 'lr': 0.00023355774983664505}\n",
      "ViT Validation Score: tensor(0.8934)\n",
      "Val Loss: tensor(0.0018, device='cuda:0')\n",
      "Saving\n"
     ]
    },
    {
     "name": "stderr",
     "output_type": "stream",
     "text": [
      " 58%|█████▊    | 29/50 [1:47:12<1:17:49, 222.35s/it]"
     ]
    },
    {
     "name": "stdout",
     "output_type": "stream",
     "text": [
      "**********\n",
      "{'train_loss': tensor(0.0086, device='cuda:0', grad_fn=<MeanBackward0>), 'train_f1': tensor(0.8731), 'lr': 1.2380009889569737e-05}\n",
      "ViT Validation Score: tensor(0.8945)\n",
      "Val Loss: tensor(0.0018, device='cuda:0')\n",
      "Saving\n"
     ]
    },
    {
     "name": "stderr",
     "output_type": "stream",
     "text": [
      " 60%|██████    | 30/50 [1:50:46<1:13:19, 219.99s/it]"
     ]
    },
    {
     "name": "stdout",
     "output_type": "stream",
     "text": [
      "**********\n",
      "{'train_loss': tensor(0.0035, device='cuda:0', grad_fn=<MeanBackward0>), 'train_f1': tensor(0.8746), 'lr': 0.00012133399685861586}\n",
      "ViT Validation Score: tensor(0.8955)\n",
      "Val Loss: tensor(0.0016, device='cuda:0')\n",
      "Saving\n"
     ]
    },
    {
     "name": "stderr",
     "output_type": "stream",
     "text": [
      " 62%|██████▏   | 31/50 [1:54:30<1:09:59, 221.01s/it]"
     ]
    },
    {
     "name": "stdout",
     "output_type": "stream",
     "text": [
      "**********\n",
      "{'train_loss': tensor(0.0032, device='cuda:0', grad_fn=<MeanBackward0>), 'train_f1': tensor(0.8761), 'lr': 0.0003000000000000174}\n",
      "ViT Validation Score: tensor(0.8965)\n",
      "Val Loss: tensor(0.0017, device='cuda:0')\n",
      "Saving\n"
     ]
    },
    {
     "name": "stderr",
     "output_type": "stream",
     "text": [
      " 64%|██████▍   | 32/50 [1:58:13<1:06:28, 221.59s/it]"
     ]
    },
    {
     "name": "stdout",
     "output_type": "stream",
     "text": [
      "**********\n",
      "{'train_loss': tensor(0.0083, device='cuda:0', grad_fn=<MeanBackward0>), 'train_f1': tensor(0.8773), 'lr': 0.00012133399685857884}\n",
      "ViT Validation Score: tensor(0.8973)\n",
      "Val Loss: tensor(0.0017, device='cuda:0')\n",
      "Saving\n"
     ]
    },
    {
     "name": "stderr",
     "output_type": "stream",
     "text": [
      " 66%|██████▌   | 33/50 [2:01:55<1:02:54, 222.01s/it]"
     ]
    },
    {
     "name": "stdout",
     "output_type": "stream",
     "text": [
      "**********\n",
      "{'train_loss': tensor(0.0016, device='cuda:0', grad_fn=<MeanBackward0>), 'train_f1': tensor(0.8786), 'lr': 1.2380009889581326e-05}\n",
      "ViT Validation Score: tensor(0.8985)\n",
      "Val Loss: tensor(0.0016, device='cuda:0')\n",
      "Saving\n"
     ]
    },
    {
     "name": "stderr",
     "output_type": "stream",
     "text": [
      " 68%|██████▊   | 34/50 [2:05:37<59:09, 221.85s/it]  "
     ]
    },
    {
     "name": "stdout",
     "output_type": "stream",
     "text": [
      "**********\n",
      "{'train_loss': tensor(0.0041, device='cuda:0', grad_fn=<MeanBackward0>), 'train_f1': tensor(0.8798), 'lr': 0.0002335577498367742}\n",
      "ViT Validation Score: tensor(0.8995)\n",
      "Val Loss: tensor(0.0017, device='cuda:0')\n",
      "Saving\n"
     ]
    },
    {
     "name": "stderr",
     "output_type": "stream",
     "text": [
      " 70%|███████   | 35/50 [2:09:21<55:35, 222.36s/it]"
     ]
    },
    {
     "name": "stdout",
     "output_type": "stream",
     "text": [
      "**********\n",
      "{'train_loss': tensor(0.0042, device='cuda:0', grad_fn=<MeanBackward0>), 'train_f1': tensor(0.8810), 'lr': 0.000256212463787736}\n",
      "ViT Validation Score: tensor(0.9002)\n",
      "Val Loss: tensor(0.0017, device='cuda:0')\n",
      "Saving\n"
     ]
    },
    {
     "name": "stderr",
     "output_type": "stream",
     "text": [
      " 72%|███████▏  | 36/50 [2:13:02<51:51, 222.24s/it]"
     ]
    },
    {
     "name": "stdout",
     "output_type": "stream",
     "text": [
      "**********\n",
      "{'train_loss': tensor(0.0104, device='cuda:0', grad_fn=<MeanBackward0>), 'train_f1': tensor(0.8821), 'lr': 2.619529296078911e-05}\n",
      "ViT Validation Score: tensor(0.9011)\n",
      "Val Loss: tensor(0.0016, device='cuda:0')\n",
      "Saving\n"
     ]
    },
    {
     "name": "stderr",
     "output_type": "stream",
     "text": [
      " 74%|███████▍  | 37/50 [2:16:44<48:04, 221.92s/it]"
     ]
    },
    {
     "name": "stdout",
     "output_type": "stream",
     "text": [
      "**********\n",
      "{'train_loss': tensor(0.0027, device='cuda:0', grad_fn=<MeanBackward0>), 'train_f1': tensor(0.8832), 'lr': 9.328882686169183e-05}\n",
      "ViT Validation Score: tensor(0.9019)\n",
      "Val Loss: tensor(0.0016, device='cuda:0')\n",
      "Saving\n"
     ]
    },
    {
     "name": "stderr",
     "output_type": "stream",
     "text": [
      " 76%|███████▌  | 38/50 [2:20:22<44:08, 220.75s/it]"
     ]
    },
    {
     "name": "stdout",
     "output_type": "stream",
     "text": [
      "**********\n",
      "{'train_loss': tensor(0.0005, device='cuda:0', grad_fn=<MeanBackward0>), 'train_f1': tensor(0.8844), 'lr': 0.0002971273994210897}\n",
      "ViT Validation Score: tensor(0.9026)\n",
      "Val Loss: tensor(0.0023, device='cuda:0')\n",
      "Saving\n"
     ]
    },
    {
     "name": "stderr",
     "output_type": "stream",
     "text": [
      " 78%|███████▊  | 39/50 [2:24:04<40:34, 221.31s/it]"
     ]
    },
    {
     "name": "stdout",
     "output_type": "stream",
     "text": [
      "**********\n",
      "{'train_loss': tensor(0.0033, device='cuda:0', grad_fn=<MeanBackward0>), 'train_f1': tensor(0.8852), 'lr': 0.00015050000000034155}\n",
      "ViT Validation Score: tensor(0.9033)\n",
      "Val Loss: tensor(0.0018, device='cuda:0')\n",
      "Saving\n"
     ]
    },
    {
     "name": "stderr",
     "output_type": "stream",
     "text": [
      " 80%|████████  | 40/50 [2:27:47<36:57, 221.71s/it]"
     ]
    },
    {
     "name": "stdout",
     "output_type": "stream",
     "text": [
      "**********\n",
      "{'train_loss': tensor(0.0069, device='cuda:0', grad_fn=<MeanBackward0>), 'train_f1': tensor(0.8862), 'lr': 3.87260057971705e-06}\n",
      "ViT Validation Score: tensor(0.9040)\n",
      "Val Loss: tensor(0.0018, device='cuda:0')\n",
      "Saving\n"
     ]
    },
    {
     "name": "stderr",
     "output_type": "stream",
     "text": [
      " 82%|████████▏ | 41/50 [2:31:29<33:15, 221.68s/it]"
     ]
    },
    {
     "name": "stdout",
     "output_type": "stream",
     "text": [
      "**********\n",
      "{'train_loss': tensor(0.0147, device='cuda:0', grad_fn=<MeanBackward0>), 'train_f1': tensor(0.8871), 'lr': 0.00020771117313849035}\n",
      "ViT Validation Score: tensor(0.9048)\n",
      "Val Loss: tensor(0.0015, device='cuda:0')\n",
      "Saving\n"
     ]
    },
    {
     "name": "stderr",
     "output_type": "stream",
     "text": [
      " 84%|████████▍ | 42/50 [2:35:11<29:36, 222.05s/it]"
     ]
    },
    {
     "name": "stdout",
     "output_type": "stream",
     "text": [
      "**********\n",
      "{'train_loss': tensor(0.0014, device='cuda:0', grad_fn=<MeanBackward0>), 'train_f1': tensor(0.8879), 'lr': 0.00027480470703905905}\n",
      "ViT Validation Score: tensor(0.9056)\n",
      "Val Loss: tensor(0.0015, device='cuda:0')\n",
      "Saving\n"
     ]
    },
    {
     "name": "stderr",
     "output_type": "stream",
     "text": [
      " 86%|████████▌ | 43/50 [2:38:53<25:53, 221.94s/it]"
     ]
    },
    {
     "name": "stdout",
     "output_type": "stream",
     "text": [
      "**********\n",
      "{'train_loss': tensor(0.0053, device='cuda:0', grad_fn=<MeanBackward0>), 'train_f1': tensor(0.8888), 'lr': 4.4787536212556226e-05}\n",
      "ViT Validation Score: tensor(0.9061)\n",
      "Val Loss: tensor(0.0016, device='cuda:0')\n",
      "Saving\n"
     ]
    },
    {
     "name": "stderr",
     "output_type": "stream",
     "text": [
      " 88%|████████▊ | 44/50 [2:42:35<22:10, 221.81s/it]"
     ]
    },
    {
     "name": "stdout",
     "output_type": "stream",
     "text": [
      "**********\n",
      "{'train_loss': tensor(0.0099, device='cuda:0', grad_fn=<MeanBackward0>), 'train_f1': tensor(0.8897), 'lr': 6.744225016364239e-05}\n",
      "ViT Validation Score: tensor(0.9068)\n",
      "Val Loss: tensor(0.0015, device='cuda:0')\n",
      "Saving\n"
     ]
    },
    {
     "name": "stderr",
     "output_type": "stream",
     "text": [
      " 90%|█████████ | 45/50 [2:46:10<18:19, 219.94s/it]"
     ]
    },
    {
     "name": "stdout",
     "output_type": "stream",
     "text": [
      "**********\n",
      "{'train_loss': tensor(0.0027, device='cuda:0', grad_fn=<MeanBackward0>), 'train_f1': tensor(0.8906), 'lr': 0.0002886199901106629}\n",
      "ViT Validation Score: tensor(0.9075)\n",
      "Val Loss: tensor(0.0018, device='cuda:0')\n",
      "Saving\n"
     ]
    },
    {
     "name": "stderr",
     "output_type": "stream",
     "text": [
      " 92%|█████████▏| 46/50 [2:49:53<14:42, 220.68s/it]"
     ]
    },
    {
     "name": "stdout",
     "output_type": "stream",
     "text": [
      "**********\n",
      "{'train_loss': tensor(0.0054, device='cuda:0', grad_fn=<MeanBackward0>), 'train_f1': tensor(0.8913), 'lr': 0.0001796660031415372}\n",
      "ViT Validation Score: tensor(0.9081)\n",
      "Val Loss: tensor(0.0015, device='cuda:0')\n",
      "Saving\n"
     ]
    },
    {
     "name": "stderr",
     "output_type": "stream",
     "text": [
      " 94%|█████████▍| 47/50 [2:53:35<11:03, 221.33s/it]"
     ]
    },
    {
     "name": "stdout",
     "output_type": "stream",
     "text": [
      "**********\n",
      "{'train_loss': tensor(0.0045, device='cuda:0', grad_fn=<MeanBackward0>), 'train_f1': tensor(0.8921), 'lr': 1e-06}\n",
      "ViT Validation Score: tensor(0.9088)\n",
      "Val Loss: tensor(0.0016, device='cuda:0')\n",
      "Saving\n"
     ]
    },
    {
     "name": "stderr",
     "output_type": "stream",
     "text": [
      " 96%|█████████▌| 48/50 [2:57:19<07:23, 221.94s/it]"
     ]
    },
    {
     "name": "stdout",
     "output_type": "stream",
     "text": [
      "**********\n",
      "{'train_loss': tensor(0.0144, device='cuda:0', grad_fn=<MeanBackward0>), 'train_f1': tensor(0.8930), 'lr': 0.00017966600314181776}\n",
      "ViT Validation Score: tensor(0.9094)\n",
      "Val Loss: tensor(0.0015, device='cuda:0')\n",
      "Saving\n"
     ]
    },
    {
     "name": "stderr",
     "output_type": "stream",
     "text": [
      " 98%|█████████▊| 49/50 [3:01:03<03:42, 222.65s/it]"
     ]
    },
    {
     "name": "stdout",
     "output_type": "stream",
     "text": [
      "**********\n",
      "{'train_loss': tensor(0.0012, device='cuda:0', grad_fn=<MeanBackward0>), 'train_f1': tensor(0.8937), 'lr': 0.00028861999011101964}\n",
      "ViT Validation Score: tensor(0.9099)\n",
      "Val Loss: tensor(0.0019, device='cuda:0')\n",
      "Saving\n"
     ]
    },
    {
     "name": "stderr",
     "output_type": "stream",
     "text": [
      "100%|██████████| 50/50 [3:04:46<00:00, 221.73s/it]"
     ]
    },
    {
     "name": "stdout",
     "output_type": "stream",
     "text": [
      "**********\n"
     ]
    },
    {
     "name": "stderr",
     "output_type": "stream",
     "text": [
      "\n"
     ]
    },
    {
     "name": "stdout",
     "output_type": "stream",
     "text": [
      "**********\n",
      "For 3\n",
      "Fine tunning Cov-T\n"
     ]
    },
    {
     "name": "stderr",
     "output_type": "stream",
     "text": [
      "  0%|          | 0/50 [00:00<?, ?it/s]"
     ]
    },
    {
     "name": "stdout",
     "output_type": "stream",
     "text": [
      "{'train_loss': tensor(0.0670, device='cuda:0'), 'train_f1': tensor(0.0174), 'lr': 0.00012133399685858832}\n",
      "Val Loss: tensor(0.0113, device='cuda:0')\n",
      "CNN Validation Score: tensor(0.1397)\n",
      "Saving\n"
     ]
    },
    {
     "name": "stderr",
     "output_type": "stream",
     "text": [
      "  2%|▏         | 1/50 [02:08<1:45:04, 128.67s/it]"
     ]
    },
    {
     "name": "stdout",
     "output_type": "stream",
     "text": [
      "{'train_loss': tensor(0.0524, device='cuda:0'), 'train_f1': tensor(0.1194), 'lr': 1.2380009889563552e-05}\n",
      "Val Loss: tensor(0.0092, device='cuda:0')\n",
      "CNN Validation Score: tensor(0.2489)\n",
      "Saving\n"
     ]
    },
    {
     "name": "stderr",
     "output_type": "stream",
     "text": [
      "  4%|▍         | 2/50 [04:19<1:43:48, 129.75s/it]"
     ]
    },
    {
     "name": "stdout",
     "output_type": "stream",
     "text": [
      "{'train_loss': tensor(0.0453, device='cuda:0'), 'train_f1': tensor(0.2116), 'lr': 0.00023355774983644046}\n",
      "Val Loss: tensor(0.0082, device='cuda:0')\n",
      "CNN Validation Score: tensor(0.3308)\n",
      "Saving\n"
     ]
    },
    {
     "name": "stderr",
     "output_type": "stream",
     "text": [
      "  6%|▌         | 3/50 [06:31<1:42:39, 131.06s/it]"
     ]
    },
    {
     "name": "stdout",
     "output_type": "stream",
     "text": [
      "{'train_loss': tensor(0.0410, device='cuda:0'), 'train_f1': tensor(0.2834), 'lr': 0.00025621246378738644}\n",
      "Val Loss: tensor(0.0070, device='cuda:0')\n",
      "CNN Validation Score: tensor(0.4058)\n",
      "Saving\n"
     ]
    },
    {
     "name": "stderr",
     "output_type": "stream",
     "text": [
      "  8%|▊         | 4/50 [08:44<1:41:03, 131.82s/it]"
     ]
    },
    {
     "name": "stdout",
     "output_type": "stream",
     "text": [
      "{'train_loss': tensor(0.0382, device='cuda:0'), 'train_f1': tensor(0.3366), 'lr': 2.6195292960766732e-05}\n",
      "Val Loss: tensor(0.0065, device='cuda:0')\n",
      "CNN Validation Score: tensor(0.4652)\n",
      "Saving\n"
     ]
    },
    {
     "name": "stderr",
     "output_type": "stream",
     "text": [
      " 10%|█         | 5/50 [11:01<1:40:05, 133.46s/it]"
     ]
    },
    {
     "name": "stdout",
     "output_type": "stream",
     "text": [
      "{'train_loss': tensor(0.0357, device='cuda:0'), 'train_f1': tensor(0.3798), 'lr': 9.328882686145683e-05}\n",
      "Val Loss: tensor(0.0063, device='cuda:0')\n",
      "CNN Validation Score: tensor(0.5010)\n",
      "Saving\n"
     ]
    },
    {
     "name": "stderr",
     "output_type": "stream",
     "text": [
      " 12%|█▏        | 6/50 [13:11<1:37:01, 132.31s/it]"
     ]
    },
    {
     "name": "stdout",
     "output_type": "stream",
     "text": [
      "{'train_loss': tensor(0.0341, device='cuda:0'), 'train_f1': tensor(0.4153), 'lr': 0.0002971273994203}\n",
      "Val Loss: tensor(0.0058, device='cuda:0')\n",
      "CNN Validation Score: tensor(0.5302)\n",
      "Saving\n"
     ]
    },
    {
     "name": "stderr",
     "output_type": "stream",
     "text": [
      " 14%|█▍        | 7/50 [15:24<1:35:07, 132.72s/it]"
     ]
    },
    {
     "name": "stdout",
     "output_type": "stream",
     "text": [
      "{'train_loss': tensor(0.0328, device='cuda:0'), 'train_f1': tensor(0.4444), 'lr': 0.00015050000000004632}\n",
      "Val Loss: tensor(0.0056, device='cuda:0')\n",
      "CNN Validation Score: tensor(0.5587)\n",
      "Saving\n"
     ]
    },
    {
     "name": "stderr",
     "output_type": "stream",
     "text": [
      " 16%|█▌        | 8/50 [17:38<1:33:12, 133.16s/it]"
     ]
    },
    {
     "name": "stdout",
     "output_type": "stream",
     "text": [
      "{'train_loss': tensor(0.0318, device='cuda:0'), 'train_f1': tensor(0.4689), 'lr': 3.87260057971705e-06}\n",
      "Val Loss: tensor(0.0055, device='cuda:0')\n",
      "CNN Validation Score: tensor(0.5823)\n",
      "Saving\n"
     ]
    },
    {
     "name": "stderr",
     "output_type": "stream",
     "text": [
      " 18%|█▊        | 9/50 [19:50<1:30:34, 132.55s/it]"
     ]
    },
    {
     "name": "stdout",
     "output_type": "stream",
     "text": [
      "{'train_loss': tensor(0.0302, device='cuda:0'), 'train_f1': tensor(0.4904), 'lr': 0.00020771117313867117}\n",
      "Val Loss: tensor(0.0053, device='cuda:0')\n",
      "CNN Validation Score: tensor(0.5960)\n",
      "Saving\n"
     ]
    },
    {
     "name": "stderr",
     "output_type": "stream",
     "text": [
      " 20%|██        | 10/50 [21:59<1:27:44, 131.62s/it]"
     ]
    },
    {
     "name": "stdout",
     "output_type": "stream",
     "text": [
      "{'train_loss': tensor(0.0302, device='cuda:0'), 'train_f1': tensor(0.5088), 'lr': 0.00027480470703925084}\n",
      "Val Loss: tensor(0.0052, device='cuda:0')\n",
      "CNN Validation Score: tensor(0.6130)\n",
      "Saving\n"
     ]
    },
    {
     "name": "stderr",
     "output_type": "stream",
     "text": [
      " 22%|██▏       | 11/50 [24:13<1:25:54, 132.18s/it]"
     ]
    },
    {
     "name": "stdout",
     "output_type": "stream",
     "text": [
      "{'train_loss': tensor(0.0298, device='cuda:0'), 'train_f1': tensor(0.5239), 'lr': 4.478753621259821e-05}\n",
      "Val Loss: tensor(0.0049, device='cuda:0')\n",
      "CNN Validation Score: tensor(0.6283)\n",
      "Saving\n"
     ]
    },
    {
     "name": "stderr",
     "output_type": "stream",
     "text": [
      " 24%|██▍       | 12/50 [26:23<1:23:19, 131.56s/it]"
     ]
    },
    {
     "name": "stdout",
     "output_type": "stream",
     "text": [
      "{'train_loss': tensor(0.0288, device='cuda:0'), 'train_f1': tensor(0.5376), 'lr': 6.744225016362168e-05}\n",
      "Val Loss: tensor(0.0054, device='cuda:0')\n",
      "CNN Validation Score: tensor(0.6373)\n",
      "Saving\n"
     ]
    },
    {
     "name": "stderr",
     "output_type": "stream",
     "text": [
      " 26%|██▌       | 13/50 [28:32<1:20:40, 130.82s/it]"
     ]
    },
    {
     "name": "stdout",
     "output_type": "stream",
     "text": [
      "{'train_loss': tensor(0.0286, device='cuda:0'), 'train_f1': tensor(0.5500), 'lr': 0.00028861999011056363}\n",
      "Val Loss: tensor(0.0050, device='cuda:0')\n",
      "CNN Validation Score: tensor(0.6458)\n",
      "Saving\n"
     ]
    },
    {
     "name": "stderr",
     "output_type": "stream",
     "text": [
      " 28%|██▊       | 14/50 [30:58<1:21:11, 135.32s/it]"
     ]
    },
    {
     "name": "stdout",
     "output_type": "stream",
     "text": [
      "{'train_loss': tensor(0.0280, device='cuda:0'), 'train_f1': tensor(0.5615), 'lr': 0.0001796660031414303}\n",
      "Val Loss: tensor(0.0047, device='cuda:0')\n",
      "CNN Validation Score: tensor(0.6580)\n",
      "Saving\n"
     ]
    },
    {
     "name": "stderr",
     "output_type": "stream",
     "text": [
      " 30%|███       | 15/50 [33:08<1:18:05, 133.87s/it]"
     ]
    },
    {
     "name": "stdout",
     "output_type": "stream",
     "text": [
      "{'train_loss': tensor(0.0272, device='cuda:0'), 'train_f1': tensor(0.5719), 'lr': 1e-06}\n",
      "Val Loss: tensor(0.0044, device='cuda:0')\n",
      "CNN Validation Score: tensor(0.6676)\n",
      "Saving\n"
     ]
    },
    {
     "name": "stderr",
     "output_type": "stream",
     "text": [
      " 32%|███▏      | 16/50 [35:19<1:15:16, 132.85s/it]"
     ]
    },
    {
     "name": "stdout",
     "output_type": "stream",
     "text": [
      "{'train_loss': tensor(0.0269, device='cuda:0'), 'train_f1': tensor(0.5813), 'lr': 0.0001796660031415497}\n",
      "Val Loss: tensor(0.0045, device='cuda:0')\n",
      "CNN Validation Score: tensor(0.6758)\n",
      "Saving\n"
     ]
    },
    {
     "name": "stderr",
     "output_type": "stream",
     "text": [
      " 34%|███▍      | 17/50 [37:28<1:12:27, 131.74s/it]"
     ]
    },
    {
     "name": "stdout",
     "output_type": "stream",
     "text": [
      "{'train_loss': tensor(0.0257, device='cuda:0'), 'train_f1': tensor(0.5901), 'lr': 0.00028861999011024487}\n",
      "Val Loss: tensor(0.0047, device='cuda:0')\n",
      "CNN Validation Score: tensor(0.6806)\n",
      "Saving\n"
     ]
    },
    {
     "name": "stderr",
     "output_type": "stream",
     "text": [
      " 36%|███▌      | 18/50 [39:38<1:10:02, 131.32s/it]"
     ]
    },
    {
     "name": "stdout",
     "output_type": "stream",
     "text": [
      "{'train_loss': tensor(0.0257, device='cuda:0'), 'train_f1': tensor(0.5980), 'lr': 6.74422501636593e-05}\n",
      "Val Loss: tensor(0.0043, device='cuda:0')\n",
      "CNN Validation Score: tensor(0.6877)\n",
      "Saving\n"
     ]
    },
    {
     "name": "stderr",
     "output_type": "stream",
     "text": [
      " 38%|███▊      | 19/50 [41:48<1:07:37, 130.90s/it]"
     ]
    },
    {
     "name": "stdout",
     "output_type": "stream",
     "text": [
      "{'train_loss': tensor(0.0255, device='cuda:0'), 'train_f1': tensor(0.6054), 'lr': 4.478753621266829e-05}\n",
      "Val Loss: tensor(0.0046, device='cuda:0')\n",
      "CNN Validation Score: tensor(0.6935)\n",
      "Saving\n"
     ]
    },
    {
     "name": "stderr",
     "output_type": "stream",
     "text": [
      " 40%|████      | 20/50 [43:58<1:05:19, 130.66s/it]"
     ]
    },
    {
     "name": "stdout",
     "output_type": "stream",
     "text": [
      "{'train_loss': tensor(0.0252, device='cuda:0'), 'train_f1': tensor(0.6123), 'lr': 0.0002748047070394487}\n",
      "Val Loss: tensor(0.0040, device='cuda:0')\n",
      "CNN Validation Score: tensor(0.7007)\n",
      "Saving\n"
     ]
    },
    {
     "name": "stderr",
     "output_type": "stream",
     "text": [
      " 42%|████▏     | 21/50 [46:06<1:02:48, 129.94s/it]"
     ]
    },
    {
     "name": "stdout",
     "output_type": "stream",
     "text": [
      "{'train_loss': tensor(0.0252, device='cuda:0'), 'train_f1': tensor(0.6184), 'lr': 0.00020771117313867372}\n",
      "Val Loss: tensor(0.0044, device='cuda:0')\n",
      "CNN Validation Score: tensor(0.7049)\n",
      "Saving\n"
     ]
    },
    {
     "name": "stderr",
     "output_type": "stream",
     "text": [
      " 44%|████▍     | 22/50 [48:18<1:00:53, 130.49s/it]"
     ]
    },
    {
     "name": "stdout",
     "output_type": "stream",
     "text": [
      "{'train_loss': tensor(0.0245, device='cuda:0'), 'train_f1': tensor(0.6242), 'lr': 3.8726005797196736e-06}\n",
      "Val Loss: tensor(0.0040, device='cuda:0')\n",
      "CNN Validation Score: tensor(0.7116)\n",
      "Saving\n"
     ]
    },
    {
     "name": "stderr",
     "output_type": "stream",
     "text": [
      " 46%|████▌     | 23/50 [50:27<58:28, 129.93s/it]  "
     ]
    },
    {
     "name": "stdout",
     "output_type": "stream",
     "text": [
      "{'train_loss': tensor(0.0246, device='cuda:0'), 'train_f1': tensor(0.6295), 'lr': 0.00015050000000000686}\n",
      "Val Loss: tensor(0.0043, device='cuda:0')\n",
      "CNN Validation Score: tensor(0.7143)\n",
      "Saving\n"
     ]
    },
    {
     "name": "stderr",
     "output_type": "stream",
     "text": [
      " 48%|████▊     | 24/50 [52:42<56:58, 131.46s/it]"
     ]
    },
    {
     "name": "stdout",
     "output_type": "stream",
     "text": [
      "{'train_loss': tensor(0.0242, device='cuda:0'), 'train_f1': tensor(0.6349), 'lr': 0.0002971273994201916}\n",
      "Val Loss: tensor(0.0041, device='cuda:0')\n",
      "CNN Validation Score: tensor(0.7197)\n",
      "Saving\n"
     ]
    },
    {
     "name": "stderr",
     "output_type": "stream",
     "text": [
      " 50%|█████     | 25/50 [54:52<54:35, 131.01s/it]"
     ]
    },
    {
     "name": "stdout",
     "output_type": "stream",
     "text": [
      "{'train_loss': tensor(0.0243, device='cuda:0'), 'train_f1': tensor(0.6398), 'lr': 9.32888268615698e-05}\n",
      "Val Loss: tensor(0.0041, device='cuda:0')\n",
      "CNN Validation Score: tensor(0.7238)\n",
      "Saving\n"
     ]
    },
    {
     "name": "stderr",
     "output_type": "stream",
     "text": [
      " 52%|█████▏    | 26/50 [57:01<52:13, 130.54s/it]"
     ]
    },
    {
     "name": "stdout",
     "output_type": "stream",
     "text": [
      "{'train_loss': tensor(0.0234, device='cuda:0'), 'train_f1': tensor(0.6446), 'lr': 2.619529296079897e-05}\n",
      "Val Loss: tensor(0.0040, device='cuda:0')\n",
      "CNN Validation Score: tensor(0.7282)\n",
      "Saving\n"
     ]
    },
    {
     "name": "stderr",
     "output_type": "stream",
     "text": [
      " 54%|█████▍    | 27/50 [59:11<50:00, 130.45s/it]"
     ]
    },
    {
     "name": "stdout",
     "output_type": "stream",
     "text": [
      "{'train_loss': tensor(0.0237, device='cuda:0'), 'train_f1': tensor(0.6489), 'lr': 0.00025621246378769365}\n",
      "Val Loss: tensor(0.0041, device='cuda:0')\n",
      "CNN Validation Score: tensor(0.7301)\n",
      "Saving\n"
     ]
    },
    {
     "name": "stderr",
     "output_type": "stream",
     "text": [
      " 56%|█████▌    | 28/50 [1:01:21<47:42, 130.11s/it]"
     ]
    },
    {
     "name": "stdout",
     "output_type": "stream",
     "text": [
      "{'train_loss': tensor(0.0234, device='cuda:0'), 'train_f1': tensor(0.6532), 'lr': 0.00023355774983664505}\n",
      "Val Loss: tensor(0.0037, device='cuda:0')\n",
      "CNN Validation Score: tensor(0.7345)\n",
      "Saving\n"
     ]
    },
    {
     "name": "stderr",
     "output_type": "stream",
     "text": [
      " 58%|█████▊    | 29/50 [1:03:31<45:32, 130.10s/it]"
     ]
    },
    {
     "name": "stdout",
     "output_type": "stream",
     "text": [
      "{'train_loss': tensor(0.0232, device='cuda:0'), 'train_f1': tensor(0.6572), 'lr': 1.2380009889569737e-05}\n",
      "Val Loss: tensor(0.0042, device='cuda:0')\n",
      "CNN Validation Score: tensor(0.7370)\n",
      "Saving\n"
     ]
    },
    {
     "name": "stderr",
     "output_type": "stream",
     "text": [
      " 60%|██████    | 30/50 [1:05:39<43:10, 129.51s/it]"
     ]
    },
    {
     "name": "stdout",
     "output_type": "stream",
     "text": [
      "{'train_loss': tensor(0.0226, device='cuda:0'), 'train_f1': tensor(0.6612), 'lr': 0.00012133399685861586}\n",
      "Val Loss: tensor(0.0040, device='cuda:0')\n",
      "CNN Validation Score: tensor(0.7398)\n",
      "Saving\n"
     ]
    },
    {
     "name": "stderr",
     "output_type": "stream",
     "text": [
      " 62%|██████▏   | 31/50 [1:07:49<41:03, 129.65s/it]"
     ]
    },
    {
     "name": "stdout",
     "output_type": "stream",
     "text": [
      "{'train_loss': tensor(0.0228, device='cuda:0'), 'train_f1': tensor(0.6647), 'lr': 0.0003000000000000174}\n",
      "Val Loss: tensor(0.0039, device='cuda:0')\n",
      "CNN Validation Score: tensor(0.7431)\n",
      "Saving\n"
     ]
    },
    {
     "name": "stderr",
     "output_type": "stream",
     "text": [
      " 64%|██████▍   | 32/50 [1:09:58<38:49, 129.40s/it]"
     ]
    },
    {
     "name": "stdout",
     "output_type": "stream",
     "text": [
      "{'train_loss': tensor(0.0228, device='cuda:0'), 'train_f1': tensor(0.6682), 'lr': 0.00012133399685857884}\n",
      "Val Loss: tensor(0.0041, device='cuda:0')\n",
      "CNN Validation Score: tensor(0.7439)\n",
      "Saving\n"
     ]
    },
    {
     "name": "stderr",
     "output_type": "stream",
     "text": [
      " 66%|██████▌   | 33/50 [1:12:08<36:45, 129.74s/it]"
     ]
    },
    {
     "name": "stdout",
     "output_type": "stream",
     "text": [
      "{'train_loss': tensor(0.0227, device='cuda:0'), 'train_f1': tensor(0.6715), 'lr': 1.2380009889581326e-05}\n",
      "Val Loss: tensor(0.0040, device='cuda:0')\n",
      "CNN Validation Score: tensor(0.7461)\n",
      "Saving\n"
     ]
    },
    {
     "name": "stderr",
     "output_type": "stream",
     "text": [
      " 68%|██████▊   | 34/50 [1:14:18<34:37, 129.87s/it]"
     ]
    },
    {
     "name": "stdout",
     "output_type": "stream",
     "text": [
      "{'train_loss': tensor(0.0224, device='cuda:0'), 'train_f1': tensor(0.6745), 'lr': 0.0002335577498367742}\n",
      "Val Loss: tensor(0.0037, device='cuda:0')\n",
      "CNN Validation Score: tensor(0.7492)\n",
      "Saving\n"
     ]
    },
    {
     "name": "stderr",
     "output_type": "stream",
     "text": [
      " 70%|███████   | 35/50 [1:16:33<32:47, 131.16s/it]"
     ]
    },
    {
     "name": "stdout",
     "output_type": "stream",
     "text": [
      "{'train_loss': tensor(0.0213, device='cuda:0'), 'train_f1': tensor(0.6777), 'lr': 0.000256212463787736}\n",
      "Val Loss: tensor(0.0036, device='cuda:0')\n",
      "CNN Validation Score: tensor(0.7526)\n",
      "Saving\n"
     ]
    },
    {
     "name": "stderr",
     "output_type": "stream",
     "text": [
      " 72%|███████▏  | 36/50 [1:18:42<30:29, 130.69s/it]"
     ]
    },
    {
     "name": "stdout",
     "output_type": "stream",
     "text": [
      "{'train_loss': tensor(0.0222, device='cuda:0'), 'train_f1': tensor(0.6806), 'lr': 2.619529296078911e-05}\n",
      "Val Loss: tensor(0.0038, device='cuda:0')\n",
      "CNN Validation Score: tensor(0.7550)\n",
      "Saving\n"
     ]
    },
    {
     "name": "stderr",
     "output_type": "stream",
     "text": [
      " 74%|███████▍  | 37/50 [1:20:51<28:12, 130.18s/it]"
     ]
    },
    {
     "name": "stdout",
     "output_type": "stream",
     "text": [
      "{'train_loss': tensor(0.0220, device='cuda:0'), 'train_f1': tensor(0.6834), 'lr': 9.328882686169183e-05}\n",
      "Val Loss: tensor(0.0038, device='cuda:0')\n",
      "CNN Validation Score: tensor(0.7576)\n",
      "Saving\n"
     ]
    },
    {
     "name": "stderr",
     "output_type": "stream",
     "text": [
      " 76%|███████▌  | 38/50 [1:23:01<26:01, 130.11s/it]"
     ]
    },
    {
     "name": "stdout",
     "output_type": "stream",
     "text": [
      "{'train_loss': tensor(0.0219, device='cuda:0'), 'train_f1': tensor(0.6859), 'lr': 0.0002971273994210897}\n",
      "Val Loss: tensor(0.0038, device='cuda:0')\n",
      "CNN Validation Score: tensor(0.7601)\n",
      "Saving\n"
     ]
    },
    {
     "name": "stderr",
     "output_type": "stream",
     "text": [
      " 78%|███████▊  | 39/50 [1:25:10<23:48, 129.84s/it]"
     ]
    },
    {
     "name": "stdout",
     "output_type": "stream",
     "text": [
      "{'train_loss': tensor(0.0212, device='cuda:0'), 'train_f1': tensor(0.6887), 'lr': 0.00015050000000034155}\n",
      "Val Loss: tensor(0.0035, device='cuda:0')\n",
      "CNN Validation Score: tensor(0.7628)\n",
      "Saving\n"
     ]
    },
    {
     "name": "stderr",
     "output_type": "stream",
     "text": [
      " 80%|████████  | 40/50 [1:27:22<21:43, 130.37s/it]"
     ]
    },
    {
     "name": "stdout",
     "output_type": "stream",
     "text": [
      "{'train_loss': tensor(0.0214, device='cuda:0'), 'train_f1': tensor(0.6913), 'lr': 3.87260057971705e-06}\n",
      "Val Loss: tensor(0.0036, device='cuda:0')\n",
      "CNN Validation Score: tensor(0.7652)\n",
      "Saving\n"
     ]
    },
    {
     "name": "stderr",
     "output_type": "stream",
     "text": [
      " 82%|████████▏ | 41/50 [1:29:31<19:28, 129.86s/it]"
     ]
    },
    {
     "name": "stdout",
     "output_type": "stream",
     "text": [
      "{'train_loss': tensor(0.0219, device='cuda:0'), 'train_f1': tensor(0.6936), 'lr': 0.00020771117313849035}\n",
      "Val Loss: tensor(0.0041, device='cuda:0')\n",
      "CNN Validation Score: tensor(0.7656)\n",
      "Saving\n"
     ]
    },
    {
     "name": "stderr",
     "output_type": "stream",
     "text": [
      " 84%|████████▍ | 42/50 [1:31:40<17:17, 129.74s/it]"
     ]
    },
    {
     "name": "stdout",
     "output_type": "stream",
     "text": [
      "{'train_loss': tensor(0.0218, device='cuda:0'), 'train_f1': tensor(0.6957), 'lr': 0.00027480470703905905}\n",
      "Val Loss: tensor(0.0034, device='cuda:0')\n",
      "CNN Validation Score: tensor(0.7682)\n",
      "Saving\n"
     ]
    },
    {
     "name": "stderr",
     "output_type": "stream",
     "text": [
      " 86%|████████▌ | 43/50 [1:33:48<15:04, 129.28s/it]"
     ]
    },
    {
     "name": "stdout",
     "output_type": "stream",
     "text": [
      "{'train_loss': tensor(0.0218, device='cuda:0'), 'train_f1': tensor(0.6980), 'lr': 4.4787536212556226e-05}\n",
      "Val Loss: tensor(0.0035, device='cuda:0')\n",
      "CNN Validation Score: tensor(0.7706)\n",
      "Saving\n"
     ]
    },
    {
     "name": "stderr",
     "output_type": "stream",
     "text": [
      " 88%|████████▊ | 44/50 [1:35:58<12:57, 129.55s/it]"
     ]
    },
    {
     "name": "stdout",
     "output_type": "stream",
     "text": [
      "{'train_loss': tensor(0.0204, device='cuda:0'), 'train_f1': tensor(0.7004), 'lr': 6.744225016364239e-05}\n",
      "Val Loss: tensor(0.0037, device='cuda:0')\n",
      "CNN Validation Score: tensor(0.7728)\n",
      "Saving\n"
     ]
    },
    {
     "name": "stderr",
     "output_type": "stream",
     "text": [
      " 90%|█████████ | 45/50 [1:38:12<10:53, 130.69s/it]"
     ]
    },
    {
     "name": "stdout",
     "output_type": "stream",
     "text": [
      "{'train_loss': tensor(0.0208, device='cuda:0'), 'train_f1': tensor(0.7026), 'lr': 0.0002886199901106629}\n",
      "Val Loss: tensor(0.0034, device='cuda:0')\n",
      "CNN Validation Score: tensor(0.7747)\n",
      "Saving\n"
     ]
    },
    {
     "name": "stderr",
     "output_type": "stream",
     "text": [
      " 92%|█████████▏| 46/50 [1:40:23<08:43, 130.96s/it]"
     ]
    },
    {
     "name": "stdout",
     "output_type": "stream",
     "text": [
      "{'train_loss': tensor(0.0208, device='cuda:0'), 'train_f1': tensor(0.7043), 'lr': 0.0001796660031415372}\n",
      "Val Loss: tensor(0.0038, device='cuda:0')\n",
      "CNN Validation Score: tensor(0.7761)\n",
      "Saving\n"
     ]
    },
    {
     "name": "stderr",
     "output_type": "stream",
     "text": [
      " 94%|█████████▍| 47/50 [1:42:33<06:31, 130.44s/it]"
     ]
    },
    {
     "name": "stdout",
     "output_type": "stream",
     "text": [
      "{'train_loss': tensor(0.0203, device='cuda:0'), 'train_f1': tensor(0.7063), 'lr': 1e-06}\n",
      "Val Loss: tensor(0.0037, device='cuda:0')\n",
      "CNN Validation Score: tensor(0.7761)\n",
      "Saving\n"
     ]
    },
    {
     "name": "stderr",
     "output_type": "stream",
     "text": [
      " 96%|█████████▌| 48/50 [1:44:43<04:20, 130.47s/it]"
     ]
    },
    {
     "name": "stdout",
     "output_type": "stream",
     "text": [
      "{'train_loss': tensor(0.0205, device='cuda:0'), 'train_f1': tensor(0.7081), 'lr': 0.00017966600314181776}\n",
      "Val Loss: tensor(0.0035, device='cuda:0')\n",
      "CNN Validation Score: tensor(0.7780)\n",
      "Saving\n"
     ]
    },
    {
     "name": "stderr",
     "output_type": "stream",
     "text": [
      " 98%|█████████▊| 49/50 [1:46:53<02:10, 130.39s/it]"
     ]
    },
    {
     "name": "stdout",
     "output_type": "stream",
     "text": [
      "{'train_loss': tensor(0.0208, device='cuda:0'), 'train_f1': tensor(0.7099), 'lr': 0.00028861999011101964}\n",
      "Val Loss: tensor(0.0035, device='cuda:0')\n",
      "CNN Validation Score: tensor(0.7795)\n",
      "Saving\n"
     ]
    },
    {
     "name": "stderr",
     "output_type": "stream",
     "text": [
      "100%|██████████| 50/50 [1:49:02<00:00, 130.85s/it]\n",
      "  0%|          | 0/50 [00:00<?, ?it/s]"
     ]
    },
    {
     "name": "stdout",
     "output_type": "stream",
     "text": [
      "{'train_loss': tensor(0.0226, device='cuda:0', grad_fn=<MeanBackward0>), 'train_f1': tensor(0.5322), 'lr': 0.00012133399685858832}\n",
      "ViT Validation Score: tensor(0.6904)\n",
      "Val Loss: tensor(0.0055, device='cuda:0')\n",
      "Saving\n"
     ]
    },
    {
     "name": "stderr",
     "output_type": "stream",
     "text": [
      "  2%|▏         | 1/50 [03:42<3:02:04, 222.96s/it]"
     ]
    },
    {
     "name": "stdout",
     "output_type": "stream",
     "text": [
      "**********\n",
      "{'train_loss': tensor(0.0345, device='cuda:0', grad_fn=<MeanBackward0>), 'train_f1': tensor(0.6297), 'lr': 1.2380009889563552e-05}\n",
      "ViT Validation Score: tensor(0.7395)\n",
      "Val Loss: tensor(0.0042, device='cuda:0')\n",
      "Saving\n"
     ]
    },
    {
     "name": "stderr",
     "output_type": "stream",
     "text": [
      "  4%|▍         | 2/50 [07:25<2:58:23, 222.99s/it]"
     ]
    },
    {
     "name": "stdout",
     "output_type": "stream",
     "text": [
      "**********\n",
      "{'train_loss': tensor(0.0149, device='cuda:0', grad_fn=<MeanBackward0>), 'train_f1': tensor(0.6828), 'lr': 0.00023355774983644046}\n",
      "ViT Validation Score: tensor(0.7569)\n",
      "Val Loss: tensor(0.0037, device='cuda:0')\n",
      "Saving\n"
     ]
    },
    {
     "name": "stderr",
     "output_type": "stream",
     "text": [
      "  6%|▌         | 3/50 [11:09<2:54:59, 223.39s/it]"
     ]
    },
    {
     "name": "stdout",
     "output_type": "stream",
     "text": [
      "**********\n",
      "{'train_loss': tensor(0.0252, device='cuda:0', grad_fn=<MeanBackward0>), 'train_f1': tensor(0.7156), 'lr': 0.00025621246378738644}\n",
      "ViT Validation Score: tensor(0.7743)\n",
      "Val Loss: tensor(0.0036, device='cuda:0')\n",
      "Saving\n"
     ]
    },
    {
     "name": "stderr",
     "output_type": "stream",
     "text": [
      "  8%|▊         | 4/50 [14:44<2:48:37, 219.95s/it]"
     ]
    },
    {
     "name": "stdout",
     "output_type": "stream",
     "text": [
      "**********\n",
      "{'train_loss': tensor(0.0084, device='cuda:0', grad_fn=<MeanBackward0>), 'train_f1': tensor(0.7391), 'lr': 2.6195292960766732e-05}\n",
      "ViT Validation Score: tensor(0.7902)\n",
      "Val Loss: tensor(0.0033, device='cuda:0')\n",
      "Saving\n"
     ]
    },
    {
     "name": "stderr",
     "output_type": "stream",
     "text": [
      " 10%|█         | 5/50 [18:26<2:45:35, 220.78s/it]"
     ]
    },
    {
     "name": "stdout",
     "output_type": "stream",
     "text": [
      "**********\n",
      "{'train_loss': tensor(0.0116, device='cuda:0', grad_fn=<MeanBackward0>), 'train_f1': tensor(0.7567), 'lr': 9.328882686145683e-05}\n",
      "ViT Validation Score: tensor(0.8009)\n",
      "Val Loss: tensor(0.0029, device='cuda:0')\n",
      "Saving\n"
     ]
    },
    {
     "name": "stderr",
     "output_type": "stream",
     "text": [
      " 12%|█▏        | 6/50 [22:08<2:42:12, 221.19s/it]"
     ]
    },
    {
     "name": "stdout",
     "output_type": "stream",
     "text": [
      "**********\n",
      "{'train_loss': tensor(0.0153, device='cuda:0', grad_fn=<MeanBackward0>), 'train_f1': tensor(0.7712), 'lr': 0.0002971273994203}\n",
      "ViT Validation Score: tensor(0.8128)\n",
      "Val Loss: tensor(0.0029, device='cuda:0')\n",
      "Saving\n"
     ]
    },
    {
     "name": "stderr",
     "output_type": "stream",
     "text": [
      " 14%|█▍        | 7/50 [25:51<2:38:58, 221.84s/it]"
     ]
    },
    {
     "name": "stdout",
     "output_type": "stream",
     "text": [
      "**********\n",
      "{'train_loss': tensor(0.0038, device='cuda:0', grad_fn=<MeanBackward0>), 'train_f1': tensor(0.7838), 'lr': 0.00015050000000004632}\n",
      "ViT Validation Score: tensor(0.8210)\n",
      "Val Loss: tensor(0.0026, device='cuda:0')\n",
      "Saving\n"
     ]
    },
    {
     "name": "stderr",
     "output_type": "stream",
     "text": [
      " 16%|█▌        | 8/50 [29:33<2:35:18, 221.86s/it]"
     ]
    },
    {
     "name": "stdout",
     "output_type": "stream",
     "text": [
      "**********\n",
      "{'train_loss': tensor(0.0092, device='cuda:0', grad_fn=<MeanBackward0>), 'train_f1': tensor(0.7938), 'lr': 3.87260057971705e-06}\n",
      "ViT Validation Score: tensor(0.8277)\n",
      "Val Loss: tensor(0.0026, device='cuda:0')\n",
      "Saving\n"
     ]
    },
    {
     "name": "stderr",
     "output_type": "stream",
     "text": [
      " 18%|█▊        | 9/50 [33:16<2:31:49, 222.18s/it]"
     ]
    },
    {
     "name": "stdout",
     "output_type": "stream",
     "text": [
      "**********\n",
      "{'train_loss': tensor(0.0070, device='cuda:0', grad_fn=<MeanBackward0>), 'train_f1': tensor(0.8024), 'lr': 0.00020771117313867117}\n",
      "ViT Validation Score: tensor(0.8323)\n",
      "Val Loss: tensor(0.0025, device='cuda:0')\n",
      "Saving\n"
     ]
    },
    {
     "name": "stderr",
     "output_type": "stream",
     "text": [
      " 20%|██        | 10/50 [36:58<2:28:05, 222.14s/it]"
     ]
    },
    {
     "name": "stdout",
     "output_type": "stream",
     "text": [
      "**********\n",
      "{'train_loss': tensor(0.0099, device='cuda:0', grad_fn=<MeanBackward0>), 'train_f1': tensor(0.8095), 'lr': 0.00027480470703925084}\n",
      "ViT Validation Score: tensor(0.8369)\n",
      "Val Loss: tensor(0.0027, device='cuda:0')\n",
      "Saving\n"
     ]
    },
    {
     "name": "stderr",
     "output_type": "stream",
     "text": [
      " 22%|██▏       | 11/50 [40:41<2:24:24, 222.17s/it]"
     ]
    },
    {
     "name": "stdout",
     "output_type": "stream",
     "text": [
      "**********\n",
      "{'train_loss': tensor(0.0158, device='cuda:0', grad_fn=<MeanBackward0>), 'train_f1': tensor(0.8159), 'lr': 4.478753621259821e-05}\n",
      "ViT Validation Score: tensor(0.8399)\n",
      "Val Loss: tensor(0.0030, device='cuda:0')\n",
      "Saving\n"
     ]
    },
    {
     "name": "stderr",
     "output_type": "stream",
     "text": [
      " 24%|██▍       | 12/50 [44:14<2:18:59, 219.46s/it]"
     ]
    },
    {
     "name": "stdout",
     "output_type": "stream",
     "text": [
      "**********\n",
      "{'train_loss': tensor(0.0113, device='cuda:0', grad_fn=<MeanBackward0>), 'train_f1': tensor(0.8217), 'lr': 6.744225016362168e-05}\n",
      "ViT Validation Score: tensor(0.8425)\n",
      "Val Loss: tensor(0.0026, device='cuda:0')\n",
      "Saving\n"
     ]
    },
    {
     "name": "stderr",
     "output_type": "stream",
     "text": [
      " 26%|██▌       | 13/50 [47:58<2:16:12, 220.87s/it]"
     ]
    },
    {
     "name": "stdout",
     "output_type": "stream",
     "text": [
      "**********\n",
      "{'train_loss': tensor(0.0042, device='cuda:0', grad_fn=<MeanBackward0>), 'train_f1': tensor(0.8268), 'lr': 0.00028861999011056363}\n",
      "ViT Validation Score: tensor(0.8457)\n",
      "Val Loss: tensor(0.0022, device='cuda:0')\n",
      "Saving\n"
     ]
    },
    {
     "name": "stderr",
     "output_type": "stream",
     "text": [
      " 28%|██▊       | 14/50 [51:42<2:13:01, 221.71s/it]"
     ]
    },
    {
     "name": "stdout",
     "output_type": "stream",
     "text": [
      "**********\n",
      "{'train_loss': tensor(0.0122, device='cuda:0', grad_fn=<MeanBackward0>), 'train_f1': tensor(0.8315), 'lr': 0.0001796660031414303}\n",
      "ViT Validation Score: tensor(0.8471)\n",
      "Val Loss: tensor(0.0025, device='cuda:0')\n",
      "Saving\n"
     ]
    },
    {
     "name": "stderr",
     "output_type": "stream",
     "text": [
      " 30%|███       | 15/50 [55:25<2:09:35, 222.15s/it]"
     ]
    },
    {
     "name": "stdout",
     "output_type": "stream",
     "text": [
      "**********\n",
      "{'train_loss': tensor(0.0072, device='cuda:0', grad_fn=<MeanBackward0>), 'train_f1': tensor(0.8360), 'lr': 1e-06}\n",
      "ViT Validation Score: tensor(0.8503)\n",
      "Val Loss: tensor(0.0021, device='cuda:0')\n",
      "Saving\n"
     ]
    },
    {
     "name": "stderr",
     "output_type": "stream",
     "text": [
      " 32%|███▏      | 16/50 [59:07<2:05:52, 222.14s/it]"
     ]
    },
    {
     "name": "stdout",
     "output_type": "stream",
     "text": [
      "**********\n",
      "{'train_loss': tensor(0.0186, device='cuda:0', grad_fn=<MeanBackward0>), 'train_f1': tensor(0.8401), 'lr': 0.0001796660031415497}\n",
      "ViT Validation Score: tensor(0.8526)\n",
      "Val Loss: tensor(0.0024, device='cuda:0')\n",
      "Saving\n"
     ]
    },
    {
     "name": "stderr",
     "output_type": "stream",
     "text": [
      " 34%|███▍      | 17/50 [1:02:49<2:02:08, 222.09s/it]"
     ]
    },
    {
     "name": "stdout",
     "output_type": "stream",
     "text": [
      "**********\n",
      "{'train_loss': tensor(0.0042, device='cuda:0', grad_fn=<MeanBackward0>), 'train_f1': tensor(0.8436), 'lr': 0.00028861999011024487}\n",
      "ViT Validation Score: tensor(0.8552)\n",
      "Val Loss: tensor(0.0020, device='cuda:0')\n",
      "Saving\n"
     ]
    },
    {
     "name": "stderr",
     "output_type": "stream",
     "text": [
      " 36%|███▌      | 18/50 [1:06:30<1:58:17, 221.80s/it]"
     ]
    },
    {
     "name": "stdout",
     "output_type": "stream",
     "text": [
      "**********\n",
      "{'train_loss': tensor(0.0125, device='cuda:0', grad_fn=<MeanBackward0>), 'train_f1': tensor(0.8470), 'lr': 6.74422501636593e-05}\n",
      "ViT Validation Score: tensor(0.8562)\n",
      "Val Loss: tensor(0.0025, device='cuda:0')\n",
      "Saving\n"
     ]
    },
    {
     "name": "stderr",
     "output_type": "stream",
     "text": [
      " 38%|███▊      | 19/50 [1:10:06<1:53:39, 219.98s/it]"
     ]
    },
    {
     "name": "stdout",
     "output_type": "stream",
     "text": [
      "**********\n",
      "{'train_loss': tensor(0.0049, device='cuda:0', grad_fn=<MeanBackward0>), 'train_f1': tensor(0.8501), 'lr': 4.478753621266829e-05}\n",
      "ViT Validation Score: tensor(0.8579)\n",
      "Val Loss: tensor(0.0025, device='cuda:0')\n",
      "Saving\n"
     ]
    },
    {
     "name": "stderr",
     "output_type": "stream",
     "text": [
      " 40%|████      | 20/50 [1:13:52<1:50:56, 221.88s/it]"
     ]
    },
    {
     "name": "stdout",
     "output_type": "stream",
     "text": [
      "**********\n",
      "{'train_loss': tensor(0.0064, device='cuda:0', grad_fn=<MeanBackward0>), 'train_f1': tensor(0.8529), 'lr': 0.0002748047070394487}\n",
      "ViT Validation Score: tensor(0.8601)\n",
      "Val Loss: tensor(0.0021, device='cuda:0')\n",
      "Saving\n"
     ]
    },
    {
     "name": "stderr",
     "output_type": "stream",
     "text": [
      " 42%|████▏     | 21/50 [1:17:35<1:47:26, 222.28s/it]"
     ]
    },
    {
     "name": "stdout",
     "output_type": "stream",
     "text": [
      "**********\n",
      "{'train_loss': tensor(0.0066, device='cuda:0', grad_fn=<MeanBackward0>), 'train_f1': tensor(0.8556), 'lr': 0.00020771117313867372}\n",
      "ViT Validation Score: tensor(0.8612)\n",
      "Val Loss: tensor(0.0023, device='cuda:0')\n",
      "Saving\n"
     ]
    },
    {
     "name": "stderr",
     "output_type": "stream",
     "text": [
      " 44%|████▍     | 22/50 [1:21:18<1:43:44, 222.31s/it]"
     ]
    },
    {
     "name": "stdout",
     "output_type": "stream",
     "text": [
      "**********\n",
      "{'train_loss': tensor(0.0038, device='cuda:0', grad_fn=<MeanBackward0>), 'train_f1': tensor(0.8582), 'lr': 3.8726005797196736e-06}\n",
      "ViT Validation Score: tensor(0.8628)\n",
      "Val Loss: tensor(0.0020, device='cuda:0')\n",
      "Saving\n"
     ]
    },
    {
     "name": "stderr",
     "output_type": "stream",
     "text": [
      " 46%|████▌     | 23/50 [1:25:01<1:40:07, 222.51s/it]"
     ]
    },
    {
     "name": "stdout",
     "output_type": "stream",
     "text": [
      "**********\n",
      "{'train_loss': tensor(0.0033, device='cuda:0', grad_fn=<MeanBackward0>), 'train_f1': tensor(0.8604), 'lr': 0.00015050000000000686}\n",
      "ViT Validation Score: tensor(0.8648)\n",
      "Val Loss: tensor(0.0021, device='cuda:0')\n",
      "Saving\n"
     ]
    },
    {
     "name": "stderr",
     "output_type": "stream",
     "text": [
      " 48%|████▊     | 24/50 [1:28:43<1:36:27, 222.60s/it]"
     ]
    },
    {
     "name": "stdout",
     "output_type": "stream",
     "text": [
      "**********\n",
      "{'train_loss': tensor(0.0058, device='cuda:0', grad_fn=<MeanBackward0>), 'train_f1': tensor(0.8627), 'lr': 0.0002971273994201916}\n",
      "ViT Validation Score: tensor(0.8661)\n",
      "Val Loss: tensor(0.0029, device='cuda:0')\n",
      "Saving\n"
     ]
    },
    {
     "name": "stderr",
     "output_type": "stream",
     "text": [
      " 50%|█████     | 25/50 [1:32:29<1:33:11, 223.65s/it]"
     ]
    },
    {
     "name": "stdout",
     "output_type": "stream",
     "text": [
      "**********\n",
      "{'train_loss': tensor(0.0069, device='cuda:0', grad_fn=<MeanBackward0>), 'train_f1': tensor(0.8646), 'lr': 9.32888268615698e-05}\n",
      "ViT Validation Score: tensor(0.8677)\n",
      "Val Loss: tensor(0.0020, device='cuda:0')\n",
      "Saving\n"
     ]
    },
    {
     "name": "stderr",
     "output_type": "stream",
     "text": [
      " 52%|█████▏    | 26/50 [1:37:40<1:39:56, 249.87s/it]"
     ]
    },
    {
     "name": "stdout",
     "output_type": "stream",
     "text": [
      "**********\n",
      "{'train_loss': tensor(0.0088, device='cuda:0', grad_fn=<MeanBackward0>), 'train_f1': tensor(0.8664), 'lr': 2.619529296079897e-05}\n",
      "ViT Validation Score: tensor(0.8692)\n",
      "Val Loss: tensor(0.0022, device='cuda:0')\n",
      "Saving\n"
     ]
    },
    {
     "name": "stderr",
     "output_type": "stream",
     "text": [
      " 54%|█████▍    | 27/50 [1:43:11<1:45:06, 274.20s/it]"
     ]
    },
    {
     "name": "stdout",
     "output_type": "stream",
     "text": [
      "**********\n",
      "{'train_loss': tensor(0.0218, device='cuda:0', grad_fn=<MeanBackward0>), 'train_f1': tensor(0.8683), 'lr': 0.00025621246378769365}\n",
      "ViT Validation Score: tensor(0.8702)\n",
      "Val Loss: tensor(0.0019, device='cuda:0')\n",
      "Saving\n"
     ]
    },
    {
     "name": "stderr",
     "output_type": "stream",
     "text": [
      " 56%|█████▌    | 28/50 [1:48:48<1:47:23, 292.87s/it]"
     ]
    },
    {
     "name": "stdout",
     "output_type": "stream",
     "text": [
      "**********\n",
      "{'train_loss': tensor(0.0101, device='cuda:0', grad_fn=<MeanBackward0>), 'train_f1': tensor(0.8702), 'lr': 0.00023355774983664505}\n",
      "ViT Validation Score: tensor(0.8705)\n",
      "Val Loss: tensor(0.0029, device='cuda:0')\n",
      "Saving\n"
     ]
    },
    {
     "name": "stderr",
     "output_type": "stream",
     "text": [
      " 58%|█████▊    | 29/50 [1:54:28<1:47:31, 307.20s/it]"
     ]
    },
    {
     "name": "stdout",
     "output_type": "stream",
     "text": [
      "**********\n",
      "{'train_loss': tensor(0.0101, device='cuda:0', grad_fn=<MeanBackward0>), 'train_f1': tensor(0.8718), 'lr': 1.2380009889569737e-05}\n",
      "ViT Validation Score: tensor(0.8715)\n",
      "Val Loss: tensor(0.0022, device='cuda:0')\n",
      "Saving\n"
     ]
    },
    {
     "name": "stderr",
     "output_type": "stream",
     "text": [
      " 60%|██████    | 30/50 [2:00:15<1:46:21, 319.05s/it]"
     ]
    },
    {
     "name": "stdout",
     "output_type": "stream",
     "text": [
      "**********\n",
      "{'train_loss': tensor(0.0057, device='cuda:0', grad_fn=<MeanBackward0>), 'train_f1': tensor(0.8734), 'lr': 0.00012133399685861586}\n",
      "ViT Validation Score: tensor(0.8726)\n",
      "Val Loss: tensor(0.0020, device='cuda:0')\n",
      "Saving\n"
     ]
    },
    {
     "name": "stderr",
     "output_type": "stream",
     "text": [
      " 62%|██████▏   | 31/50 [2:05:51<1:42:35, 323.99s/it]"
     ]
    },
    {
     "name": "stdout",
     "output_type": "stream",
     "text": [
      "**********\n",
      "{'train_loss': tensor(0.0071, device='cuda:0', grad_fn=<MeanBackward0>), 'train_f1': tensor(0.8750), 'lr': 0.0003000000000000174}\n",
      "ViT Validation Score: tensor(0.8737)\n",
      "Val Loss: tensor(0.0023, device='cuda:0')\n",
      "Saving\n"
     ]
    },
    {
     "name": "stderr",
     "output_type": "stream",
     "text": [
      " 64%|██████▍   | 32/50 [2:11:25<1:38:04, 326.94s/it]"
     ]
    },
    {
     "name": "stdout",
     "output_type": "stream",
     "text": [
      "**********\n",
      "{'train_loss': tensor(0.0043, device='cuda:0', grad_fn=<MeanBackward0>), 'train_f1': tensor(0.8764), 'lr': 0.00012133399685857884}\n",
      "ViT Validation Score: tensor(0.8750)\n",
      "Val Loss: tensor(0.0018, device='cuda:0')\n",
      "Saving\n"
     ]
    },
    {
     "name": "stderr",
     "output_type": "stream",
     "text": [
      " 66%|██████▌   | 33/50 [2:16:58<1:33:11, 328.92s/it]"
     ]
    },
    {
     "name": "stdout",
     "output_type": "stream",
     "text": [
      "**********\n",
      "{'train_loss': tensor(0.0072, device='cuda:0', grad_fn=<MeanBackward0>), 'train_f1': tensor(0.8779), 'lr': 1.2380009889581326e-05}\n",
      "ViT Validation Score: tensor(0.8762)\n",
      "Val Loss: tensor(0.0018, device='cuda:0')\n",
      "Saving\n"
     ]
    },
    {
     "name": "stderr",
     "output_type": "stream",
     "text": [
      " 68%|██████▊   | 34/50 [2:22:37<1:28:31, 332.00s/it]"
     ]
    },
    {
     "name": "stdout",
     "output_type": "stream",
     "text": [
      "**********\n",
      "{'train_loss': tensor(0.0159, device='cuda:0', grad_fn=<MeanBackward0>), 'train_f1': tensor(0.8791), 'lr': 0.0002335577498367742}\n",
      "ViT Validation Score: tensor(0.8771)\n",
      "Val Loss: tensor(0.0019, device='cuda:0')\n",
      "Saving\n"
     ]
    },
    {
     "name": "stderr",
     "output_type": "stream",
     "text": [
      " 70%|███████   | 35/50 [2:28:12<1:23:11, 332.77s/it]"
     ]
    },
    {
     "name": "stdout",
     "output_type": "stream",
     "text": [
      "**********\n",
      "{'train_loss': tensor(0.0065, device='cuda:0', grad_fn=<MeanBackward0>), 'train_f1': tensor(0.8805), 'lr': 0.000256212463787736}\n",
      "ViT Validation Score: tensor(0.8782)\n",
      "Val Loss: tensor(0.0019, device='cuda:0')\n",
      "Saving\n"
     ]
    },
    {
     "name": "stderr",
     "output_type": "stream",
     "text": [
      " 72%|███████▏  | 36/50 [2:33:49<1:17:58, 334.21s/it]"
     ]
    },
    {
     "name": "stdout",
     "output_type": "stream",
     "text": [
      "**********\n",
      "{'train_loss': tensor(0.0083, device='cuda:0', grad_fn=<MeanBackward0>), 'train_f1': tensor(0.8818), 'lr': 2.619529296078911e-05}\n",
      "ViT Validation Score: tensor(0.8790)\n",
      "Val Loss: tensor(0.0022, device='cuda:0')\n",
      "Saving\n"
     ]
    },
    {
     "name": "stderr",
     "output_type": "stream",
     "text": [
      " 74%|███████▍  | 37/50 [2:39:26<1:12:33, 334.86s/it]"
     ]
    },
    {
     "name": "stdout",
     "output_type": "stream",
     "text": [
      "**********\n",
      "{'train_loss': tensor(0.0024, device='cuda:0', grad_fn=<MeanBackward0>), 'train_f1': tensor(0.8830), 'lr': 9.328882686169183e-05}\n",
      "ViT Validation Score: tensor(0.8797)\n",
      "Val Loss: tensor(0.0020, device='cuda:0')\n",
      "Saving\n"
     ]
    },
    {
     "name": "stderr",
     "output_type": "stream",
     "text": [
      " 76%|███████▌  | 38/50 [2:45:02<1:07:02, 335.21s/it]"
     ]
    },
    {
     "name": "stdout",
     "output_type": "stream",
     "text": [
      "**********\n",
      "{'train_loss': tensor(0.0108, device='cuda:0', grad_fn=<MeanBackward0>), 'train_f1': tensor(0.8842), 'lr': 0.0002971273994210897}\n",
      "ViT Validation Score: tensor(0.8802)\n",
      "Val Loss: tensor(0.0024, device='cuda:0')\n",
      "Saving\n"
     ]
    },
    {
     "name": "stderr",
     "output_type": "stream",
     "text": [
      " 78%|███████▊  | 39/50 [2:50:35<1:01:20, 334.55s/it]"
     ]
    },
    {
     "name": "stdout",
     "output_type": "stream",
     "text": [
      "**********\n",
      "{'train_loss': tensor(0.0064, device='cuda:0', grad_fn=<MeanBackward0>), 'train_f1': tensor(0.8854), 'lr': 0.00015050000000034155}\n",
      "ViT Validation Score: tensor(0.8810)\n",
      "Val Loss: tensor(0.0019, device='cuda:0')\n",
      "Saving\n"
     ]
    },
    {
     "name": "stderr",
     "output_type": "stream",
     "text": [
      " 80%|████████  | 40/50 [2:56:06<55:35, 333.56s/it]  "
     ]
    },
    {
     "name": "stdout",
     "output_type": "stream",
     "text": [
      "**********\n"
     ]
    }
   ],
   "source": [
    "for fold_idx, (train_indices, valid_indices) in enumerate(k_fold.split(all_img_names)):\n",
    "    model_vit=torch.load('/scratch/ps4364/BTMRI/code/cass/cass-vit-{}-bMRI-with-valid.pt'.format(fold_idx))\n",
    "    model_cnn=torch.load('/scratch/ps4364/BTMRI/code/cass/cass-r50-{}-bMRI-with-valid.pt'.format(fold_idx))\n",
    "    last_loss=999999999\n",
    "    val_loss_arr=[]\n",
    "    train_loss_arr=[]\n",
    "    counter=0\n",
    "    for param in model_vit.parameters():\n",
    "        param.requires_grad = False\n",
    "    for param in model_cnn.parameters():\n",
    "        param.requires_grad = False\n",
    "    \n",
    "    model_cnn.to(device)\n",
    "    model_vit.to(device)\n",
    "    print('*'*10)\n",
    "    print('For',fold_idx)\n",
    "    fold_train_img_names = [all_img_names[idx] for idx in train_indices]\n",
    "    fold_valid_img_names = [all_img_names[idx] for idx in valid_indices]\n",
    "    fold_train_img_labels = [all_img_labels_ts[idx] for idx in train_indices]\n",
    "    fold_valid_img_labels = [all_img_labels_ts[idx] for idx in valid_indices]\n",
    "    train_dataset = Dataset(CFG, fold_train_img_names, fold_train_img_labels, train_transform)\n",
    "    valid_dataset = Dataset(CFG, fold_valid_img_names, fold_valid_img_labels, valid_transform)\n",
    "    train_loader = DataLoader(train_dataset, batch_size=CFG.batch_size, shuffle=True, num_workers=CFG.num_workers, drop_last=True)\n",
    "    valid_loader = DataLoader(valid_dataset, batch_size=CFG.batch_size, shuffle=False, num_workers=CFG.num_workers)\n",
    "    \n",
    "    \n",
    "    \n",
    "    #torch.save(model_cnn,'./covt-r50-{}-bMRI-with-valid.pt'.format(fold_idx))\n",
    "    #torch.save(model_vit,'./covt-r50-vit-{}-bMRI-with-valid.pt'.format(fold_idx))\n",
    "    \n",
    "    #Train Correspong Supervised CNN\n",
    "    print('Fine tunning Cov-T')\n",
    "    writer = SummaryWriter()\n",
    "    model_cnn.fc=nn.Linear(in_features=2048, out_features=4, bias=True)\n",
    "    criterion = FocalLoss(cfg.fl_alpha, cfg.fl_gamma)\n",
    "    metric = MyF1Score(cfg)\n",
    "    val_metric=MyF1Score(cfg)\n",
    "    optimizer = torch.optim.Adam(filter(lambda p: p.requires_grad, model_cnn.parameters()), lr = 3e-4)\n",
    "    scheduler = torch.optim.lr_scheduler.CosineAnnealingLR(optimizer,T_max=cfg.t_max,eta_min=cfg.min_lr)\n",
    "    model_cnn.train()\n",
    "    from torch.autograd import Variable\n",
    "    best=0\n",
    "    best_val=0\n",
    "    for epoch in tqdm(range(50)):\n",
    "        total_loss = 0\n",
    "        for images,label in train_loader:\n",
    "            model_cnn.train()\n",
    "            images = images.to(device)\n",
    "            label = label.to(device)\n",
    "            model_cnn.to(device)\n",
    "            pred_ts=model_cnn(images)\n",
    "            loss = criterion(pred_ts, label)\n",
    "            score = metric(pred_ts,label)\n",
    "            loss.backward()\n",
    "            optimizer.step()\n",
    "            optimizer.zero_grad()\n",
    "            scheduler.step()\n",
    "            total_loss += loss.detach()\n",
    "        avg_loss=total_loss/ len(train_loader)\n",
    "        train_score=metric.compute()\n",
    "        logs = {'train_loss': avg_loss, 'train_f1': train_score, 'lr': optimizer.param_groups[0]['lr']}\n",
    "        writer.add_scalar(\"CNN Supervised Loss/train\", loss, epoch)\n",
    "        writer.add_scalar(\"CNN Supervised F1/train\", train_score, epoch)\n",
    "        print(logs)\n",
    "        if best < train_score:\n",
    "            best=train_score\n",
    "            model_cnn.eval()\n",
    "            total_loss = 0\n",
    "            for images,label in valid_loader:\n",
    "                images = images.to(device)\n",
    "                label = label.to(device)\n",
    "                model_cnn.to(device)\n",
    "                pred_ts=model_cnn(images)\n",
    "                score_val = val_metric(pred_ts,label)\n",
    "                val_loss = criterion(pred_ts, label)\n",
    "                total_loss += val_loss.detach()\n",
    "            avg_loss=total_loss/ len(train_loader)   \n",
    "            print('Val Loss:',avg_loss)\n",
    "            val_score=val_metric.compute()\n",
    "            print('CNN Validation Score:',val_score)\n",
    "            writer.add_scalar(\"CNN Supervised F1/Validation\", val_score, epoch)\n",
    "            if avg_loss > last_loss:\n",
    "                counter+=1\n",
    "            else:\n",
    "                counter=0\n",
    "                \n",
    "            last_loss = avg_loss\n",
    "            if counter > 5:\n",
    "                print('Early Stopping!')\n",
    "                break\n",
    "            else:\n",
    "                if val_score > best_val:\n",
    "                    best_val=val_score\n",
    "                    print('Saving')\n",
    "                    torch.save(model_cnn,\n",
    "                    '/scratch/ps4364/BTMRI/code/cass/cass-r50-label-bMRI-es-frozenheads-{}.pt'.format(fold_idx))\n",
    "    writer.flush()\n",
    "    last_loss=999999999\n",
    "    val_loss_arr=[]\n",
    "    train_loss_arr=[]\n",
    "    counter=0\n",
    "    # Training the Corresponding ViT\n",
    "    model_vit.head=nn.Linear(in_features=768, out_features=4, bias=True)\n",
    "    criterion = FocalLoss(cfg.fl_alpha, cfg.fl_gamma)\n",
    "    metric = MyF1Score(cfg)\n",
    "    optimizer = torch.optim.Adam(filter(lambda p: p.requires_grad, model_vit.parameters()), lr = 3e-4)\n",
    "    scheduler = torch.optim.lr_scheduler.CosineAnnealingLR(optimizer,T_max=cfg.t_max,eta_min=cfg.min_lr)\n",
    "    model_vit.train()\n",
    "    val_metric=MyF1Score(cfg)\n",
    "    writer = SummaryWriter()\n",
    "    from torch.autograd import Variable\n",
    "    best=0\n",
    "    best_val=0\n",
    "    for epoch in tqdm(range(50)):\n",
    "        total_loss = 0\n",
    "        for images,label in train_loader:\n",
    "            model_vit.train()\n",
    "            images = images.to(device)\n",
    "            label = label.to(device)\n",
    "            model_vit.to(device)\n",
    "            pred_ts=model_vit(images)\n",
    "            loss = criterion(pred_ts, label)\n",
    "            score = metric(pred_ts,label)\n",
    "            loss.backward()\n",
    "            optimizer.step()\n",
    "            optimizer.zero_grad()\n",
    "            scheduler.step()\n",
    "            total_loss += loss.detach()\n",
    "        avg_loss=total_loss/ len(train_loader)\n",
    "        train_score=metric.compute()\n",
    "        logs = {'train_loss': loss, 'train_f1': train_score, 'lr': optimizer.param_groups[0]['lr']}\n",
    "        writer.add_scalar(\"ViT Supervised Loss/train\", loss, epoch)\n",
    "        writer.add_scalar(\"ViT Supervised F1/train\", train_score, epoch)\n",
    "        print(logs)\n",
    "        if best < train_score:\n",
    "            best=train_score\n",
    "            model_vit.eval()\n",
    "            total_loss = 0\n",
    "            for images,label in valid_loader:\n",
    "                images = images.to(device)\n",
    "                label = label.to(device)\n",
    "                model_vit.to(device)\n",
    "                pred_ts=model_vit(images)\n",
    "                score_val = val_metric(pred_ts,label)\n",
    "                val_loss = criterion(pred_ts, label)\n",
    "                total_loss += val_loss.detach()\n",
    "            avg_loss=total_loss/ len(train_loader)\n",
    "            val_score=val_metric.compute()\n",
    "            print('ViT Validation Score:',val_score)\n",
    "            print('Val Loss:',avg_loss)\n",
    "            writer.add_scalar(\"ViT Supervised F1/Validation\", val_score, epoch)\n",
    "            if avg_loss > last_loss:\n",
    "                counter+=1\n",
    "            else:\n",
    "                counter=0\n",
    "                \n",
    "            last_loss = avg_loss\n",
    "            if counter > 5:\n",
    "                print('Early Stopping!')\n",
    "                break\n",
    "            else:\n",
    "                if val_score > best_val:\n",
    "                    best_val=val_score\n",
    "                    print('Saving')\n",
    "                    torch.save(model_vit,\n",
    "                                   '/scratch/ps4364/BTMRI/code/cass/cass-vit-frozenheads-bMRI-es-{}.pt'.format(fold_idx))\n",
    "                        \n",
    "        writer.flush()                \n",
    "        print('*'*10)"
   ]
  }
 ],
 "metadata": {
  "kernelspec": {
   "display_name": "Python 3",
   "language": "python",
   "name": "python3"
  },
  "language_info": {
   "codemirror_mode": {
    "name": "ipython",
    "version": 3
   },
   "file_extension": ".py",
   "mimetype": "text/x-python",
   "name": "python",
   "nbconvert_exporter": "python",
   "pygments_lexer": "ipython3",
   "version": "3.8.6"
  }
 },
 "nbformat": 4,
 "nbformat_minor": 4
}
